{
 "cells": [
  {
   "cell_type": "code",
   "execution_count": 11,
   "metadata": {},
   "outputs": [],
   "source": [
    "import matplotlib.pyplot as plt\n",
    "import pandas as pd\n",
    "import plotly.express as px\n",
    "import plotly.graph_objects as go\n",
    "import numpy as np\n",
    "import plotly.colors\n",
    "import wbdata\n",
    "import datetime"
   ]
  },
  {
   "cell_type": "code",
   "execution_count": 12,
   "metadata": {},
   "outputs": [
    {
     "data": {
      "text/html": [
       "<div>\n",
       "<style scoped>\n",
       "    .dataframe tbody tr th:only-of-type {\n",
       "        vertical-align: middle;\n",
       "    }\n",
       "\n",
       "    .dataframe tbody tr th {\n",
       "        vertical-align: top;\n",
       "    }\n",
       "\n",
       "    .dataframe thead th {\n",
       "        text-align: right;\n",
       "    }\n",
       "</style>\n",
       "<table border=\"1\" class=\"dataframe\">\n",
       "  <thead>\n",
       "    <tr style=\"text-align: right;\">\n",
       "      <th></th>\n",
       "      <th>country</th>\n",
       "      <th>year</th>\n",
       "      <th>iso_code</th>\n",
       "      <th>population</th>\n",
       "      <th>gdp</th>\n",
       "      <th>biofuel_cons_change_pct</th>\n",
       "      <th>biofuel_cons_change_twh</th>\n",
       "      <th>biofuel_cons_per_capita</th>\n",
       "      <th>biofuel_consumption</th>\n",
       "      <th>biofuel_elec_per_capita</th>\n",
       "      <th>...</th>\n",
       "      <th>solar_share_elec</th>\n",
       "      <th>solar_share_energy</th>\n",
       "      <th>wind_cons_change_pct</th>\n",
       "      <th>wind_cons_change_twh</th>\n",
       "      <th>wind_consumption</th>\n",
       "      <th>wind_elec_per_capita</th>\n",
       "      <th>wind_electricity</th>\n",
       "      <th>wind_energy_per_capita</th>\n",
       "      <th>wind_share_elec</th>\n",
       "      <th>wind_share_energy</th>\n",
       "    </tr>\n",
       "  </thead>\n",
       "  <tbody>\n",
       "    <tr>\n",
       "      <th>0</th>\n",
       "      <td>ASEAN (Ember)</td>\n",
       "      <td>2000</td>\n",
       "      <td>NaN</td>\n",
       "      <td>NaN</td>\n",
       "      <td>NaN</td>\n",
       "      <td>NaN</td>\n",
       "      <td>NaN</td>\n",
       "      <td>NaN</td>\n",
       "      <td>NaN</td>\n",
       "      <td>NaN</td>\n",
       "      <td>...</td>\n",
       "      <td>0.0</td>\n",
       "      <td>NaN</td>\n",
       "      <td>NaN</td>\n",
       "      <td>NaN</td>\n",
       "      <td>NaN</td>\n",
       "      <td>NaN</td>\n",
       "      <td>0.0</td>\n",
       "      <td>NaN</td>\n",
       "      <td>0.0</td>\n",
       "      <td>NaN</td>\n",
       "    </tr>\n",
       "    <tr>\n",
       "      <th>1</th>\n",
       "      <td>ASEAN (Ember)</td>\n",
       "      <td>2001</td>\n",
       "      <td>NaN</td>\n",
       "      <td>NaN</td>\n",
       "      <td>NaN</td>\n",
       "      <td>NaN</td>\n",
       "      <td>NaN</td>\n",
       "      <td>NaN</td>\n",
       "      <td>NaN</td>\n",
       "      <td>NaN</td>\n",
       "      <td>...</td>\n",
       "      <td>0.0</td>\n",
       "      <td>NaN</td>\n",
       "      <td>NaN</td>\n",
       "      <td>NaN</td>\n",
       "      <td>NaN</td>\n",
       "      <td>NaN</td>\n",
       "      <td>0.0</td>\n",
       "      <td>NaN</td>\n",
       "      <td>0.0</td>\n",
       "      <td>NaN</td>\n",
       "    </tr>\n",
       "    <tr>\n",
       "      <th>2</th>\n",
       "      <td>ASEAN (Ember)</td>\n",
       "      <td>2002</td>\n",
       "      <td>NaN</td>\n",
       "      <td>NaN</td>\n",
       "      <td>NaN</td>\n",
       "      <td>NaN</td>\n",
       "      <td>NaN</td>\n",
       "      <td>NaN</td>\n",
       "      <td>NaN</td>\n",
       "      <td>NaN</td>\n",
       "      <td>...</td>\n",
       "      <td>0.0</td>\n",
       "      <td>NaN</td>\n",
       "      <td>NaN</td>\n",
       "      <td>NaN</td>\n",
       "      <td>NaN</td>\n",
       "      <td>NaN</td>\n",
       "      <td>0.0</td>\n",
       "      <td>NaN</td>\n",
       "      <td>0.0</td>\n",
       "      <td>NaN</td>\n",
       "    </tr>\n",
       "    <tr>\n",
       "      <th>3</th>\n",
       "      <td>ASEAN (Ember)</td>\n",
       "      <td>2003</td>\n",
       "      <td>NaN</td>\n",
       "      <td>NaN</td>\n",
       "      <td>NaN</td>\n",
       "      <td>NaN</td>\n",
       "      <td>NaN</td>\n",
       "      <td>NaN</td>\n",
       "      <td>NaN</td>\n",
       "      <td>NaN</td>\n",
       "      <td>...</td>\n",
       "      <td>0.0</td>\n",
       "      <td>NaN</td>\n",
       "      <td>NaN</td>\n",
       "      <td>NaN</td>\n",
       "      <td>NaN</td>\n",
       "      <td>NaN</td>\n",
       "      <td>0.0</td>\n",
       "      <td>NaN</td>\n",
       "      <td>0.0</td>\n",
       "      <td>NaN</td>\n",
       "    </tr>\n",
       "    <tr>\n",
       "      <th>4</th>\n",
       "      <td>ASEAN (Ember)</td>\n",
       "      <td>2004</td>\n",
       "      <td>NaN</td>\n",
       "      <td>NaN</td>\n",
       "      <td>NaN</td>\n",
       "      <td>NaN</td>\n",
       "      <td>NaN</td>\n",
       "      <td>NaN</td>\n",
       "      <td>NaN</td>\n",
       "      <td>NaN</td>\n",
       "      <td>...</td>\n",
       "      <td>0.0</td>\n",
       "      <td>NaN</td>\n",
       "      <td>NaN</td>\n",
       "      <td>NaN</td>\n",
       "      <td>NaN</td>\n",
       "      <td>NaN</td>\n",
       "      <td>0.0</td>\n",
       "      <td>NaN</td>\n",
       "      <td>0.0</td>\n",
       "      <td>NaN</td>\n",
       "    </tr>\n",
       "  </tbody>\n",
       "</table>\n",
       "<p>5 rows × 129 columns</p>\n",
       "</div>"
      ],
      "text/plain": [
       "         country  year iso_code  population  gdp  biofuel_cons_change_pct  \\\n",
       "0  ASEAN (Ember)  2000      NaN         NaN  NaN                      NaN   \n",
       "1  ASEAN (Ember)  2001      NaN         NaN  NaN                      NaN   \n",
       "2  ASEAN (Ember)  2002      NaN         NaN  NaN                      NaN   \n",
       "3  ASEAN (Ember)  2003      NaN         NaN  NaN                      NaN   \n",
       "4  ASEAN (Ember)  2004      NaN         NaN  NaN                      NaN   \n",
       "\n",
       "   biofuel_cons_change_twh  biofuel_cons_per_capita  biofuel_consumption  \\\n",
       "0                      NaN                      NaN                  NaN   \n",
       "1                      NaN                      NaN                  NaN   \n",
       "2                      NaN                      NaN                  NaN   \n",
       "3                      NaN                      NaN                  NaN   \n",
       "4                      NaN                      NaN                  NaN   \n",
       "\n",
       "   biofuel_elec_per_capita  ...  solar_share_elec  solar_share_energy  \\\n",
       "0                      NaN  ...               0.0                 NaN   \n",
       "1                      NaN  ...               0.0                 NaN   \n",
       "2                      NaN  ...               0.0                 NaN   \n",
       "3                      NaN  ...               0.0                 NaN   \n",
       "4                      NaN  ...               0.0                 NaN   \n",
       "\n",
       "   wind_cons_change_pct  wind_cons_change_twh  wind_consumption  \\\n",
       "0                   NaN                   NaN               NaN   \n",
       "1                   NaN                   NaN               NaN   \n",
       "2                   NaN                   NaN               NaN   \n",
       "3                   NaN                   NaN               NaN   \n",
       "4                   NaN                   NaN               NaN   \n",
       "\n",
       "   wind_elec_per_capita  wind_electricity  wind_energy_per_capita  \\\n",
       "0                   NaN               0.0                     NaN   \n",
       "1                   NaN               0.0                     NaN   \n",
       "2                   NaN               0.0                     NaN   \n",
       "3                   NaN               0.0                     NaN   \n",
       "4                   NaN               0.0                     NaN   \n",
       "\n",
       "   wind_share_elec  wind_share_energy  \n",
       "0              0.0                NaN  \n",
       "1              0.0                NaN  \n",
       "2              0.0                NaN  \n",
       "3              0.0                NaN  \n",
       "4              0.0                NaN  \n",
       "\n",
       "[5 rows x 129 columns]"
      ]
     },
     "execution_count": 12,
     "metadata": {},
     "output_type": "execute_result"
    }
   ],
   "source": [
    "df = pd.read_csv(\"data/World Energy Consumption.csv\")\n",
    "df.head()"
   ]
  },
  {
   "cell_type": "code",
   "execution_count": 13,
   "metadata": {},
   "outputs": [
    {
     "data": {
      "text/html": [
       "<div>\n",
       "<style scoped>\n",
       "    .dataframe tbody tr th:only-of-type {\n",
       "        vertical-align: middle;\n",
       "    }\n",
       "\n",
       "    .dataframe tbody tr th {\n",
       "        vertical-align: top;\n",
       "    }\n",
       "\n",
       "    .dataframe thead th {\n",
       "        text-align: right;\n",
       "    }\n",
       "</style>\n",
       "<table border=\"1\" class=\"dataframe\">\n",
       "  <thead>\n",
       "    <tr style=\"text-align: right;\">\n",
       "      <th></th>\n",
       "      <th>year</th>\n",
       "      <th>population</th>\n",
       "      <th>gdp</th>\n",
       "      <th>biofuel_cons_change_pct</th>\n",
       "      <th>biofuel_cons_change_twh</th>\n",
       "      <th>biofuel_cons_per_capita</th>\n",
       "      <th>biofuel_consumption</th>\n",
       "      <th>biofuel_elec_per_capita</th>\n",
       "      <th>biofuel_electricity</th>\n",
       "      <th>biofuel_share_elec</th>\n",
       "      <th>...</th>\n",
       "      <th>solar_share_elec</th>\n",
       "      <th>solar_share_energy</th>\n",
       "      <th>wind_cons_change_pct</th>\n",
       "      <th>wind_cons_change_twh</th>\n",
       "      <th>wind_consumption</th>\n",
       "      <th>wind_elec_per_capita</th>\n",
       "      <th>wind_electricity</th>\n",
       "      <th>wind_energy_per_capita</th>\n",
       "      <th>wind_share_elec</th>\n",
       "      <th>wind_share_energy</th>\n",
       "    </tr>\n",
       "  </thead>\n",
       "  <tbody>\n",
       "    <tr>\n",
       "      <th>count</th>\n",
       "      <td>22012.000000</td>\n",
       "      <td>1.812300e+04</td>\n",
       "      <td>1.111300e+04</td>\n",
       "      <td>1747.000000</td>\n",
       "      <td>2687.000000</td>\n",
       "      <td>2302.000000</td>\n",
       "      <td>2767.000000</td>\n",
       "      <td>5275.000000</td>\n",
       "      <td>5527.000000</td>\n",
       "      <td>5492.000000</td>\n",
       "      <td>...</td>\n",
       "      <td>6849.000000</td>\n",
       "      <td>4035.000000</td>\n",
       "      <td>2413.000000</td>\n",
       "      <td>4639.000000</td>\n",
       "      <td>4744.000000</td>\n",
       "      <td>7065.000000</td>\n",
       "      <td>7996.000000</td>\n",
       "      <td>4065.000000</td>\n",
       "      <td>6886.000000</td>\n",
       "      <td>4101.000000</td>\n",
       "    </tr>\n",
       "    <tr>\n",
       "      <th>mean</th>\n",
       "      <td>1974.213247</td>\n",
       "      <td>1.053096e+08</td>\n",
       "      <td>3.585114e+11</td>\n",
       "      <td>46.091694</td>\n",
       "      <td>2.719074</td>\n",
       "      <td>133.558459</td>\n",
       "      <td>38.068209</td>\n",
       "      <td>64.716800</td>\n",
       "      <td>10.966685</td>\n",
       "      <td>1.954035</td>\n",
       "      <td>...</td>\n",
       "      <td>0.622750</td>\n",
       "      <td>0.210395</td>\n",
       "      <td>267.541206</td>\n",
       "      <td>7.314174</td>\n",
       "      <td>53.422938</td>\n",
       "      <td>62.811828</td>\n",
       "      <td>17.561153</td>\n",
       "      <td>232.108949</td>\n",
       "      <td>1.404910</td>\n",
       "      <td>0.651413</td>\n",
       "    </tr>\n",
       "    <tr>\n",
       "      <th>std</th>\n",
       "      <td>35.058653</td>\n",
       "      <td>4.640460e+08</td>\n",
       "      <td>2.411179e+12</td>\n",
       "      <td>274.616745</td>\n",
       "      <td>10.057018</td>\n",
       "      <td>264.707851</td>\n",
       "      <td>111.623148</td>\n",
       "      <td>201.043915</td>\n",
       "      <td>47.953561</td>\n",
       "      <td>5.274155</td>\n",
       "      <td>...</td>\n",
       "      <td>2.066186</td>\n",
       "      <td>0.643304</td>\n",
       "      <td>5940.944120</td>\n",
       "      <td>37.327922</td>\n",
       "      <td>273.255306</td>\n",
       "      <td>252.734217</td>\n",
       "      <td>101.693172</td>\n",
       "      <td>733.841324</td>\n",
       "      <td>4.489043</td>\n",
       "      <td>1.893820</td>\n",
       "    </tr>\n",
       "    <tr>\n",
       "      <th>min</th>\n",
       "      <td>1900.000000</td>\n",
       "      <td>1.833000e+03</td>\n",
       "      <td>1.642060e+08</td>\n",
       "      <td>-100.000000</td>\n",
       "      <td>-50.843000</td>\n",
       "      <td>0.000000</td>\n",
       "      <td>0.000000</td>\n",
       "      <td>0.000000</td>\n",
       "      <td>0.000000</td>\n",
       "      <td>0.000000</td>\n",
       "      <td>...</td>\n",
       "      <td>0.000000</td>\n",
       "      <td>0.000000</td>\n",
       "      <td>-100.000000</td>\n",
       "      <td>-51.208000</td>\n",
       "      <td>0.000000</td>\n",
       "      <td>0.000000</td>\n",
       "      <td>0.000000</td>\n",
       "      <td>0.000000</td>\n",
       "      <td>0.000000</td>\n",
       "      <td>0.000000</td>\n",
       "    </tr>\n",
       "    <tr>\n",
       "      <th>25%</th>\n",
       "      <td>1946.000000</td>\n",
       "      <td>1.712404e+06</td>\n",
       "      <td>1.365898e+10</td>\n",
       "      <td>-0.616500</td>\n",
       "      <td>0.000000</td>\n",
       "      <td>0.000000</td>\n",
       "      <td>0.000000</td>\n",
       "      <td>0.000000</td>\n",
       "      <td>0.000000</td>\n",
       "      <td>0.000000</td>\n",
       "      <td>...</td>\n",
       "      <td>0.000000</td>\n",
       "      <td>0.000000</td>\n",
       "      <td>4.029000</td>\n",
       "      <td>0.000000</td>\n",
       "      <td>0.000000</td>\n",
       "      <td>0.000000</td>\n",
       "      <td>0.000000</td>\n",
       "      <td>0.000000</td>\n",
       "      <td>0.000000</td>\n",
       "      <td>0.000000</td>\n",
       "    </tr>\n",
       "    <tr>\n",
       "      <th>50%</th>\n",
       "      <td>1984.000000</td>\n",
       "      <td>6.991543e+06</td>\n",
       "      <td>4.167411e+10</td>\n",
       "      <td>8.179000</td>\n",
       "      <td>0.000000</td>\n",
       "      <td>15.482000</td>\n",
       "      <td>0.673000</td>\n",
       "      <td>0.146000</td>\n",
       "      <td>0.010000</td>\n",
       "      <td>0.062000</td>\n",
       "      <td>...</td>\n",
       "      <td>0.000000</td>\n",
       "      <td>0.000000</td>\n",
       "      <td>20.000000</td>\n",
       "      <td>0.000000</td>\n",
       "      <td>0.005000</td>\n",
       "      <td>0.000000</td>\n",
       "      <td>0.000000</td>\n",
       "      <td>0.051000</td>\n",
       "      <td>0.000000</td>\n",
       "      <td>0.003000</td>\n",
       "    </tr>\n",
       "    <tr>\n",
       "      <th>75%</th>\n",
       "      <td>2003.000000</td>\n",
       "      <td>2.557688e+07</td>\n",
       "      <td>1.744295e+11</td>\n",
       "      <td>26.508500</td>\n",
       "      <td>0.861500</td>\n",
       "      <td>165.266750</td>\n",
       "      <td>13.629500</td>\n",
       "      <td>34.289000</td>\n",
       "      <td>0.690000</td>\n",
       "      <td>1.577500</td>\n",
       "      <td>...</td>\n",
       "      <td>0.095000</td>\n",
       "      <td>0.018500</td>\n",
       "      <td>47.971000</td>\n",
       "      <td>0.315000</td>\n",
       "      <td>2.357750</td>\n",
       "      <td>2.101000</td>\n",
       "      <td>0.140000</td>\n",
       "      <td>45.523000</td>\n",
       "      <td>0.372000</td>\n",
       "      <td>0.268000</td>\n",
       "    </tr>\n",
       "    <tr>\n",
       "      <th>max</th>\n",
       "      <td>2022.000000</td>\n",
       "      <td>7.975105e+09</td>\n",
       "      <td>1.136302e+14</td>\n",
       "      <td>5659.328000</td>\n",
       "      <td>141.131000</td>\n",
       "      <td>2588.512000</td>\n",
       "      <td>1199.207000</td>\n",
       "      <td>2514.102000</td>\n",
       "      <td>677.570000</td>\n",
       "      <td>71.429000</td>\n",
       "      <td>...</td>\n",
       "      <td>40.000000</td>\n",
       "      <td>7.586000</td>\n",
       "      <td>242384.844000</td>\n",
       "      <td>665.413000</td>\n",
       "      <td>5487.600000</td>\n",
       "      <td>3219.852000</td>\n",
       "      <td>2139.230000</td>\n",
       "      <td>8422.012000</td>\n",
       "      <td>56.840000</td>\n",
       "      <td>26.157000</td>\n",
       "    </tr>\n",
       "  </tbody>\n",
       "</table>\n",
       "<p>8 rows × 127 columns</p>\n",
       "</div>"
      ],
      "text/plain": [
       "               year    population           gdp  biofuel_cons_change_pct  \\\n",
       "count  22012.000000  1.812300e+04  1.111300e+04              1747.000000   \n",
       "mean    1974.213247  1.053096e+08  3.585114e+11                46.091694   \n",
       "std       35.058653  4.640460e+08  2.411179e+12               274.616745   \n",
       "min     1900.000000  1.833000e+03  1.642060e+08              -100.000000   \n",
       "25%     1946.000000  1.712404e+06  1.365898e+10                -0.616500   \n",
       "50%     1984.000000  6.991543e+06  4.167411e+10                 8.179000   \n",
       "75%     2003.000000  2.557688e+07  1.744295e+11                26.508500   \n",
       "max     2022.000000  7.975105e+09  1.136302e+14              5659.328000   \n",
       "\n",
       "       biofuel_cons_change_twh  biofuel_cons_per_capita  biofuel_consumption  \\\n",
       "count              2687.000000              2302.000000          2767.000000   \n",
       "mean                  2.719074               133.558459            38.068209   \n",
       "std                  10.057018               264.707851           111.623148   \n",
       "min                 -50.843000                 0.000000             0.000000   \n",
       "25%                   0.000000                 0.000000             0.000000   \n",
       "50%                   0.000000                15.482000             0.673000   \n",
       "75%                   0.861500               165.266750            13.629500   \n",
       "max                 141.131000              2588.512000          1199.207000   \n",
       "\n",
       "       biofuel_elec_per_capita  biofuel_electricity  biofuel_share_elec  ...  \\\n",
       "count              5275.000000          5527.000000         5492.000000  ...   \n",
       "mean                 64.716800            10.966685            1.954035  ...   \n",
       "std                 201.043915            47.953561            5.274155  ...   \n",
       "min                   0.000000             0.000000            0.000000  ...   \n",
       "25%                   0.000000             0.000000            0.000000  ...   \n",
       "50%                   0.146000             0.010000            0.062000  ...   \n",
       "75%                  34.289000             0.690000            1.577500  ...   \n",
       "max                2514.102000           677.570000           71.429000  ...   \n",
       "\n",
       "       solar_share_elec  solar_share_energy  wind_cons_change_pct  \\\n",
       "count       6849.000000         4035.000000           2413.000000   \n",
       "mean           0.622750            0.210395            267.541206   \n",
       "std            2.066186            0.643304           5940.944120   \n",
       "min            0.000000            0.000000           -100.000000   \n",
       "25%            0.000000            0.000000              4.029000   \n",
       "50%            0.000000            0.000000             20.000000   \n",
       "75%            0.095000            0.018500             47.971000   \n",
       "max           40.000000            7.586000         242384.844000   \n",
       "\n",
       "       wind_cons_change_twh  wind_consumption  wind_elec_per_capita  \\\n",
       "count           4639.000000       4744.000000           7065.000000   \n",
       "mean               7.314174         53.422938             62.811828   \n",
       "std               37.327922        273.255306            252.734217   \n",
       "min              -51.208000          0.000000              0.000000   \n",
       "25%                0.000000          0.000000              0.000000   \n",
       "50%                0.000000          0.005000              0.000000   \n",
       "75%                0.315000          2.357750              2.101000   \n",
       "max              665.413000       5487.600000           3219.852000   \n",
       "\n",
       "       wind_electricity  wind_energy_per_capita  wind_share_elec  \\\n",
       "count       7996.000000             4065.000000      6886.000000   \n",
       "mean          17.561153              232.108949         1.404910   \n",
       "std          101.693172              733.841324         4.489043   \n",
       "min            0.000000                0.000000         0.000000   \n",
       "25%            0.000000                0.000000         0.000000   \n",
       "50%            0.000000                0.051000         0.000000   \n",
       "75%            0.140000               45.523000         0.372000   \n",
       "max         2139.230000             8422.012000        56.840000   \n",
       "\n",
       "       wind_share_energy  \n",
       "count        4101.000000  \n",
       "mean            0.651413  \n",
       "std             1.893820  \n",
       "min             0.000000  \n",
       "25%             0.000000  \n",
       "50%             0.003000  \n",
       "75%             0.268000  \n",
       "max            26.157000  \n",
       "\n",
       "[8 rows x 127 columns]"
      ]
     },
     "execution_count": 13,
     "metadata": {},
     "output_type": "execute_result"
    }
   ],
   "source": [
    "df.describe()"
   ]
  },
  {
   "cell_type": "code",
   "execution_count": 14,
   "metadata": {},
   "outputs": [
    {
     "data": {
      "text/plain": [
       "129"
      ]
     },
     "execution_count": 14,
     "metadata": {},
     "output_type": "execute_result"
    }
   ],
   "source": [
    "len(df.columns)"
   ]
  },
  {
   "cell_type": "code",
   "execution_count": 15,
   "metadata": {},
   "outputs": [
    {
     "data": {
      "text/plain": [
       "35"
      ]
     },
     "execution_count": 15,
     "metadata": {},
     "output_type": "execute_result"
    }
   ],
   "source": [
    "#Filtering required columns only including one with resource consumption and electricity.\n",
    "col_list = df.columns\n",
    "consumption_list = ['country','year','iso_code','gdp','population']\n",
    "for col in col_list:\n",
    "    name = col.split('_')\n",
    "\n",
    "    for val in name:\n",
    "        if val=='consumption' or val=='electricity':\n",
    "            consumption_list.append(col)\n",
    "\n",
    "len(consumption_list)"
   ]
  },
  {
   "cell_type": "code",
   "execution_count": 16,
   "metadata": {},
   "outputs": [
    {
     "data": {
      "text/html": [
       "<div>\n",
       "<style scoped>\n",
       "    .dataframe tbody tr th:only-of-type {\n",
       "        vertical-align: middle;\n",
       "    }\n",
       "\n",
       "    .dataframe tbody tr th {\n",
       "        vertical-align: top;\n",
       "    }\n",
       "\n",
       "    .dataframe thead th {\n",
       "        text-align: right;\n",
       "    }\n",
       "</style>\n",
       "<table border=\"1\" class=\"dataframe\">\n",
       "  <thead>\n",
       "    <tr style=\"text-align: right;\">\n",
       "      <th></th>\n",
       "      <th>country</th>\n",
       "      <th>year</th>\n",
       "      <th>iso_code</th>\n",
       "      <th>gdp</th>\n",
       "      <th>population</th>\n",
       "      <th>biofuel_consumption</th>\n",
       "      <th>biofuel_electricity</th>\n",
       "      <th>coal_consumption</th>\n",
       "      <th>coal_electricity</th>\n",
       "      <th>electricity_demand</th>\n",
       "      <th>...</th>\n",
       "      <th>other_renewable_electricity</th>\n",
       "      <th>other_renewable_exc_biofuel_electricity</th>\n",
       "      <th>per_capita_electricity</th>\n",
       "      <th>primary_energy_consumption</th>\n",
       "      <th>renewables_consumption</th>\n",
       "      <th>renewables_electricity</th>\n",
       "      <th>solar_consumption</th>\n",
       "      <th>solar_electricity</th>\n",
       "      <th>wind_consumption</th>\n",
       "      <th>wind_electricity</th>\n",
       "    </tr>\n",
       "  </thead>\n",
       "  <tbody>\n",
       "    <tr>\n",
       "      <th>0</th>\n",
       "      <td>ASEAN (Ember)</td>\n",
       "      <td>2000</td>\n",
       "      <td>NaN</td>\n",
       "      <td>NaN</td>\n",
       "      <td>NaN</td>\n",
       "      <td>NaN</td>\n",
       "      <td>5.60</td>\n",
       "      <td>NaN</td>\n",
       "      <td>71.03</td>\n",
       "      <td>368.65</td>\n",
       "      <td>...</td>\n",
       "      <td>22.53</td>\n",
       "      <td>16.93</td>\n",
       "      <td>NaN</td>\n",
       "      <td>NaN</td>\n",
       "      <td>NaN</td>\n",
       "      <td>72.90</td>\n",
       "      <td>NaN</td>\n",
       "      <td>0.0</td>\n",
       "      <td>NaN</td>\n",
       "      <td>0.0</td>\n",
       "    </tr>\n",
       "    <tr>\n",
       "      <th>1</th>\n",
       "      <td>ASEAN (Ember)</td>\n",
       "      <td>2001</td>\n",
       "      <td>NaN</td>\n",
       "      <td>NaN</td>\n",
       "      <td>NaN</td>\n",
       "      <td>NaN</td>\n",
       "      <td>6.02</td>\n",
       "      <td>NaN</td>\n",
       "      <td>80.02</td>\n",
       "      <td>397.19</td>\n",
       "      <td>...</td>\n",
       "      <td>22.42</td>\n",
       "      <td>16.40</td>\n",
       "      <td>NaN</td>\n",
       "      <td>NaN</td>\n",
       "      <td>NaN</td>\n",
       "      <td>76.68</td>\n",
       "      <td>NaN</td>\n",
       "      <td>0.0</td>\n",
       "      <td>NaN</td>\n",
       "      <td>0.0</td>\n",
       "    </tr>\n",
       "    <tr>\n",
       "      <th>2</th>\n",
       "      <td>ASEAN (Ember)</td>\n",
       "      <td>2002</td>\n",
       "      <td>NaN</td>\n",
       "      <td>NaN</td>\n",
       "      <td>NaN</td>\n",
       "      <td>NaN</td>\n",
       "      <td>6.06</td>\n",
       "      <td>NaN</td>\n",
       "      <td>87.16</td>\n",
       "      <td>422.82</td>\n",
       "      <td>...</td>\n",
       "      <td>22.67</td>\n",
       "      <td>16.61</td>\n",
       "      <td>NaN</td>\n",
       "      <td>NaN</td>\n",
       "      <td>NaN</td>\n",
       "      <td>75.99</td>\n",
       "      <td>NaN</td>\n",
       "      <td>0.0</td>\n",
       "      <td>NaN</td>\n",
       "      <td>0.0</td>\n",
       "    </tr>\n",
       "    <tr>\n",
       "      <th>3</th>\n",
       "      <td>ASEAN (Ember)</td>\n",
       "      <td>2003</td>\n",
       "      <td>NaN</td>\n",
       "      <td>NaN</td>\n",
       "      <td>NaN</td>\n",
       "      <td>NaN</td>\n",
       "      <td>6.69</td>\n",
       "      <td>NaN</td>\n",
       "      <td>98.51</td>\n",
       "      <td>447.15</td>\n",
       "      <td>...</td>\n",
       "      <td>22.43</td>\n",
       "      <td>15.74</td>\n",
       "      <td>NaN</td>\n",
       "      <td>NaN</td>\n",
       "      <td>NaN</td>\n",
       "      <td>75.71</td>\n",
       "      <td>NaN</td>\n",
       "      <td>0.0</td>\n",
       "      <td>NaN</td>\n",
       "      <td>0.0</td>\n",
       "    </tr>\n",
       "    <tr>\n",
       "      <th>4</th>\n",
       "      <td>ASEAN (Ember)</td>\n",
       "      <td>2004</td>\n",
       "      <td>NaN</td>\n",
       "      <td>NaN</td>\n",
       "      <td>NaN</td>\n",
       "      <td>NaN</td>\n",
       "      <td>7.57</td>\n",
       "      <td>NaN</td>\n",
       "      <td>111.62</td>\n",
       "      <td>484.94</td>\n",
       "      <td>...</td>\n",
       "      <td>24.14</td>\n",
       "      <td>16.57</td>\n",
       "      <td>NaN</td>\n",
       "      <td>NaN</td>\n",
       "      <td>NaN</td>\n",
       "      <td>77.02</td>\n",
       "      <td>NaN</td>\n",
       "      <td>0.0</td>\n",
       "      <td>NaN</td>\n",
       "      <td>0.0</td>\n",
       "    </tr>\n",
       "  </tbody>\n",
       "</table>\n",
       "<p>5 rows × 35 columns</p>\n",
       "</div>"
      ],
      "text/plain": [
       "         country  year iso_code  gdp  population  biofuel_consumption  \\\n",
       "0  ASEAN (Ember)  2000      NaN  NaN         NaN                  NaN   \n",
       "1  ASEAN (Ember)  2001      NaN  NaN         NaN                  NaN   \n",
       "2  ASEAN (Ember)  2002      NaN  NaN         NaN                  NaN   \n",
       "3  ASEAN (Ember)  2003      NaN  NaN         NaN                  NaN   \n",
       "4  ASEAN (Ember)  2004      NaN  NaN         NaN                  NaN   \n",
       "\n",
       "   biofuel_electricity  coal_consumption  coal_electricity  \\\n",
       "0                 5.60               NaN             71.03   \n",
       "1                 6.02               NaN             80.02   \n",
       "2                 6.06               NaN             87.16   \n",
       "3                 6.69               NaN             98.51   \n",
       "4                 7.57               NaN            111.62   \n",
       "\n",
       "   electricity_demand  ...  other_renewable_electricity  \\\n",
       "0              368.65  ...                        22.53   \n",
       "1              397.19  ...                        22.42   \n",
       "2              422.82  ...                        22.67   \n",
       "3              447.15  ...                        22.43   \n",
       "4              484.94  ...                        24.14   \n",
       "\n",
       "   other_renewable_exc_biofuel_electricity  per_capita_electricity  \\\n",
       "0                                    16.93                     NaN   \n",
       "1                                    16.40                     NaN   \n",
       "2                                    16.61                     NaN   \n",
       "3                                    15.74                     NaN   \n",
       "4                                    16.57                     NaN   \n",
       "\n",
       "   primary_energy_consumption  renewables_consumption  renewables_electricity  \\\n",
       "0                         NaN                     NaN                   72.90   \n",
       "1                         NaN                     NaN                   76.68   \n",
       "2                         NaN                     NaN                   75.99   \n",
       "3                         NaN                     NaN                   75.71   \n",
       "4                         NaN                     NaN                   77.02   \n",
       "\n",
       "   solar_consumption  solar_electricity  wind_consumption  wind_electricity  \n",
       "0                NaN                0.0               NaN               0.0  \n",
       "1                NaN                0.0               NaN               0.0  \n",
       "2                NaN                0.0               NaN               0.0  \n",
       "3                NaN                0.0               NaN               0.0  \n",
       "4                NaN                0.0               NaN               0.0  \n",
       "\n",
       "[5 rows x 35 columns]"
      ]
     },
     "execution_count": 16,
     "metadata": {},
     "output_type": "execute_result"
    }
   ],
   "source": [
    "energy_data = pd.DataFrame(df[consumption_list])\n",
    "energy_data.head()"
   ]
  },
  {
   "cell_type": "code",
   "execution_count": 17,
   "metadata": {},
   "outputs": [],
   "source": [
    "energy_data = energy_data[energy_data['iso_code'].isna()==False]\n",
    "energy_data = energy_data[energy_data['year'].between(2000,2025)]"
   ]
  },
  {
   "cell_type": "code",
   "execution_count": 18,
   "metadata": {},
   "outputs": [],
   "source": [
    "energy_data = energy_data.reset_index(drop=True)"
   ]
  },
  {
   "cell_type": "code",
   "execution_count": 19,
   "metadata": {},
   "outputs": [
    {
     "data": {
      "text/html": [
       "<div>\n",
       "<style scoped>\n",
       "    .dataframe tbody tr th:only-of-type {\n",
       "        vertical-align: middle;\n",
       "    }\n",
       "\n",
       "    .dataframe tbody tr th {\n",
       "        vertical-align: top;\n",
       "    }\n",
       "\n",
       "    .dataframe thead th {\n",
       "        text-align: right;\n",
       "    }\n",
       "</style>\n",
       "<table border=\"1\" class=\"dataframe\">\n",
       "  <thead>\n",
       "    <tr style=\"text-align: right;\">\n",
       "      <th></th>\n",
       "      <th>country</th>\n",
       "      <th>year</th>\n",
       "      <th>iso_code</th>\n",
       "      <th>gdp</th>\n",
       "      <th>population</th>\n",
       "      <th>biofuel_consumption</th>\n",
       "      <th>biofuel_electricity</th>\n",
       "      <th>coal_consumption</th>\n",
       "      <th>coal_electricity</th>\n",
       "      <th>electricity_demand</th>\n",
       "      <th>...</th>\n",
       "      <th>other_renewable_electricity</th>\n",
       "      <th>other_renewable_exc_biofuel_electricity</th>\n",
       "      <th>per_capita_electricity</th>\n",
       "      <th>primary_energy_consumption</th>\n",
       "      <th>renewables_consumption</th>\n",
       "      <th>renewables_electricity</th>\n",
       "      <th>solar_consumption</th>\n",
       "      <th>solar_electricity</th>\n",
       "      <th>wind_consumption</th>\n",
       "      <th>wind_electricity</th>\n",
       "    </tr>\n",
       "  </thead>\n",
       "  <tbody>\n",
       "    <tr>\n",
       "      <th>0</th>\n",
       "      <td>Afghanistan</td>\n",
       "      <td>2000</td>\n",
       "      <td>AFG</td>\n",
       "      <td>1.128379e+10</td>\n",
       "      <td>19542986.0</td>\n",
       "      <td>0.0</td>\n",
       "      <td>0.0</td>\n",
       "      <td>0.0</td>\n",
       "      <td>0.0</td>\n",
       "      <td>0.57</td>\n",
       "      <td>...</td>\n",
       "      <td>0.0</td>\n",
       "      <td>0.0</td>\n",
       "      <td>24.050</td>\n",
       "      <td>5.914</td>\n",
       "      <td>0.0</td>\n",
       "      <td>0.31</td>\n",
       "      <td>0.0</td>\n",
       "      <td>0.0</td>\n",
       "      <td>0.0</td>\n",
       "      <td>0.0</td>\n",
       "    </tr>\n",
       "    <tr>\n",
       "      <th>1</th>\n",
       "      <td>Afghanistan</td>\n",
       "      <td>2001</td>\n",
       "      <td>AFG</td>\n",
       "      <td>1.102127e+10</td>\n",
       "      <td>19688634.0</td>\n",
       "      <td>0.0</td>\n",
       "      <td>0.0</td>\n",
       "      <td>0.0</td>\n",
       "      <td>0.0</td>\n",
       "      <td>0.69</td>\n",
       "      <td>...</td>\n",
       "      <td>0.0</td>\n",
       "      <td>0.0</td>\n",
       "      <td>29.967</td>\n",
       "      <td>4.664</td>\n",
       "      <td>0.0</td>\n",
       "      <td>0.50</td>\n",
       "      <td>0.0</td>\n",
       "      <td>0.0</td>\n",
       "      <td>0.0</td>\n",
       "      <td>0.0</td>\n",
       "    </tr>\n",
       "    <tr>\n",
       "      <th>2</th>\n",
       "      <td>Afghanistan</td>\n",
       "      <td>2002</td>\n",
       "      <td>AFG</td>\n",
       "      <td>1.880487e+10</td>\n",
       "      <td>21000258.0</td>\n",
       "      <td>0.0</td>\n",
       "      <td>0.0</td>\n",
       "      <td>0.0</td>\n",
       "      <td>0.0</td>\n",
       "      <td>0.79</td>\n",
       "      <td>...</td>\n",
       "      <td>0.0</td>\n",
       "      <td>0.0</td>\n",
       "      <td>32.857</td>\n",
       "      <td>4.428</td>\n",
       "      <td>0.0</td>\n",
       "      <td>0.56</td>\n",
       "      <td>0.0</td>\n",
       "      <td>0.0</td>\n",
       "      <td>0.0</td>\n",
       "      <td>0.0</td>\n",
       "    </tr>\n",
       "    <tr>\n",
       "      <th>3</th>\n",
       "      <td>Afghanistan</td>\n",
       "      <td>2003</td>\n",
       "      <td>AFG</td>\n",
       "      <td>2.107434e+10</td>\n",
       "      <td>22645136.0</td>\n",
       "      <td>0.0</td>\n",
       "      <td>0.0</td>\n",
       "      <td>0.0</td>\n",
       "      <td>0.0</td>\n",
       "      <td>1.04</td>\n",
       "      <td>...</td>\n",
       "      <td>0.0</td>\n",
       "      <td>0.0</td>\n",
       "      <td>41.510</td>\n",
       "      <td>5.208</td>\n",
       "      <td>0.0</td>\n",
       "      <td>0.63</td>\n",
       "      <td>0.0</td>\n",
       "      <td>0.0</td>\n",
       "      <td>0.0</td>\n",
       "      <td>0.0</td>\n",
       "    </tr>\n",
       "    <tr>\n",
       "      <th>4</th>\n",
       "      <td>Afghanistan</td>\n",
       "      <td>2004</td>\n",
       "      <td>AFG</td>\n",
       "      <td>2.233257e+10</td>\n",
       "      <td>23553554.0</td>\n",
       "      <td>0.0</td>\n",
       "      <td>0.0</td>\n",
       "      <td>0.0</td>\n",
       "      <td>0.0</td>\n",
       "      <td>0.99</td>\n",
       "      <td>...</td>\n",
       "      <td>0.0</td>\n",
       "      <td>0.0</td>\n",
       "      <td>37.786</td>\n",
       "      <td>4.810</td>\n",
       "      <td>0.0</td>\n",
       "      <td>0.56</td>\n",
       "      <td>0.0</td>\n",
       "      <td>0.0</td>\n",
       "      <td>0.0</td>\n",
       "      <td>0.0</td>\n",
       "    </tr>\n",
       "  </tbody>\n",
       "</table>\n",
       "<p>5 rows × 35 columns</p>\n",
       "</div>"
      ],
      "text/plain": [
       "       country  year iso_code           gdp  population  biofuel_consumption  \\\n",
       "0  Afghanistan  2000      AFG  1.128379e+10  19542986.0                  0.0   \n",
       "1  Afghanistan  2001      AFG  1.102127e+10  19688634.0                  0.0   \n",
       "2  Afghanistan  2002      AFG  1.880487e+10  21000258.0                  0.0   \n",
       "3  Afghanistan  2003      AFG  2.107434e+10  22645136.0                  0.0   \n",
       "4  Afghanistan  2004      AFG  2.233257e+10  23553554.0                  0.0   \n",
       "\n",
       "   biofuel_electricity  coal_consumption  coal_electricity  \\\n",
       "0                  0.0               0.0               0.0   \n",
       "1                  0.0               0.0               0.0   \n",
       "2                  0.0               0.0               0.0   \n",
       "3                  0.0               0.0               0.0   \n",
       "4                  0.0               0.0               0.0   \n",
       "\n",
       "   electricity_demand  ...  other_renewable_electricity  \\\n",
       "0                0.57  ...                          0.0   \n",
       "1                0.69  ...                          0.0   \n",
       "2                0.79  ...                          0.0   \n",
       "3                1.04  ...                          0.0   \n",
       "4                0.99  ...                          0.0   \n",
       "\n",
       "   other_renewable_exc_biofuel_electricity  per_capita_electricity  \\\n",
       "0                                      0.0                  24.050   \n",
       "1                                      0.0                  29.967   \n",
       "2                                      0.0                  32.857   \n",
       "3                                      0.0                  41.510   \n",
       "4                                      0.0                  37.786   \n",
       "\n",
       "   primary_energy_consumption  renewables_consumption  renewables_electricity  \\\n",
       "0                       5.914                     0.0                    0.31   \n",
       "1                       4.664                     0.0                    0.50   \n",
       "2                       4.428                     0.0                    0.56   \n",
       "3                       5.208                     0.0                    0.63   \n",
       "4                       4.810                     0.0                    0.56   \n",
       "\n",
       "   solar_consumption  solar_electricity  wind_consumption  wind_electricity  \n",
       "0                0.0                0.0               0.0               0.0  \n",
       "1                0.0                0.0               0.0               0.0  \n",
       "2                0.0                0.0               0.0               0.0  \n",
       "3                0.0                0.0               0.0               0.0  \n",
       "4                0.0                0.0               0.0               0.0  \n",
       "\n",
       "[5 rows x 35 columns]"
      ]
     },
     "execution_count": 19,
     "metadata": {},
     "output_type": "execute_result"
    }
   ],
   "source": [
    "energy_data[energy_data.select_dtypes(include=['number']).columns] = energy_data.select_dtypes(include=['number']).fillna(0.0)\n",
    "energy_data.head()"
   ]
  },
  {
   "cell_type": "code",
   "execution_count": 20,
   "metadata": {},
   "outputs": [
    {
     "data": {
      "text/html": [
       "<div>\n",
       "<style scoped>\n",
       "    .dataframe tbody tr th:only-of-type {\n",
       "        vertical-align: middle;\n",
       "    }\n",
       "\n",
       "    .dataframe tbody tr th {\n",
       "        vertical-align: top;\n",
       "    }\n",
       "\n",
       "    .dataframe thead th {\n",
       "        text-align: right;\n",
       "    }\n",
       "</style>\n",
       "<table border=\"1\" class=\"dataframe\">\n",
       "  <thead>\n",
       "    <tr style=\"text-align: right;\">\n",
       "      <th></th>\n",
       "      <th>country</th>\n",
       "      <th>year</th>\n",
       "      <th>iso_code</th>\n",
       "      <th>gdp</th>\n",
       "      <th>population</th>\n",
       "      <th>biofuel_consumption</th>\n",
       "      <th>biofuel_electricity</th>\n",
       "      <th>coal_consumption</th>\n",
       "      <th>coal_electricity</th>\n",
       "      <th>electricity_demand</th>\n",
       "      <th>...</th>\n",
       "      <th>other_renewable_exc_biofuel_electricity</th>\n",
       "      <th>per_capita_electricity</th>\n",
       "      <th>primary_energy_consumption</th>\n",
       "      <th>renewables_consumption</th>\n",
       "      <th>renewables_electricity</th>\n",
       "      <th>solar_consumption</th>\n",
       "      <th>solar_electricity</th>\n",
       "      <th>wind_consumption</th>\n",
       "      <th>wind_electricity</th>\n",
       "      <th>GNI</th>\n",
       "    </tr>\n",
       "  </thead>\n",
       "  <tbody>\n",
       "    <tr>\n",
       "      <th>0</th>\n",
       "      <td>Afghanistan</td>\n",
       "      <td>2000</td>\n",
       "      <td>AFG</td>\n",
       "      <td>1.128379e+10</td>\n",
       "      <td>19542986.0</td>\n",
       "      <td>0.0</td>\n",
       "      <td>0.0</td>\n",
       "      <td>0.0</td>\n",
       "      <td>0.0</td>\n",
       "      <td>0.57</td>\n",
       "      <td>...</td>\n",
       "      <td>0.0</td>\n",
       "      <td>24.050</td>\n",
       "      <td>5.914</td>\n",
       "      <td>0.0</td>\n",
       "      <td>0.31</td>\n",
       "      <td>0.0</td>\n",
       "      <td>0.0</td>\n",
       "      <td>0.0</td>\n",
       "      <td>0.0</td>\n",
       "      <td>NaN</td>\n",
       "    </tr>\n",
       "    <tr>\n",
       "      <th>1</th>\n",
       "      <td>Afghanistan</td>\n",
       "      <td>2001</td>\n",
       "      <td>AFG</td>\n",
       "      <td>1.102127e+10</td>\n",
       "      <td>19688634.0</td>\n",
       "      <td>0.0</td>\n",
       "      <td>0.0</td>\n",
       "      <td>0.0</td>\n",
       "      <td>0.0</td>\n",
       "      <td>0.69</td>\n",
       "      <td>...</td>\n",
       "      <td>0.0</td>\n",
       "      <td>29.967</td>\n",
       "      <td>4.664</td>\n",
       "      <td>0.0</td>\n",
       "      <td>0.50</td>\n",
       "      <td>0.0</td>\n",
       "      <td>0.0</td>\n",
       "      <td>0.0</td>\n",
       "      <td>0.0</td>\n",
       "      <td>NaN</td>\n",
       "    </tr>\n",
       "    <tr>\n",
       "      <th>2</th>\n",
       "      <td>Afghanistan</td>\n",
       "      <td>2002</td>\n",
       "      <td>AFG</td>\n",
       "      <td>1.880487e+10</td>\n",
       "      <td>21000258.0</td>\n",
       "      <td>0.0</td>\n",
       "      <td>0.0</td>\n",
       "      <td>0.0</td>\n",
       "      <td>0.0</td>\n",
       "      <td>0.79</td>\n",
       "      <td>...</td>\n",
       "      <td>0.0</td>\n",
       "      <td>32.857</td>\n",
       "      <td>4.428</td>\n",
       "      <td>0.0</td>\n",
       "      <td>0.56</td>\n",
       "      <td>0.0</td>\n",
       "      <td>0.0</td>\n",
       "      <td>0.0</td>\n",
       "      <td>0.0</td>\n",
       "      <td>180.0</td>\n",
       "    </tr>\n",
       "    <tr>\n",
       "      <th>3</th>\n",
       "      <td>Afghanistan</td>\n",
       "      <td>2003</td>\n",
       "      <td>AFG</td>\n",
       "      <td>2.107434e+10</td>\n",
       "      <td>22645136.0</td>\n",
       "      <td>0.0</td>\n",
       "      <td>0.0</td>\n",
       "      <td>0.0</td>\n",
       "      <td>0.0</td>\n",
       "      <td>1.04</td>\n",
       "      <td>...</td>\n",
       "      <td>0.0</td>\n",
       "      <td>41.510</td>\n",
       "      <td>5.208</td>\n",
       "      <td>0.0</td>\n",
       "      <td>0.63</td>\n",
       "      <td>0.0</td>\n",
       "      <td>0.0</td>\n",
       "      <td>0.0</td>\n",
       "      <td>0.0</td>\n",
       "      <td>190.0</td>\n",
       "    </tr>\n",
       "    <tr>\n",
       "      <th>4</th>\n",
       "      <td>Afghanistan</td>\n",
       "      <td>2004</td>\n",
       "      <td>AFG</td>\n",
       "      <td>2.233257e+10</td>\n",
       "      <td>23553554.0</td>\n",
       "      <td>0.0</td>\n",
       "      <td>0.0</td>\n",
       "      <td>0.0</td>\n",
       "      <td>0.0</td>\n",
       "      <td>0.99</td>\n",
       "      <td>...</td>\n",
       "      <td>0.0</td>\n",
       "      <td>37.786</td>\n",
       "      <td>4.810</td>\n",
       "      <td>0.0</td>\n",
       "      <td>0.56</td>\n",
       "      <td>0.0</td>\n",
       "      <td>0.0</td>\n",
       "      <td>0.0</td>\n",
       "      <td>0.0</td>\n",
       "      <td>210.0</td>\n",
       "    </tr>\n",
       "  </tbody>\n",
       "</table>\n",
       "<p>5 rows × 36 columns</p>\n",
       "</div>"
      ],
      "text/plain": [
       "       country  year iso_code           gdp  population  biofuel_consumption  \\\n",
       "0  Afghanistan  2000      AFG  1.128379e+10  19542986.0                  0.0   \n",
       "1  Afghanistan  2001      AFG  1.102127e+10  19688634.0                  0.0   \n",
       "2  Afghanistan  2002      AFG  1.880487e+10  21000258.0                  0.0   \n",
       "3  Afghanistan  2003      AFG  2.107434e+10  22645136.0                  0.0   \n",
       "4  Afghanistan  2004      AFG  2.233257e+10  23553554.0                  0.0   \n",
       "\n",
       "   biofuel_electricity  coal_consumption  coal_electricity  \\\n",
       "0                  0.0               0.0               0.0   \n",
       "1                  0.0               0.0               0.0   \n",
       "2                  0.0               0.0               0.0   \n",
       "3                  0.0               0.0               0.0   \n",
       "4                  0.0               0.0               0.0   \n",
       "\n",
       "   electricity_demand  ...  other_renewable_exc_biofuel_electricity  \\\n",
       "0                0.57  ...                                      0.0   \n",
       "1                0.69  ...                                      0.0   \n",
       "2                0.79  ...                                      0.0   \n",
       "3                1.04  ...                                      0.0   \n",
       "4                0.99  ...                                      0.0   \n",
       "\n",
       "   per_capita_electricity  primary_energy_consumption  renewables_consumption  \\\n",
       "0                  24.050                       5.914                     0.0   \n",
       "1                  29.967                       4.664                     0.0   \n",
       "2                  32.857                       4.428                     0.0   \n",
       "3                  41.510                       5.208                     0.0   \n",
       "4                  37.786                       4.810                     0.0   \n",
       "\n",
       "   renewables_electricity  solar_consumption  solar_electricity  \\\n",
       "0                    0.31                0.0                0.0   \n",
       "1                    0.50                0.0                0.0   \n",
       "2                    0.56                0.0                0.0   \n",
       "3                    0.63                0.0                0.0   \n",
       "4                    0.56                0.0                0.0   \n",
       "\n",
       "   wind_consumption  wind_electricity    GNI  \n",
       "0               0.0               0.0    NaN  \n",
       "1               0.0               0.0    NaN  \n",
       "2               0.0               0.0  180.0  \n",
       "3               0.0               0.0  190.0  \n",
       "4               0.0               0.0  210.0  \n",
       "\n",
       "[5 rows x 36 columns]"
      ]
     },
     "execution_count": 20,
     "metadata": {},
     "output_type": "execute_result"
    }
   ],
   "source": [
    "#Adding GNI(Gross National Income (GNI) is a key economic indicator that measures the total income received by a country's residents\n",
    "def GNI_cal(iso_code, year):\n",
    "    \"\"\"function to calculate the GNI for a country\"\"\"\n",
    "    indicator = {'NY.GNP.PCAP.CD': 'GNI per capita (current US$)'}\n",
    "    start_date = datetime.datetime(year, 1, 1)\n",
    "    try:\n",
    "        gni_data = wbdata.get_dataframe(indicator, country=iso_code, date=(start_date))\n",
    "        if not gni_data.empty:\n",
    "            return gni_data['GNI per capita (current US$)'].iloc[0] #access the value using .iloc[0]\n",
    "        else:\n",
    "            return None # Return None when data is not available.\n",
    "    except Exception as e:\n",
    "        return None \n",
    "\n",
    "energy_data['GNI']= energy_data.apply(lambda row: GNI_cal(row['iso_code'],row['year']), axis=1)\n",
    "energy_data.head()"
   ]
  },
  {
   "cell_type": "code",
   "execution_count": 21,
   "metadata": {},
   "outputs": [],
   "source": [
    "#Classifying the Countries to a Socio-Economic Status\n",
    "def classify_gni(gni):\n",
    "    \"\"\"Classify the Countries to a Socio-Economic Status Based on the GNI\"\"\"\n",
    "    if gni <= 1045:\n",
    "        return 'Low-income'\n",
    "    elif 1046 <= gni <= 4095:\n",
    "        return 'Lower-middle-income'\n",
    "    elif 4096 <= gni <= 12695:\n",
    "        return 'Upper-middle-income'\n",
    "    elif gni > 12695:\n",
    "        return 'High-income'\n",
    "    else:\n",
    "        'Not Available'\n",
    "    \n",
    "energy_data['Socio-Economic Status'] = energy_data['GNI'].apply(classify_gni)"
   ]
  },
  {
   "cell_type": "code",
   "execution_count": 22,
   "metadata": {},
   "outputs": [
    {
     "data": {
      "text/html": [
       "<div>\n",
       "<style scoped>\n",
       "    .dataframe tbody tr th:only-of-type {\n",
       "        vertical-align: middle;\n",
       "    }\n",
       "\n",
       "    .dataframe tbody tr th {\n",
       "        vertical-align: top;\n",
       "    }\n",
       "\n",
       "    .dataframe thead th {\n",
       "        text-align: right;\n",
       "    }\n",
       "</style>\n",
       "<table border=\"1\" class=\"dataframe\">\n",
       "  <thead>\n",
       "    <tr style=\"text-align: right;\">\n",
       "      <th></th>\n",
       "      <th>country</th>\n",
       "      <th>year</th>\n",
       "      <th>iso_code</th>\n",
       "      <th>gdp</th>\n",
       "      <th>population</th>\n",
       "      <th>biofuel_consumption</th>\n",
       "      <th>biofuel_electricity</th>\n",
       "      <th>coal_consumption</th>\n",
       "      <th>coal_electricity</th>\n",
       "      <th>electricity_demand</th>\n",
       "      <th>...</th>\n",
       "      <th>per_capita_electricity</th>\n",
       "      <th>primary_energy_consumption</th>\n",
       "      <th>renewables_consumption</th>\n",
       "      <th>renewables_electricity</th>\n",
       "      <th>solar_consumption</th>\n",
       "      <th>solar_electricity</th>\n",
       "      <th>wind_consumption</th>\n",
       "      <th>wind_electricity</th>\n",
       "      <th>GNI</th>\n",
       "      <th>Socio-Economic Status</th>\n",
       "    </tr>\n",
       "  </thead>\n",
       "  <tbody>\n",
       "    <tr>\n",
       "      <th>0</th>\n",
       "      <td>Afghanistan</td>\n",
       "      <td>2000</td>\n",
       "      <td>AFG</td>\n",
       "      <td>1.128379e+10</td>\n",
       "      <td>19542986.0</td>\n",
       "      <td>0.0</td>\n",
       "      <td>0.0</td>\n",
       "      <td>0.0</td>\n",
       "      <td>0.0</td>\n",
       "      <td>0.57</td>\n",
       "      <td>...</td>\n",
       "      <td>24.050</td>\n",
       "      <td>5.914</td>\n",
       "      <td>0.0</td>\n",
       "      <td>0.31</td>\n",
       "      <td>0.0</td>\n",
       "      <td>0.0</td>\n",
       "      <td>0.0</td>\n",
       "      <td>0.0</td>\n",
       "      <td>NaN</td>\n",
       "      <td>None</td>\n",
       "    </tr>\n",
       "    <tr>\n",
       "      <th>1</th>\n",
       "      <td>Afghanistan</td>\n",
       "      <td>2001</td>\n",
       "      <td>AFG</td>\n",
       "      <td>1.102127e+10</td>\n",
       "      <td>19688634.0</td>\n",
       "      <td>0.0</td>\n",
       "      <td>0.0</td>\n",
       "      <td>0.0</td>\n",
       "      <td>0.0</td>\n",
       "      <td>0.69</td>\n",
       "      <td>...</td>\n",
       "      <td>29.967</td>\n",
       "      <td>4.664</td>\n",
       "      <td>0.0</td>\n",
       "      <td>0.50</td>\n",
       "      <td>0.0</td>\n",
       "      <td>0.0</td>\n",
       "      <td>0.0</td>\n",
       "      <td>0.0</td>\n",
       "      <td>NaN</td>\n",
       "      <td>None</td>\n",
       "    </tr>\n",
       "    <tr>\n",
       "      <th>2</th>\n",
       "      <td>Afghanistan</td>\n",
       "      <td>2002</td>\n",
       "      <td>AFG</td>\n",
       "      <td>1.880487e+10</td>\n",
       "      <td>21000258.0</td>\n",
       "      <td>0.0</td>\n",
       "      <td>0.0</td>\n",
       "      <td>0.0</td>\n",
       "      <td>0.0</td>\n",
       "      <td>0.79</td>\n",
       "      <td>...</td>\n",
       "      <td>32.857</td>\n",
       "      <td>4.428</td>\n",
       "      <td>0.0</td>\n",
       "      <td>0.56</td>\n",
       "      <td>0.0</td>\n",
       "      <td>0.0</td>\n",
       "      <td>0.0</td>\n",
       "      <td>0.0</td>\n",
       "      <td>180.0</td>\n",
       "      <td>Low-income</td>\n",
       "    </tr>\n",
       "    <tr>\n",
       "      <th>3</th>\n",
       "      <td>Afghanistan</td>\n",
       "      <td>2003</td>\n",
       "      <td>AFG</td>\n",
       "      <td>2.107434e+10</td>\n",
       "      <td>22645136.0</td>\n",
       "      <td>0.0</td>\n",
       "      <td>0.0</td>\n",
       "      <td>0.0</td>\n",
       "      <td>0.0</td>\n",
       "      <td>1.04</td>\n",
       "      <td>...</td>\n",
       "      <td>41.510</td>\n",
       "      <td>5.208</td>\n",
       "      <td>0.0</td>\n",
       "      <td>0.63</td>\n",
       "      <td>0.0</td>\n",
       "      <td>0.0</td>\n",
       "      <td>0.0</td>\n",
       "      <td>0.0</td>\n",
       "      <td>190.0</td>\n",
       "      <td>Low-income</td>\n",
       "    </tr>\n",
       "    <tr>\n",
       "      <th>4</th>\n",
       "      <td>Afghanistan</td>\n",
       "      <td>2004</td>\n",
       "      <td>AFG</td>\n",
       "      <td>2.233257e+10</td>\n",
       "      <td>23553554.0</td>\n",
       "      <td>0.0</td>\n",
       "      <td>0.0</td>\n",
       "      <td>0.0</td>\n",
       "      <td>0.0</td>\n",
       "      <td>0.99</td>\n",
       "      <td>...</td>\n",
       "      <td>37.786</td>\n",
       "      <td>4.810</td>\n",
       "      <td>0.0</td>\n",
       "      <td>0.56</td>\n",
       "      <td>0.0</td>\n",
       "      <td>0.0</td>\n",
       "      <td>0.0</td>\n",
       "      <td>0.0</td>\n",
       "      <td>210.0</td>\n",
       "      <td>Low-income</td>\n",
       "    </tr>\n",
       "  </tbody>\n",
       "</table>\n",
       "<p>5 rows × 37 columns</p>\n",
       "</div>"
      ],
      "text/plain": [
       "       country  year iso_code           gdp  population  biofuel_consumption  \\\n",
       "0  Afghanistan  2000      AFG  1.128379e+10  19542986.0                  0.0   \n",
       "1  Afghanistan  2001      AFG  1.102127e+10  19688634.0                  0.0   \n",
       "2  Afghanistan  2002      AFG  1.880487e+10  21000258.0                  0.0   \n",
       "3  Afghanistan  2003      AFG  2.107434e+10  22645136.0                  0.0   \n",
       "4  Afghanistan  2004      AFG  2.233257e+10  23553554.0                  0.0   \n",
       "\n",
       "   biofuel_electricity  coal_consumption  coal_electricity  \\\n",
       "0                  0.0               0.0               0.0   \n",
       "1                  0.0               0.0               0.0   \n",
       "2                  0.0               0.0               0.0   \n",
       "3                  0.0               0.0               0.0   \n",
       "4                  0.0               0.0               0.0   \n",
       "\n",
       "   electricity_demand  ...  per_capita_electricity  \\\n",
       "0                0.57  ...                  24.050   \n",
       "1                0.69  ...                  29.967   \n",
       "2                0.79  ...                  32.857   \n",
       "3                1.04  ...                  41.510   \n",
       "4                0.99  ...                  37.786   \n",
       "\n",
       "   primary_energy_consumption  renewables_consumption  renewables_electricity  \\\n",
       "0                       5.914                     0.0                    0.31   \n",
       "1                       4.664                     0.0                    0.50   \n",
       "2                       4.428                     0.0                    0.56   \n",
       "3                       5.208                     0.0                    0.63   \n",
       "4                       4.810                     0.0                    0.56   \n",
       "\n",
       "   solar_consumption  solar_electricity  wind_consumption  wind_electricity  \\\n",
       "0                0.0                0.0               0.0               0.0   \n",
       "1                0.0                0.0               0.0               0.0   \n",
       "2                0.0                0.0               0.0               0.0   \n",
       "3                0.0                0.0               0.0               0.0   \n",
       "4                0.0                0.0               0.0               0.0   \n",
       "\n",
       "     GNI  Socio-Economic Status  \n",
       "0    NaN                   None  \n",
       "1    NaN                   None  \n",
       "2  180.0             Low-income  \n",
       "3  190.0             Low-income  \n",
       "4  210.0             Low-income  \n",
       "\n",
       "[5 rows x 37 columns]"
      ]
     },
     "execution_count": 22,
     "metadata": {},
     "output_type": "execute_result"
    }
   ],
   "source": [
    "energy_data.to_csv(\"data/AnalysisData.csv\")\n",
    "energy_data.head(5)"
   ]
  },
  {
   "cell_type": "code",
   "execution_count": 23,
   "metadata": {},
   "outputs": [
    {
     "data": {
      "text/html": [
       "<div>\n",
       "<style scoped>\n",
       "    .dataframe tbody tr th:only-of-type {\n",
       "        vertical-align: middle;\n",
       "    }\n",
       "\n",
       "    .dataframe tbody tr th {\n",
       "        vertical-align: top;\n",
       "    }\n",
       "\n",
       "    .dataframe thead th {\n",
       "        text-align: right;\n",
       "    }\n",
       "</style>\n",
       "<table border=\"1\" class=\"dataframe\">\n",
       "  <thead>\n",
       "    <tr style=\"text-align: right;\">\n",
       "      <th></th>\n",
       "      <th>year</th>\n",
       "      <th>Energy Type</th>\n",
       "      <th>Energy Consumption</th>\n",
       "    </tr>\n",
       "  </thead>\n",
       "  <tbody>\n",
       "    <tr>\n",
       "      <th>0</th>\n",
       "      <td>2000</td>\n",
       "      <td>hydro_consumption</td>\n",
       "      <td>7167.917</td>\n",
       "    </tr>\n",
       "    <tr>\n",
       "      <th>1</th>\n",
       "      <td>2001</td>\n",
       "      <td>hydro_consumption</td>\n",
       "      <td>6933.131</td>\n",
       "    </tr>\n",
       "    <tr>\n",
       "      <th>2</th>\n",
       "      <td>2002</td>\n",
       "      <td>hydro_consumption</td>\n",
       "      <td>6999.506</td>\n",
       "    </tr>\n",
       "    <tr>\n",
       "      <th>3</th>\n",
       "      <td>2003</td>\n",
       "      <td>hydro_consumption</td>\n",
       "      <td>6924.550</td>\n",
       "    </tr>\n",
       "    <tr>\n",
       "      <th>4</th>\n",
       "      <td>2004</td>\n",
       "      <td>hydro_consumption</td>\n",
       "      <td>7410.090</td>\n",
       "    </tr>\n",
       "  </tbody>\n",
       "</table>\n",
       "</div>"
      ],
      "text/plain": [
       "   year        Energy Type  Energy Consumption\n",
       "0  2000  hydro_consumption            7167.917\n",
       "1  2001  hydro_consumption            6933.131\n",
       "2  2002  hydro_consumption            6999.506\n",
       "3  2003  hydro_consumption            6924.550\n",
       "4  2004  hydro_consumption            7410.090"
      ]
     },
     "execution_count": 23,
     "metadata": {},
     "output_type": "execute_result"
    }
   ],
   "source": [
    "#Data Frame to get the total renewable energy consumed\n",
    "df_generation = energy_data.groupby('year')[['hydro_consumption', 'solar_consumption', \n",
    "                                            'wind_consumption','other_renewable_consumption']].sum()\n",
    "df_generation = df_generation.reset_index()\n",
    "df_plot = pd.melt(df_generation, id_vars=['year'], \n",
    "                value_vars=['hydro_consumption', \n",
    "                            'solar_consumption', 'wind_consumption','other_renewable_consumption'],\n",
    "                var_name='Energy Type', value_name='Energy Consumption')\n",
    "df_plot.head(5)"
   ]
  },
  {
   "cell_type": "code",
   "execution_count": 24,
   "metadata": {},
   "outputs": [
    {
     "data": {
      "application/vnd.plotly.v1+json": {
       "config": {
        "plotlyServerURL": "https://plot.ly"
       },
       "data": [
        {
         "hovertemplate": "Energy Type=hydro_consumption<br>frame=1<br>year=%{x}<br>Energy Consumption=%{y}<extra></extra>",
         "legendgroup": "hydro_consumption",
         "line": {
          "color": "#1E90FF",
          "dash": "solid",
          "width": 5
         },
         "marker": {
          "size": 25,
          "symbol": "circle"
         },
         "mode": "lines",
         "name": "hydro_consumption",
         "orientation": "v",
         "showlegend": false,
         "type": "scatter",
         "x": {
          "bdata": "0Ac=",
          "dtype": "i2"
         },
         "xaxis": "x",
         "y": {
          "bdata": "bxKDwOr/u0A=",
          "dtype": "f8"
         },
         "yaxis": "y"
        },
        {
         "hovertemplate": "Energy Type=other_renewable_consumption<br>frame=1<br>year=%{x}<br>Energy Consumption=%{y}<extra></extra>",
         "legendgroup": "other_renewable_consumption",
         "line": {
          "color": "#32CD32",
          "dash": "solid",
          "width": 5
         },
         "marker": {
          "size": 25,
          "symbol": "circle"
         },
         "mode": "lines",
         "name": "other_renewable_consumption",
         "orientation": "v",
         "showlegend": false,
         "type": "scatter",
         "x": {
          "bdata": "0Ac=",
          "dtype": "i2"
         },
         "xaxis": "x",
         "y": {
          "bdata": "bOf7qfFEgUA=",
          "dtype": "f8"
         },
         "yaxis": "y"
        },
        {
         "hovertemplate": "Energy Type=solar_consumption<br>frame=1<br>year=%{x}<br>Energy Consumption=%{y}<extra></extra>",
         "legendgroup": "solar_consumption",
         "line": {
          "color": "#FF4500",
          "dash": "solid",
          "width": 5
         },
         "marker": {
          "size": 25,
          "symbol": "circle"
         },
         "mode": "lines",
         "name": "solar_consumption",
         "orientation": "v",
         "showlegend": false,
         "type": "scatter",
         "x": {
          "bdata": "0Ac=",
          "dtype": "i2"
         },
         "xaxis": "x",
         "y": {
          "bdata": "Vg4tsp3vCEA=",
          "dtype": "f8"
         },
         "yaxis": "y"
        },
        {
         "hovertemplate": "Energy Type=wind_consumption<br>frame=1<br>year=%{x}<br>Energy Consumption=%{y}<extra></extra>",
         "legendgroup": "wind_consumption",
         "line": {
          "color": "#8A2BE2",
          "dash": "solid",
          "width": 5
         },
         "marker": {
          "size": 25,
          "symbol": "circle"
         },
         "mode": "lines",
         "name": "wind_consumption",
         "orientation": "v",
         "showlegend": false,
         "type": "scatter",
         "x": {
          "bdata": "0Ac=",
          "dtype": "i2"
         },
         "xaxis": "x",
         "y": {
          "bdata": "gZVDi2wHV0A=",
          "dtype": "f8"
         },
         "yaxis": "y"
        },
        {
         "hovertemplate": "Energy Type=hydro_consumption<br>frame=1<br>year=%{x}<br>Energy Consumption=%{y}<extra></extra>",
         "legendgroup": "hydro_consumption",
         "line": {
          "width": 5
         },
         "marker": {
          "color": "#1E90FF",
          "size": 25,
          "symbol": "circle"
         },
         "mode": "markers",
         "name": "hydro_consumption",
         "orientation": "v",
         "showlegend": true,
         "type": "scatter",
         "x": {
          "bdata": "0Ac=",
          "dtype": "i2"
         },
         "xaxis": "x",
         "y": {
          "bdata": "bxKDwOr/u0A=",
          "dtype": "f8"
         },
         "yaxis": "y"
        },
        {
         "hovertemplate": "Energy Type=other_renewable_consumption<br>frame=1<br>year=%{x}<br>Energy Consumption=%{y}<extra></extra>",
         "legendgroup": "other_renewable_consumption",
         "line": {
          "width": 5
         },
         "marker": {
          "color": "#32CD32",
          "size": 25,
          "symbol": "circle"
         },
         "mode": "markers",
         "name": "other_renewable_consumption",
         "orientation": "v",
         "showlegend": true,
         "type": "scatter",
         "x": {
          "bdata": "0Ac=",
          "dtype": "i2"
         },
         "xaxis": "x",
         "y": {
          "bdata": "bOf7qfFEgUA=",
          "dtype": "f8"
         },
         "yaxis": "y"
        },
        {
         "hovertemplate": "Energy Type=solar_consumption<br>frame=1<br>year=%{x}<br>Energy Consumption=%{y}<extra></extra>",
         "legendgroup": "solar_consumption",
         "line": {
          "width": 5
         },
         "marker": {
          "color": "#FF4500",
          "size": 25,
          "symbol": "circle"
         },
         "mode": "markers",
         "name": "solar_consumption",
         "orientation": "v",
         "showlegend": true,
         "type": "scatter",
         "x": {
          "bdata": "0Ac=",
          "dtype": "i2"
         },
         "xaxis": "x",
         "y": {
          "bdata": "Vg4tsp3vCEA=",
          "dtype": "f8"
         },
         "yaxis": "y"
        },
        {
         "hovertemplate": "Energy Type=wind_consumption<br>frame=1<br>year=%{x}<br>Energy Consumption=%{y}<extra></extra>",
         "legendgroup": "wind_consumption",
         "line": {
          "width": 5
         },
         "marker": {
          "color": "#8A2BE2",
          "size": 25,
          "symbol": "circle"
         },
         "mode": "markers",
         "name": "wind_consumption",
         "orientation": "v",
         "showlegend": true,
         "type": "scatter",
         "x": {
          "bdata": "0Ac=",
          "dtype": "i2"
         },
         "xaxis": "x",
         "y": {
          "bdata": "gZVDi2wHV0A=",
          "dtype": "f8"
         },
         "yaxis": "y"
        }
       ],
       "frames": [
        {
         "data": [
          {
           "hovertemplate": "Energy Type=hydro_consumption<br>frame=1<br>year=%{x}<br>Energy Consumption=%{y}<extra></extra>",
           "legendgroup": "hydro_consumption",
           "line": {
            "color": "#1E90FF",
            "dash": "solid"
           },
           "marker": {
            "symbol": "circle"
           },
           "mode": "lines",
           "name": "hydro_consumption",
           "opacity": 0.8,
           "orientation": "v",
           "showlegend": false,
           "type": "scatter",
           "x": {
            "bdata": "0Ac=",
            "dtype": "i2"
           },
           "xaxis": "x",
           "y": {
            "bdata": "bxKDwOr/u0A=",
            "dtype": "f8"
           },
           "yaxis": "y"
          },
          {
           "hovertemplate": "Energy Type=other_renewable_consumption<br>frame=1<br>year=%{x}<br>Energy Consumption=%{y}<extra></extra>",
           "legendgroup": "other_renewable_consumption",
           "line": {
            "color": "#32CD32",
            "dash": "solid"
           },
           "marker": {
            "symbol": "circle"
           },
           "mode": "lines",
           "name": "other_renewable_consumption",
           "opacity": 0.8,
           "orientation": "v",
           "showlegend": false,
           "type": "scatter",
           "x": {
            "bdata": "0Ac=",
            "dtype": "i2"
           },
           "xaxis": "x",
           "y": {
            "bdata": "bOf7qfFEgUA=",
            "dtype": "f8"
           },
           "yaxis": "y"
          },
          {
           "hovertemplate": "Energy Type=solar_consumption<br>frame=1<br>year=%{x}<br>Energy Consumption=%{y}<extra></extra>",
           "legendgroup": "solar_consumption",
           "line": {
            "color": "#FF4500",
            "dash": "solid"
           },
           "marker": {
            "symbol": "circle"
           },
           "mode": "lines",
           "name": "solar_consumption",
           "opacity": 0.8,
           "orientation": "v",
           "showlegend": false,
           "type": "scatter",
           "x": {
            "bdata": "0Ac=",
            "dtype": "i2"
           },
           "xaxis": "x",
           "y": {
            "bdata": "Vg4tsp3vCEA=",
            "dtype": "f8"
           },
           "yaxis": "y"
          },
          {
           "hovertemplate": "Energy Type=wind_consumption<br>frame=1<br>year=%{x}<br>Energy Consumption=%{y}<extra></extra>",
           "legendgroup": "wind_consumption",
           "line": {
            "color": "#8A2BE2",
            "dash": "solid"
           },
           "marker": {
            "symbol": "circle"
           },
           "mode": "lines",
           "name": "wind_consumption",
           "opacity": 0.8,
           "orientation": "v",
           "showlegend": false,
           "type": "scatter",
           "x": {
            "bdata": "0Ac=",
            "dtype": "i2"
           },
           "xaxis": "x",
           "y": {
            "bdata": "gZVDi2wHV0A=",
            "dtype": "f8"
           },
           "yaxis": "y"
          },
          {
           "hovertemplate": "Energy Type=hydro_consumption<br>frame=1<br>year=%{x}<br>Energy Consumption=%{y}<extra></extra>",
           "legendgroup": "hydro_consumption",
           "marker": {
            "color": "#1E90FF",
            "symbol": "circle"
           },
           "mode": "markers",
           "name": "hydro_consumption",
           "opacity": 1,
           "orientation": "v",
           "showlegend": true,
           "type": "scatter",
           "x": {
            "bdata": "0Ac=",
            "dtype": "i2"
           },
           "xaxis": "x",
           "y": {
            "bdata": "bxKDwOr/u0A=",
            "dtype": "f8"
           },
           "yaxis": "y"
          },
          {
           "hovertemplate": "Energy Type=other_renewable_consumption<br>frame=1<br>year=%{x}<br>Energy Consumption=%{y}<extra></extra>",
           "legendgroup": "other_renewable_consumption",
           "marker": {
            "color": "#32CD32",
            "symbol": "circle"
           },
           "mode": "markers",
           "name": "other_renewable_consumption",
           "opacity": 1,
           "orientation": "v",
           "showlegend": true,
           "type": "scatter",
           "x": {
            "bdata": "0Ac=",
            "dtype": "i2"
           },
           "xaxis": "x",
           "y": {
            "bdata": "bOf7qfFEgUA=",
            "dtype": "f8"
           },
           "yaxis": "y"
          },
          {
           "hovertemplate": "Energy Type=solar_consumption<br>frame=1<br>year=%{x}<br>Energy Consumption=%{y}<extra></extra>",
           "legendgroup": "solar_consumption",
           "marker": {
            "color": "#FF4500",
            "symbol": "circle"
           },
           "mode": "markers",
           "name": "solar_consumption",
           "opacity": 1,
           "orientation": "v",
           "showlegend": true,
           "type": "scatter",
           "x": {
            "bdata": "0Ac=",
            "dtype": "i2"
           },
           "xaxis": "x",
           "y": {
            "bdata": "Vg4tsp3vCEA=",
            "dtype": "f8"
           },
           "yaxis": "y"
          },
          {
           "hovertemplate": "Energy Type=wind_consumption<br>frame=1<br>year=%{x}<br>Energy Consumption=%{y}<extra></extra>",
           "legendgroup": "wind_consumption",
           "marker": {
            "color": "#8A2BE2",
            "symbol": "circle"
           },
           "mode": "markers",
           "name": "wind_consumption",
           "opacity": 1,
           "orientation": "v",
           "showlegend": true,
           "type": "scatter",
           "x": {
            "bdata": "0Ac=",
            "dtype": "i2"
           },
           "xaxis": "x",
           "y": {
            "bdata": "gZVDi2wHV0A=",
            "dtype": "f8"
           },
           "yaxis": "y"
          }
         ],
         "name": "1"
        },
        {
         "data": [
          {
           "hovertemplate": "Energy Type=hydro_consumption<br>frame=2<br>year=%{x}<br>Energy Consumption=%{y}<extra></extra>",
           "legendgroup": "hydro_consumption",
           "line": {
            "color": "#1E90FF",
            "dash": "solid"
           },
           "marker": {
            "symbol": "circle"
           },
           "mode": "lines",
           "name": "hydro_consumption",
           "opacity": 0.8,
           "orientation": "v",
           "showlegend": false,
           "type": "scatter",
           "x": {
            "bdata": "0AfRBw==",
            "dtype": "i2"
           },
           "xaxis": "x",
           "y": {
            "bdata": "bxKDwOr/u0DHSzeJIRW7QA==",
            "dtype": "f8"
           },
           "yaxis": "y"
          },
          {
           "hovertemplate": "Energy Type=other_renewable_consumption<br>frame=2<br>year=%{x}<br>Energy Consumption=%{y}<extra></extra>",
           "legendgroup": "other_renewable_consumption",
           "line": {
            "color": "#32CD32",
            "dash": "solid"
           },
           "marker": {
            "symbol": "circle"
           },
           "mode": "lines",
           "name": "other_renewable_consumption",
           "opacity": 0.8,
           "orientation": "v",
           "showlegend": false,
           "type": "scatter",
           "x": {
            "bdata": "0AfRBw==",
            "dtype": "i2"
           },
           "xaxis": "x",
           "y": {
            "bdata": "bOf7qfFEgUBKDAIrh+2BQA==",
            "dtype": "f8"
           },
           "yaxis": "y"
          },
          {
           "hovertemplate": "Energy Type=solar_consumption<br>frame=2<br>year=%{x}<br>Energy Consumption=%{y}<extra></extra>",
           "legendgroup": "solar_consumption",
           "line": {
            "color": "#FF4500",
            "dash": "solid"
           },
           "marker": {
            "symbol": "circle"
           },
           "mode": "lines",
           "name": "solar_consumption",
           "opacity": 0.8,
           "orientation": "v",
           "showlegend": false,
           "type": "scatter",
           "x": {
            "bdata": "0AfRBw==",
            "dtype": "i2"
           },
           "xaxis": "x",
           "y": {
            "bdata": "Vg4tsp3vCECkcD0K16MQQA==",
            "dtype": "f8"
           },
           "yaxis": "y"
          },
          {
           "hovertemplate": "Energy Type=wind_consumption<br>frame=2<br>year=%{x}<br>Energy Consumption=%{y}<extra></extra>",
           "legendgroup": "wind_consumption",
           "line": {
            "color": "#8A2BE2",
            "dash": "solid"
           },
           "marker": {
            "symbol": "circle"
           },
           "mode": "lines",
           "name": "wind_consumption",
           "opacity": 0.8,
           "orientation": "v",
           "showlegend": false,
           "type": "scatter",
           "x": {
            "bdata": "0AfRBw==",
            "dtype": "i2"
           },
           "xaxis": "x",
           "y": {
            "bdata": "gZVDi2wHV0ASg8DKof1bQA==",
            "dtype": "f8"
           },
           "yaxis": "y"
          },
          {
           "hovertemplate": "Energy Type=hydro_consumption<br>frame=2<br>year=%{x}<br>Energy Consumption=%{y}<extra></extra>",
           "legendgroup": "hydro_consumption",
           "marker": {
            "color": "#1E90FF",
            "symbol": "circle"
           },
           "mode": "markers",
           "name": "hydro_consumption",
           "opacity": 1,
           "orientation": "v",
           "showlegend": true,
           "type": "scatter",
           "x": {
            "bdata": "0Qc=",
            "dtype": "i2"
           },
           "xaxis": "x",
           "y": {
            "bdata": "x0s3iSEVu0A=",
            "dtype": "f8"
           },
           "yaxis": "y"
          },
          {
           "hovertemplate": "Energy Type=other_renewable_consumption<br>frame=2<br>year=%{x}<br>Energy Consumption=%{y}<extra></extra>",
           "legendgroup": "other_renewable_consumption",
           "marker": {
            "color": "#32CD32",
            "symbol": "circle"
           },
           "mode": "markers",
           "name": "other_renewable_consumption",
           "opacity": 1,
           "orientation": "v",
           "showlegend": true,
           "type": "scatter",
           "x": {
            "bdata": "0Qc=",
            "dtype": "i2"
           },
           "xaxis": "x",
           "y": {
            "bdata": "SgwCK4ftgUA=",
            "dtype": "f8"
           },
           "yaxis": "y"
          },
          {
           "hovertemplate": "Energy Type=solar_consumption<br>frame=2<br>year=%{x}<br>Energy Consumption=%{y}<extra></extra>",
           "legendgroup": "solar_consumption",
           "marker": {
            "color": "#FF4500",
            "symbol": "circle"
           },
           "mode": "markers",
           "name": "solar_consumption",
           "opacity": 1,
           "orientation": "v",
           "showlegend": true,
           "type": "scatter",
           "x": {
            "bdata": "0Qc=",
            "dtype": "i2"
           },
           "xaxis": "x",
           "y": {
            "bdata": "pHA9CtejEEA=",
            "dtype": "f8"
           },
           "yaxis": "y"
          },
          {
           "hovertemplate": "Energy Type=wind_consumption<br>frame=2<br>year=%{x}<br>Energy Consumption=%{y}<extra></extra>",
           "legendgroup": "wind_consumption",
           "marker": {
            "color": "#8A2BE2",
            "symbol": "circle"
           },
           "mode": "markers",
           "name": "wind_consumption",
           "opacity": 1,
           "orientation": "v",
           "showlegend": true,
           "type": "scatter",
           "x": {
            "bdata": "0Qc=",
            "dtype": "i2"
           },
           "xaxis": "x",
           "y": {
            "bdata": "EoPAyqH9W0A=",
            "dtype": "f8"
           },
           "yaxis": "y"
          }
         ],
         "name": "2"
        },
        {
         "data": [
          {
           "hovertemplate": "Energy Type=hydro_consumption<br>frame=3<br>year=%{x}<br>Energy Consumption=%{y}<extra></extra>",
           "legendgroup": "hydro_consumption",
           "line": {
            "color": "#1E90FF",
            "dash": "solid"
           },
           "marker": {
            "symbol": "circle"
           },
           "mode": "lines",
           "name": "hydro_consumption",
           "opacity": 0.8,
           "orientation": "v",
           "showlegend": false,
           "type": "scatter",
           "x": {
            "bdata": "0AfRB9IH",
            "dtype": "i2"
           },
           "xaxis": "x",
           "y": {
            "bdata": "bxKDwOr/u0DHSzeJIRW7QMdLN4mBV7tA",
            "dtype": "f8"
           },
           "yaxis": "y"
          },
          {
           "hovertemplate": "Energy Type=other_renewable_consumption<br>frame=3<br>year=%{x}<br>Energy Consumption=%{y}<extra></extra>",
           "legendgroup": "other_renewable_consumption",
           "line": {
            "color": "#32CD32",
            "dash": "solid"
           },
           "marker": {
            "symbol": "circle"
           },
           "mode": "lines",
           "name": "other_renewable_consumption",
           "opacity": 0.8,
           "orientation": "v",
           "showlegend": false,
           "type": "scatter",
           "x": {
            "bdata": "0AfRB9IH",
            "dtype": "i2"
           },
           "xaxis": "x",
           "y": {
            "bdata": "bOf7qfFEgUBKDAIrh+2BQHe+nxovV4NA",
            "dtype": "f8"
           },
           "yaxis": "y"
          },
          {
           "hovertemplate": "Energy Type=solar_consumption<br>frame=3<br>year=%{x}<br>Energy Consumption=%{y}<extra></extra>",
           "legendgroup": "solar_consumption",
           "line": {
            "color": "#FF4500",
            "dash": "solid"
           },
           "marker": {
            "symbol": "circle"
           },
           "mode": "lines",
           "name": "solar_consumption",
           "opacity": 0.8,
           "orientation": "v",
           "showlegend": false,
           "type": "scatter",
           "x": {
            "bdata": "0AfRB9IH",
            "dtype": "i2"
           },
           "xaxis": "x",
           "y": {
            "bdata": "Vg4tsp3vCECkcD0K16MQQPyp8dJN4hRA",
            "dtype": "f8"
           },
           "yaxis": "y"
          },
          {
           "hovertemplate": "Energy Type=wind_consumption<br>frame=3<br>year=%{x}<br>Energy Consumption=%{y}<extra></extra>",
           "legendgroup": "wind_consumption",
           "line": {
            "color": "#8A2BE2",
            "dash": "solid"
           },
           "marker": {
            "symbol": "circle"
           },
           "mode": "lines",
           "name": "wind_consumption",
           "opacity": 0.8,
           "orientation": "v",
           "showlegend": false,
           "type": "scatter",
           "x": {
            "bdata": "0AfRB9IH",
            "dtype": "i2"
           },
           "xaxis": "x",
           "y": {
            "bdata": "gZVDi2wHV0ASg8DKof1bQFg5tMh2+mJA",
            "dtype": "f8"
           },
           "yaxis": "y"
          },
          {
           "hovertemplate": "Energy Type=hydro_consumption<br>frame=3<br>year=%{x}<br>Energy Consumption=%{y}<extra></extra>",
           "legendgroup": "hydro_consumption",
           "marker": {
            "color": "#1E90FF",
            "symbol": "circle"
           },
           "mode": "markers",
           "name": "hydro_consumption",
           "opacity": 1,
           "orientation": "v",
           "showlegend": true,
           "type": "scatter",
           "x": {
            "bdata": "0gc=",
            "dtype": "i2"
           },
           "xaxis": "x",
           "y": {
            "bdata": "x0s3iYFXu0A=",
            "dtype": "f8"
           },
           "yaxis": "y"
          },
          {
           "hovertemplate": "Energy Type=other_renewable_consumption<br>frame=3<br>year=%{x}<br>Energy Consumption=%{y}<extra></extra>",
           "legendgroup": "other_renewable_consumption",
           "marker": {
            "color": "#32CD32",
            "symbol": "circle"
           },
           "mode": "markers",
           "name": "other_renewable_consumption",
           "opacity": 1,
           "orientation": "v",
           "showlegend": true,
           "type": "scatter",
           "x": {
            "bdata": "0gc=",
            "dtype": "i2"
           },
           "xaxis": "x",
           "y": {
            "bdata": "d76fGi9Xg0A=",
            "dtype": "f8"
           },
           "yaxis": "y"
          },
          {
           "hovertemplate": "Energy Type=solar_consumption<br>frame=3<br>year=%{x}<br>Energy Consumption=%{y}<extra></extra>",
           "legendgroup": "solar_consumption",
           "marker": {
            "color": "#FF4500",
            "symbol": "circle"
           },
           "mode": "markers",
           "name": "solar_consumption",
           "opacity": 1,
           "orientation": "v",
           "showlegend": true,
           "type": "scatter",
           "x": {
            "bdata": "0gc=",
            "dtype": "i2"
           },
           "xaxis": "x",
           "y": {
            "bdata": "/Knx0k3iFEA=",
            "dtype": "f8"
           },
           "yaxis": "y"
          },
          {
           "hovertemplate": "Energy Type=wind_consumption<br>frame=3<br>year=%{x}<br>Energy Consumption=%{y}<extra></extra>",
           "legendgroup": "wind_consumption",
           "marker": {
            "color": "#8A2BE2",
            "symbol": "circle"
           },
           "mode": "markers",
           "name": "wind_consumption",
           "opacity": 1,
           "orientation": "v",
           "showlegend": true,
           "type": "scatter",
           "x": {
            "bdata": "0gc=",
            "dtype": "i2"
           },
           "xaxis": "x",
           "y": {
            "bdata": "WDm0yHb6YkA=",
            "dtype": "f8"
           },
           "yaxis": "y"
          }
         ],
         "name": "3"
        },
        {
         "data": [
          {
           "hovertemplate": "Energy Type=hydro_consumption<br>frame=4<br>year=%{x}<br>Energy Consumption=%{y}<extra></extra>",
           "legendgroup": "hydro_consumption",
           "line": {
            "color": "#1E90FF",
            "dash": "solid"
           },
           "marker": {
            "symbol": "circle"
           },
           "mode": "lines",
           "name": "hydro_consumption",
           "opacity": 0.8,
           "orientation": "v",
           "showlegend": false,
           "type": "scatter",
           "x": {
            "bdata": "0AfRB9IH0wc=",
            "dtype": "i2"
           },
           "xaxis": "x",
           "y": {
            "bdata": "bxKDwOr/u0DHSzeJIRW7QMdLN4mBV7tAzczMzIwMu0A=",
            "dtype": "f8"
           },
           "yaxis": "y"
          },
          {
           "hovertemplate": "Energy Type=other_renewable_consumption<br>frame=4<br>year=%{x}<br>Energy Consumption=%{y}<extra></extra>",
           "legendgroup": "other_renewable_consumption",
           "line": {
            "color": "#32CD32",
            "dash": "solid"
           },
           "marker": {
            "symbol": "circle"
           },
           "mode": "lines",
           "name": "other_renewable_consumption",
           "opacity": 0.8,
           "orientation": "v",
           "showlegend": false,
           "type": "scatter",
           "x": {
            "bdata": "0AfRB9IH0wc=",
            "dtype": "i2"
           },
           "xaxis": "x",
           "y": {
            "bdata": "bOf7qfFEgUBKDAIrh+2BQHe+nxovV4NAqMZLN4lqhEA=",
            "dtype": "f8"
           },
           "yaxis": "y"
          },
          {
           "hovertemplate": "Energy Type=solar_consumption<br>frame=4<br>year=%{x}<br>Energy Consumption=%{y}<extra></extra>",
           "legendgroup": "solar_consumption",
           "line": {
            "color": "#FF4500",
            "dash": "solid"
           },
           "marker": {
            "symbol": "circle"
           },
           "mode": "lines",
           "name": "solar_consumption",
           "opacity": 0.8,
           "orientation": "v",
           "showlegend": false,
           "type": "scatter",
           "x": {
            "bdata": "0AfRB9IH0wc=",
            "dtype": "i2"
           },
           "xaxis": "x",
           "y": {
            "bdata": "Vg4tsp3vCECkcD0K16MQQPyp8dJN4hRAarx0kxgEGkA=",
            "dtype": "f8"
           },
           "yaxis": "y"
          },
          {
           "hovertemplate": "Energy Type=wind_consumption<br>frame=4<br>year=%{x}<br>Energy Consumption=%{y}<extra></extra>",
           "legendgroup": "wind_consumption",
           "line": {
            "color": "#8A2BE2",
            "dash": "solid"
           },
           "marker": {
            "symbol": "circle"
           },
           "mode": "lines",
           "name": "wind_consumption",
           "opacity": 0.8,
           "orientation": "v",
           "showlegend": false,
           "type": "scatter",
           "x": {
            "bdata": "0AfRB9IH0wc=",
            "dtype": "i2"
           },
           "xaxis": "x",
           "y": {
            "bdata": "gZVDi2wHV0ASg8DKof1bQFg5tMh2+mJA2/l+arzQZkA=",
            "dtype": "f8"
           },
           "yaxis": "y"
          },
          {
           "hovertemplate": "Energy Type=hydro_consumption<br>frame=4<br>year=%{x}<br>Energy Consumption=%{y}<extra></extra>",
           "legendgroup": "hydro_consumption",
           "marker": {
            "color": "#1E90FF",
            "symbol": "circle"
           },
           "mode": "markers",
           "name": "hydro_consumption",
           "opacity": 1,
           "orientation": "v",
           "showlegend": true,
           "type": "scatter",
           "x": {
            "bdata": "0wc=",
            "dtype": "i2"
           },
           "xaxis": "x",
           "y": {
            "bdata": "zczMzIwMu0A=",
            "dtype": "f8"
           },
           "yaxis": "y"
          },
          {
           "hovertemplate": "Energy Type=other_renewable_consumption<br>frame=4<br>year=%{x}<br>Energy Consumption=%{y}<extra></extra>",
           "legendgroup": "other_renewable_consumption",
           "marker": {
            "color": "#32CD32",
            "symbol": "circle"
           },
           "mode": "markers",
           "name": "other_renewable_consumption",
           "opacity": 1,
           "orientation": "v",
           "showlegend": true,
           "type": "scatter",
           "x": {
            "bdata": "0wc=",
            "dtype": "i2"
           },
           "xaxis": "x",
           "y": {
            "bdata": "qMZLN4lqhEA=",
            "dtype": "f8"
           },
           "yaxis": "y"
          },
          {
           "hovertemplate": "Energy Type=solar_consumption<br>frame=4<br>year=%{x}<br>Energy Consumption=%{y}<extra></extra>",
           "legendgroup": "solar_consumption",
           "marker": {
            "color": "#FF4500",
            "symbol": "circle"
           },
           "mode": "markers",
           "name": "solar_consumption",
           "opacity": 1,
           "orientation": "v",
           "showlegend": true,
           "type": "scatter",
           "x": {
            "bdata": "0wc=",
            "dtype": "i2"
           },
           "xaxis": "x",
           "y": {
            "bdata": "arx0kxgEGkA=",
            "dtype": "f8"
           },
           "yaxis": "y"
          },
          {
           "hovertemplate": "Energy Type=wind_consumption<br>frame=4<br>year=%{x}<br>Energy Consumption=%{y}<extra></extra>",
           "legendgroup": "wind_consumption",
           "marker": {
            "color": "#8A2BE2",
            "symbol": "circle"
           },
           "mode": "markers",
           "name": "wind_consumption",
           "opacity": 1,
           "orientation": "v",
           "showlegend": true,
           "type": "scatter",
           "x": {
            "bdata": "0wc=",
            "dtype": "i2"
           },
           "xaxis": "x",
           "y": {
            "bdata": "2/l+arzQZkA=",
            "dtype": "f8"
           },
           "yaxis": "y"
          }
         ],
         "name": "4"
        },
        {
         "data": [
          {
           "hovertemplate": "Energy Type=hydro_consumption<br>frame=5<br>year=%{x}<br>Energy Consumption=%{y}<extra></extra>",
           "legendgroup": "hydro_consumption",
           "line": {
            "color": "#1E90FF",
            "dash": "solid"
           },
           "marker": {
            "symbol": "circle"
           },
           "mode": "lines",
           "name": "hydro_consumption",
           "opacity": 0.8,
           "orientation": "v",
           "showlegend": false,
           "type": "scatter",
           "x": {
            "bdata": "0AfRB9IH0wfUBw==",
            "dtype": "i2"
           },
           "xaxis": "x",
           "y": {
            "bdata": "bxKDwOr/u0DHSzeJIRW7QMdLN4mBV7tAzczMzIwMu0CkcD0KF/K8QA==",
            "dtype": "f8"
           },
           "yaxis": "y"
          },
          {
           "hovertemplate": "Energy Type=other_renewable_consumption<br>frame=5<br>year=%{x}<br>Energy Consumption=%{y}<extra></extra>",
           "legendgroup": "other_renewable_consumption",
           "line": {
            "color": "#32CD32",
            "dash": "solid"
           },
           "marker": {
            "symbol": "circle"
           },
           "mode": "lines",
           "name": "other_renewable_consumption",
           "opacity": 0.8,
           "orientation": "v",
           "showlegend": false,
           "type": "scatter",
           "x": {
            "bdata": "0AfRB9IH0wfUBw==",
            "dtype": "i2"
           },
           "xaxis": "x",
           "y": {
            "bdata": "bOf7qfFEgUBKDAIrh+2BQHe+nxovV4NAqMZLN4lqhECcxCCwcg+GQA==",
            "dtype": "f8"
           },
           "yaxis": "y"
          },
          {
           "hovertemplate": "Energy Type=solar_consumption<br>frame=5<br>year=%{x}<br>Energy Consumption=%{y}<extra></extra>",
           "legendgroup": "solar_consumption",
           "line": {
            "color": "#FF4500",
            "dash": "solid"
           },
           "marker": {
            "symbol": "circle"
           },
           "mode": "lines",
           "name": "solar_consumption",
           "opacity": 0.8,
           "orientation": "v",
           "showlegend": false,
           "type": "scatter",
           "x": {
            "bdata": "0AfRB9IH0wfUBw==",
            "dtype": "i2"
           },
           "xaxis": "x",
           "y": {
            "bdata": "Vg4tsp3vCECkcD0K16MQQPyp8dJN4hRAarx0kxgEGkD4U+OlmwQhQA==",
            "dtype": "f8"
           },
           "yaxis": "y"
          },
          {
           "hovertemplate": "Energy Type=wind_consumption<br>frame=5<br>year=%{x}<br>Energy Consumption=%{y}<extra></extra>",
           "legendgroup": "wind_consumption",
           "line": {
            "color": "#8A2BE2",
            "dash": "solid"
           },
           "marker": {
            "symbol": "circle"
           },
           "mode": "lines",
           "name": "wind_consumption",
           "opacity": 0.8,
           "orientation": "v",
           "showlegend": false,
           "type": "scatter",
           "x": {
            "bdata": "0AfRB9IH0wfUBw==",
            "dtype": "i2"
           },
           "xaxis": "x",
           "y": {
            "bdata": "gZVDi2wHV0ASg8DKof1bQFg5tMh2+mJA2/l+arzQZkDP91Pjpa9uQA==",
            "dtype": "f8"
           },
           "yaxis": "y"
          },
          {
           "hovertemplate": "Energy Type=hydro_consumption<br>frame=5<br>year=%{x}<br>Energy Consumption=%{y}<extra></extra>",
           "legendgroup": "hydro_consumption",
           "marker": {
            "color": "#1E90FF",
            "symbol": "circle"
           },
           "mode": "markers",
           "name": "hydro_consumption",
           "opacity": 1,
           "orientation": "v",
           "showlegend": true,
           "type": "scatter",
           "x": {
            "bdata": "1Ac=",
            "dtype": "i2"
           },
           "xaxis": "x",
           "y": {
            "bdata": "pHA9ChfyvEA=",
            "dtype": "f8"
           },
           "yaxis": "y"
          },
          {
           "hovertemplate": "Energy Type=other_renewable_consumption<br>frame=5<br>year=%{x}<br>Energy Consumption=%{y}<extra></extra>",
           "legendgroup": "other_renewable_consumption",
           "marker": {
            "color": "#32CD32",
            "symbol": "circle"
           },
           "mode": "markers",
           "name": "other_renewable_consumption",
           "opacity": 1,
           "orientation": "v",
           "showlegend": true,
           "type": "scatter",
           "x": {
            "bdata": "1Ac=",
            "dtype": "i2"
           },
           "xaxis": "x",
           "y": {
            "bdata": "nMQgsHIPhkA=",
            "dtype": "f8"
           },
           "yaxis": "y"
          },
          {
           "hovertemplate": "Energy Type=solar_consumption<br>frame=5<br>year=%{x}<br>Energy Consumption=%{y}<extra></extra>",
           "legendgroup": "solar_consumption",
           "marker": {
            "color": "#FF4500",
            "symbol": "circle"
           },
           "mode": "markers",
           "name": "solar_consumption",
           "opacity": 1,
           "orientation": "v",
           "showlegend": true,
           "type": "scatter",
           "x": {
            "bdata": "1Ac=",
            "dtype": "i2"
           },
           "xaxis": "x",
           "y": {
            "bdata": "+FPjpZsEIUA=",
            "dtype": "f8"
           },
           "yaxis": "y"
          },
          {
           "hovertemplate": "Energy Type=wind_consumption<br>frame=5<br>year=%{x}<br>Energy Consumption=%{y}<extra></extra>",
           "legendgroup": "wind_consumption",
           "marker": {
            "color": "#8A2BE2",
            "symbol": "circle"
           },
           "mode": "markers",
           "name": "wind_consumption",
           "opacity": 1,
           "orientation": "v",
           "showlegend": true,
           "type": "scatter",
           "x": {
            "bdata": "1Ac=",
            "dtype": "i2"
           },
           "xaxis": "x",
           "y": {
            "bdata": "z/dT46WvbkA=",
            "dtype": "f8"
           },
           "yaxis": "y"
          }
         ],
         "name": "5"
        },
        {
         "data": [
          {
           "hovertemplate": "Energy Type=hydro_consumption<br>frame=6<br>year=%{x}<br>Energy Consumption=%{y}<extra></extra>",
           "legendgroup": "hydro_consumption",
           "line": {
            "color": "#1E90FF",
            "dash": "solid"
           },
           "marker": {
            "symbol": "circle"
           },
           "mode": "lines",
           "name": "hydro_consumption",
           "opacity": 0.8,
           "orientation": "v",
           "showlegend": false,
           "type": "scatter",
           "x": {
            "bdata": "0AfRB9IH0wfUB9UH",
            "dtype": "i2"
           },
           "xaxis": "x",
           "y": {
            "bdata": "bxKDwOr/u0DHSzeJIRW7QMdLN4mBV7tAzczMzIwMu0CkcD0KF/K8QESLbOd7wb1A",
            "dtype": "f8"
           },
           "yaxis": "y"
          },
          {
           "hovertemplate": "Energy Type=other_renewable_consumption<br>frame=6<br>year=%{x}<br>Energy Consumption=%{y}<extra></extra>",
           "legendgroup": "other_renewable_consumption",
           "line": {
            "color": "#32CD32",
            "dash": "solid"
           },
           "marker": {
            "symbol": "circle"
           },
           "mode": "lines",
           "name": "other_renewable_consumption",
           "opacity": 0.8,
           "orientation": "v",
           "showlegend": false,
           "type": "scatter",
           "x": {
            "bdata": "0AfRB9IH0wfUB9UH",
            "dtype": "i2"
           },
           "xaxis": "x",
           "y": {
            "bdata": "bOf7qfFEgUBKDAIrh+2BQHe+nxovV4NAqMZLN4lqhECcxCCwcg+GQLByaJHt84dA",
            "dtype": "f8"
           },
           "yaxis": "y"
          },
          {
           "hovertemplate": "Energy Type=solar_consumption<br>frame=6<br>year=%{x}<br>Energy Consumption=%{y}<extra></extra>",
           "legendgroup": "solar_consumption",
           "line": {
            "color": "#FF4500",
            "dash": "solid"
           },
           "marker": {
            "symbol": "circle"
           },
           "mode": "lines",
           "name": "solar_consumption",
           "opacity": 0.8,
           "orientation": "v",
           "showlegend": false,
           "type": "scatter",
           "x": {
            "bdata": "0AfRB9IH0wfUB9UH",
            "dtype": "i2"
           },
           "xaxis": "x",
           "y": {
            "bdata": "Vg4tsp3vCECkcD0K16MQQPyp8dJN4hRAarx0kxgEGkD4U+OlmwQhQMUgsHJo0SdA",
            "dtype": "f8"
           },
           "yaxis": "y"
          },
          {
           "hovertemplate": "Energy Type=wind_consumption<br>frame=6<br>year=%{x}<br>Energy Consumption=%{y}<extra></extra>",
           "legendgroup": "wind_consumption",
           "line": {
            "color": "#8A2BE2",
            "dash": "solid"
           },
           "marker": {
            "symbol": "circle"
           },
           "mode": "lines",
           "name": "wind_consumption",
           "opacity": 0.8,
           "orientation": "v",
           "showlegend": false,
           "type": "scatter",
           "x": {
            "bdata": "0AfRB9IH0wfUB9UH",
            "dtype": "i2"
           },
           "xaxis": "x",
           "y": {
            "bdata": "gZVDi2wHV0ASg8DKof1bQFg5tMh2+mJA2/l+arzQZkDP91Pjpa9uQEw3iUFgp3JA",
            "dtype": "f8"
           },
           "yaxis": "y"
          },
          {
           "hovertemplate": "Energy Type=hydro_consumption<br>frame=6<br>year=%{x}<br>Energy Consumption=%{y}<extra></extra>",
           "legendgroup": "hydro_consumption",
           "marker": {
            "color": "#1E90FF",
            "symbol": "circle"
           },
           "mode": "markers",
           "name": "hydro_consumption",
           "opacity": 1,
           "orientation": "v",
           "showlegend": true,
           "type": "scatter",
           "x": {
            "bdata": "1Qc=",
            "dtype": "i2"
           },
           "xaxis": "x",
           "y": {
            "bdata": "RIts53vBvUA=",
            "dtype": "f8"
           },
           "yaxis": "y"
          },
          {
           "hovertemplate": "Energy Type=other_renewable_consumption<br>frame=6<br>year=%{x}<br>Energy Consumption=%{y}<extra></extra>",
           "legendgroup": "other_renewable_consumption",
           "marker": {
            "color": "#32CD32",
            "symbol": "circle"
           },
           "mode": "markers",
           "name": "other_renewable_consumption",
           "opacity": 1,
           "orientation": "v",
           "showlegend": true,
           "type": "scatter",
           "x": {
            "bdata": "1Qc=",
            "dtype": "i2"
           },
           "xaxis": "x",
           "y": {
            "bdata": "sHJoke3zh0A=",
            "dtype": "f8"
           },
           "yaxis": "y"
          },
          {
           "hovertemplate": "Energy Type=solar_consumption<br>frame=6<br>year=%{x}<br>Energy Consumption=%{y}<extra></extra>",
           "legendgroup": "solar_consumption",
           "marker": {
            "color": "#FF4500",
            "symbol": "circle"
           },
           "mode": "markers",
           "name": "solar_consumption",
           "opacity": 1,
           "orientation": "v",
           "showlegend": true,
           "type": "scatter",
           "x": {
            "bdata": "1Qc=",
            "dtype": "i2"
           },
           "xaxis": "x",
           "y": {
            "bdata": "xSCwcmjRJ0A=",
            "dtype": "f8"
           },
           "yaxis": "y"
          },
          {
           "hovertemplate": "Energy Type=wind_consumption<br>frame=6<br>year=%{x}<br>Energy Consumption=%{y}<extra></extra>",
           "legendgroup": "wind_consumption",
           "marker": {
            "color": "#8A2BE2",
            "symbol": "circle"
           },
           "mode": "markers",
           "name": "wind_consumption",
           "opacity": 1,
           "orientation": "v",
           "showlegend": true,
           "type": "scatter",
           "x": {
            "bdata": "1Qc=",
            "dtype": "i2"
           },
           "xaxis": "x",
           "y": {
            "bdata": "TDeJQWCnckA=",
            "dtype": "f8"
           },
           "yaxis": "y"
          }
         ],
         "name": "6"
        },
        {
         "data": [
          {
           "hovertemplate": "Energy Type=hydro_consumption<br>frame=7<br>year=%{x}<br>Energy Consumption=%{y}<extra></extra>",
           "legendgroup": "hydro_consumption",
           "line": {
            "color": "#1E90FF",
            "dash": "solid"
           },
           "marker": {
            "symbol": "circle"
           },
           "mode": "lines",
           "name": "hydro_consumption",
           "opacity": 0.8,
           "orientation": "v",
           "showlegend": false,
           "type": "scatter",
           "x": {
            "bdata": "0AfRB9IH0wfUB9UH1gc=",
            "dtype": "i2"
           },
           "xaxis": "x",
           "y": {
            "bdata": "bxKDwOr/u0DHSzeJIRW7QMdLN4mBV7tAzczMzIwMu0CkcD0KF/K8QESLbOd7wb1A7nw/NT7HvkA=",
            "dtype": "f8"
           },
           "yaxis": "y"
          },
          {
           "hovertemplate": "Energy Type=other_renewable_consumption<br>frame=7<br>year=%{x}<br>Energy Consumption=%{y}<extra></extra>",
           "legendgroup": "other_renewable_consumption",
           "line": {
            "color": "#32CD32",
            "dash": "solid"
           },
           "marker": {
            "symbol": "circle"
           },
           "mode": "lines",
           "name": "other_renewable_consumption",
           "opacity": 0.8,
           "orientation": "v",
           "showlegend": false,
           "type": "scatter",
           "x": {
            "bdata": "0AfRB9IH0wfUB9UH1gc=",
            "dtype": "i2"
           },
           "xaxis": "x",
           "y": {
            "bdata": "bOf7qfFEgUBKDAIrh+2BQHe+nxovV4NAqMZLN4lqhECcxCCwcg+GQLByaJHt84dA7FG4HoVyiUA=",
            "dtype": "f8"
           },
           "yaxis": "y"
          },
          {
           "hovertemplate": "Energy Type=solar_consumption<br>frame=7<br>year=%{x}<br>Energy Consumption=%{y}<extra></extra>",
           "legendgroup": "solar_consumption",
           "line": {
            "color": "#FF4500",
            "dash": "solid"
           },
           "marker": {
            "symbol": "circle"
           },
           "mode": "lines",
           "name": "solar_consumption",
           "opacity": 0.8,
           "orientation": "v",
           "showlegend": false,
           "type": "scatter",
           "x": {
            "bdata": "0AfRB9IH0wfUB9UH1gc=",
            "dtype": "i2"
           },
           "xaxis": "x",
           "y": {
            "bdata": "Vg4tsp3vCECkcD0K16MQQPyp8dJN4hRAarx0kxgEGkD4U+OlmwQhQMUgsHJo0SdAYhBYObRIMEA=",
            "dtype": "f8"
           },
           "yaxis": "y"
          },
          {
           "hovertemplate": "Energy Type=wind_consumption<br>frame=7<br>year=%{x}<br>Energy Consumption=%{y}<extra></extra>",
           "legendgroup": "wind_consumption",
           "line": {
            "color": "#8A2BE2",
            "dash": "solid"
           },
           "marker": {
            "symbol": "circle"
           },
           "mode": "lines",
           "name": "wind_consumption",
           "opacity": 0.8,
           "orientation": "v",
           "showlegend": false,
           "type": "scatter",
           "x": {
            "bdata": "0AfRB9IH0wfUB9UH1gc=",
            "dtype": "i2"
           },
           "xaxis": "x",
           "y": {
            "bdata": "gZVDi2wHV0ASg8DKof1bQFg5tMh2+mJA2/l+arzQZkDP91Pjpa9uQEw3iUFgp3JAQmDl0CKnd0A=",
            "dtype": "f8"
           },
           "yaxis": "y"
          },
          {
           "hovertemplate": "Energy Type=hydro_consumption<br>frame=7<br>year=%{x}<br>Energy Consumption=%{y}<extra></extra>",
           "legendgroup": "hydro_consumption",
           "marker": {
            "color": "#1E90FF",
            "symbol": "circle"
           },
           "mode": "markers",
           "name": "hydro_consumption",
           "opacity": 1,
           "orientation": "v",
           "showlegend": true,
           "type": "scatter",
           "x": {
            "bdata": "1gc=",
            "dtype": "i2"
           },
           "xaxis": "x",
           "y": {
            "bdata": "7nw/NT7HvkA=",
            "dtype": "f8"
           },
           "yaxis": "y"
          },
          {
           "hovertemplate": "Energy Type=other_renewable_consumption<br>frame=7<br>year=%{x}<br>Energy Consumption=%{y}<extra></extra>",
           "legendgroup": "other_renewable_consumption",
           "marker": {
            "color": "#32CD32",
            "symbol": "circle"
           },
           "mode": "markers",
           "name": "other_renewable_consumption",
           "opacity": 1,
           "orientation": "v",
           "showlegend": true,
           "type": "scatter",
           "x": {
            "bdata": "1gc=",
            "dtype": "i2"
           },
           "xaxis": "x",
           "y": {
            "bdata": "7FG4HoVyiUA=",
            "dtype": "f8"
           },
           "yaxis": "y"
          },
          {
           "hovertemplate": "Energy Type=solar_consumption<br>frame=7<br>year=%{x}<br>Energy Consumption=%{y}<extra></extra>",
           "legendgroup": "solar_consumption",
           "marker": {
            "color": "#FF4500",
            "symbol": "circle"
           },
           "mode": "markers",
           "name": "solar_consumption",
           "opacity": 1,
           "orientation": "v",
           "showlegend": true,
           "type": "scatter",
           "x": {
            "bdata": "1gc=",
            "dtype": "i2"
           },
           "xaxis": "x",
           "y": {
            "bdata": "YhBYObRIMEA=",
            "dtype": "f8"
           },
           "yaxis": "y"
          },
          {
           "hovertemplate": "Energy Type=wind_consumption<br>frame=7<br>year=%{x}<br>Energy Consumption=%{y}<extra></extra>",
           "legendgroup": "wind_consumption",
           "marker": {
            "color": "#8A2BE2",
            "symbol": "circle"
           },
           "mode": "markers",
           "name": "wind_consumption",
           "opacity": 1,
           "orientation": "v",
           "showlegend": true,
           "type": "scatter",
           "x": {
            "bdata": "1gc=",
            "dtype": "i2"
           },
           "xaxis": "x",
           "y": {
            "bdata": "QmDl0CKnd0A=",
            "dtype": "f8"
           },
           "yaxis": "y"
          }
         ],
         "name": "7"
        },
        {
         "data": [
          {
           "hovertemplate": "Energy Type=hydro_consumption<br>frame=8<br>year=%{x}<br>Energy Consumption=%{y}<extra></extra>",
           "legendgroup": "hydro_consumption",
           "line": {
            "color": "#1E90FF",
            "dash": "solid"
           },
           "marker": {
            "symbol": "circle"
           },
           "mode": "lines",
           "name": "hydro_consumption",
           "opacity": 0.8,
           "orientation": "v",
           "showlegend": false,
           "type": "scatter",
           "x": {
            "bdata": "0AfRB9IH0wfUB9UH1gfXBw==",
            "dtype": "i2"
           },
           "xaxis": "x",
           "y": {
            "bdata": "bxKDwOr/u0DHSzeJIRW7QMdLN4mBV7tAzczMzIwMu0CkcD0KF/K8QESLbOd7wb1A7nw/NT7HvkBzaJHtnBa/QA==",
            "dtype": "f8"
           },
           "yaxis": "y"
          },
          {
           "hovertemplate": "Energy Type=other_renewable_consumption<br>frame=8<br>year=%{x}<br>Energy Consumption=%{y}<extra></extra>",
           "legendgroup": "other_renewable_consumption",
           "line": {
            "color": "#32CD32",
            "dash": "solid"
           },
           "marker": {
            "symbol": "circle"
           },
           "mode": "lines",
           "name": "other_renewable_consumption",
           "opacity": 0.8,
           "orientation": "v",
           "showlegend": false,
           "type": "scatter",
           "x": {
            "bdata": "0AfRB9IH0wfUB9UH1gfXBw==",
            "dtype": "i2"
           },
           "xaxis": "x",
           "y": {
            "bdata": "bOf7qfFEgUBKDAIrh+2BQHe+nxovV4NAqMZLN4lqhECcxCCwcg+GQLByaJHt84dA7FG4HoVyiUBaZDvfT6+LQA==",
            "dtype": "f8"
           },
           "yaxis": "y"
          },
          {
           "hovertemplate": "Energy Type=solar_consumption<br>frame=8<br>year=%{x}<br>Energy Consumption=%{y}<extra></extra>",
           "legendgroup": "solar_consumption",
           "line": {
            "color": "#FF4500",
            "dash": "solid"
           },
           "marker": {
            "symbol": "circle"
           },
           "mode": "lines",
           "name": "solar_consumption",
           "opacity": 0.8,
           "orientation": "v",
           "showlegend": false,
           "type": "scatter",
           "x": {
            "bdata": "0AfRB9IH0wfUB9UH1gfXBw==",
            "dtype": "i2"
           },
           "xaxis": "x",
           "y": {
            "bdata": "Vg4tsp3vCECkcD0K16MQQPyp8dJN4hRAarx0kxgEGkD4U+OlmwQhQMUgsHJo0SdAYhBYObRIMECHFtnO9/M1QA==",
            "dtype": "f8"
           },
           "yaxis": "y"
          },
          {
           "hovertemplate": "Energy Type=wind_consumption<br>frame=8<br>year=%{x}<br>Energy Consumption=%{y}<extra></extra>",
           "legendgroup": "wind_consumption",
           "line": {
            "color": "#8A2BE2",
            "dash": "solid"
           },
           "marker": {
            "symbol": "circle"
           },
           "mode": "lines",
           "name": "wind_consumption",
           "opacity": 0.8,
           "orientation": "v",
           "showlegend": false,
           "type": "scatter",
           "x": {
            "bdata": "0AfRB9IH0wfUB9UH1gfXBw==",
            "dtype": "i2"
           },
           "xaxis": "x",
           "y": {
            "bdata": "gZVDi2wHV0ASg8DKof1bQFg5tMh2+mJA2/l+arzQZkDP91Pjpa9uQEw3iUFgp3JAQmDl0CKnd0DpJjEIrDh+QA==",
            "dtype": "f8"
           },
           "yaxis": "y"
          },
          {
           "hovertemplate": "Energy Type=hydro_consumption<br>frame=8<br>year=%{x}<br>Energy Consumption=%{y}<extra></extra>",
           "legendgroup": "hydro_consumption",
           "marker": {
            "color": "#1E90FF",
            "symbol": "circle"
           },
           "mode": "markers",
           "name": "hydro_consumption",
           "opacity": 1,
           "orientation": "v",
           "showlegend": true,
           "type": "scatter",
           "x": {
            "bdata": "1wc=",
            "dtype": "i2"
           },
           "xaxis": "x",
           "y": {
            "bdata": "c2iR7ZwWv0A=",
            "dtype": "f8"
           },
           "yaxis": "y"
          },
          {
           "hovertemplate": "Energy Type=other_renewable_consumption<br>frame=8<br>year=%{x}<br>Energy Consumption=%{y}<extra></extra>",
           "legendgroup": "other_renewable_consumption",
           "marker": {
            "color": "#32CD32",
            "symbol": "circle"
           },
           "mode": "markers",
           "name": "other_renewable_consumption",
           "opacity": 1,
           "orientation": "v",
           "showlegend": true,
           "type": "scatter",
           "x": {
            "bdata": "1wc=",
            "dtype": "i2"
           },
           "xaxis": "x",
           "y": {
            "bdata": "WmQ730+vi0A=",
            "dtype": "f8"
           },
           "yaxis": "y"
          },
          {
           "hovertemplate": "Energy Type=solar_consumption<br>frame=8<br>year=%{x}<br>Energy Consumption=%{y}<extra></extra>",
           "legendgroup": "solar_consumption",
           "marker": {
            "color": "#FF4500",
            "symbol": "circle"
           },
           "mode": "markers",
           "name": "solar_consumption",
           "opacity": 1,
           "orientation": "v",
           "showlegend": true,
           "type": "scatter",
           "x": {
            "bdata": "1wc=",
            "dtype": "i2"
           },
           "xaxis": "x",
           "y": {
            "bdata": "hxbZzvfzNUA=",
            "dtype": "f8"
           },
           "yaxis": "y"
          },
          {
           "hovertemplate": "Energy Type=wind_consumption<br>frame=8<br>year=%{x}<br>Energy Consumption=%{y}<extra></extra>",
           "legendgroup": "wind_consumption",
           "marker": {
            "color": "#8A2BE2",
            "symbol": "circle"
           },
           "mode": "markers",
           "name": "wind_consumption",
           "opacity": 1,
           "orientation": "v",
           "showlegend": true,
           "type": "scatter",
           "x": {
            "bdata": "1wc=",
            "dtype": "i2"
           },
           "xaxis": "x",
           "y": {
            "bdata": "6SYxCKw4fkA=",
            "dtype": "f8"
           },
           "yaxis": "y"
          }
         ],
         "name": "8"
        },
        {
         "data": [
          {
           "hovertemplate": "Energy Type=hydro_consumption<br>frame=9<br>year=%{x}<br>Energy Consumption=%{y}<extra></extra>",
           "legendgroup": "hydro_consumption",
           "line": {
            "color": "#1E90FF",
            "dash": "solid"
           },
           "marker": {
            "symbol": "circle"
           },
           "mode": "lines",
           "name": "hydro_consumption",
           "opacity": 0.8,
           "orientation": "v",
           "showlegend": false,
           "type": "scatter",
           "x": {
            "bdata": "0AfRB9IH0wfUB9UH1gfXB9gH",
            "dtype": "i2"
           },
           "xaxis": "x",
           "y": {
            "bdata": "bxKDwOr/u0DHSzeJIRW7QMdLN4mBV7tAzczMzIwMu0CkcD0KF/K8QESLbOd7wb1A7nw/NT7HvkBzaJHtnBa/QGDl0CLba8BA",
            "dtype": "f8"
           },
           "yaxis": "y"
          },
          {
           "hovertemplate": "Energy Type=other_renewable_consumption<br>frame=9<br>year=%{x}<br>Energy Consumption=%{y}<extra></extra>",
           "legendgroup": "other_renewable_consumption",
           "line": {
            "color": "#32CD32",
            "dash": "solid"
           },
           "marker": {
            "symbol": "circle"
           },
           "mode": "lines",
           "name": "other_renewable_consumption",
           "opacity": 0.8,
           "orientation": "v",
           "showlegend": false,
           "type": "scatter",
           "x": {
            "bdata": "0AfRB9IH0wfUB9UH1gfXB9gH",
            "dtype": "i2"
           },
           "xaxis": "x",
           "y": {
            "bdata": "bOf7qfFEgUBKDAIrh+2BQHe+nxovV4NAqMZLN4lqhECcxCCwcg+GQLByaJHt84dA7FG4HoVyiUBaZDvfT6+LQC/dJAaBjI1A",
            "dtype": "f8"
           },
           "yaxis": "y"
          },
          {
           "hovertemplate": "Energy Type=solar_consumption<br>frame=9<br>year=%{x}<br>Energy Consumption=%{y}<extra></extra>",
           "legendgroup": "solar_consumption",
           "line": {
            "color": "#FF4500",
            "dash": "solid"
           },
           "marker": {
            "symbol": "circle"
           },
           "mode": "lines",
           "name": "solar_consumption",
           "opacity": 0.8,
           "orientation": "v",
           "showlegend": false,
           "type": "scatter",
           "x": {
            "bdata": "0AfRB9IH0wfUB9UH1gfXB9gH",
            "dtype": "i2"
           },
           "xaxis": "x",
           "y": {
            "bdata": "Vg4tsp3vCECkcD0K16MQQPyp8dJN4hRAarx0kxgEGkD4U+OlmwQhQMUgsHJo0SdAYhBYObRIMECHFtnO9/M1QGZmZmZmtkFA",
            "dtype": "f8"
           },
           "yaxis": "y"
          },
          {
           "hovertemplate": "Energy Type=wind_consumption<br>frame=9<br>year=%{x}<br>Energy Consumption=%{y}<extra></extra>",
           "legendgroup": "wind_consumption",
           "line": {
            "color": "#8A2BE2",
            "dash": "solid"
           },
           "marker": {
            "symbol": "circle"
           },
           "mode": "lines",
           "name": "wind_consumption",
           "opacity": 0.8,
           "orientation": "v",
           "showlegend": false,
           "type": "scatter",
           "x": {
            "bdata": "0AfRB9IH0wfUB9UH1gfXB9gH",
            "dtype": "i2"
           },
           "xaxis": "x",
           "y": {
            "bdata": "gZVDi2wHV0ASg8DKof1bQFg5tMh2+mJA2/l+arzQZkDP91Pjpa9uQEw3iUFgp3JAQmDl0CKnd0DpJjEIrDh+QLKd76fGZoNA",
            "dtype": "f8"
           },
           "yaxis": "y"
          },
          {
           "hovertemplate": "Energy Type=hydro_consumption<br>frame=9<br>year=%{x}<br>Energy Consumption=%{y}<extra></extra>",
           "legendgroup": "hydro_consumption",
           "marker": {
            "color": "#1E90FF",
            "symbol": "circle"
           },
           "mode": "markers",
           "name": "hydro_consumption",
           "opacity": 1,
           "orientation": "v",
           "showlegend": true,
           "type": "scatter",
           "x": {
            "bdata": "2Ac=",
            "dtype": "i2"
           },
           "xaxis": "x",
           "y": {
            "bdata": "YOXQIttrwEA=",
            "dtype": "f8"
           },
           "yaxis": "y"
          },
          {
           "hovertemplate": "Energy Type=other_renewable_consumption<br>frame=9<br>year=%{x}<br>Energy Consumption=%{y}<extra></extra>",
           "legendgroup": "other_renewable_consumption",
           "marker": {
            "color": "#32CD32",
            "symbol": "circle"
           },
           "mode": "markers",
           "name": "other_renewable_consumption",
           "opacity": 1,
           "orientation": "v",
           "showlegend": true,
           "type": "scatter",
           "x": {
            "bdata": "2Ac=",
            "dtype": "i2"
           },
           "xaxis": "x",
           "y": {
            "bdata": "L90kBoGMjUA=",
            "dtype": "f8"
           },
           "yaxis": "y"
          },
          {
           "hovertemplate": "Energy Type=solar_consumption<br>frame=9<br>year=%{x}<br>Energy Consumption=%{y}<extra></extra>",
           "legendgroup": "solar_consumption",
           "marker": {
            "color": "#FF4500",
            "symbol": "circle"
           },
           "mode": "markers",
           "name": "solar_consumption",
           "opacity": 1,
           "orientation": "v",
           "showlegend": true,
           "type": "scatter",
           "x": {
            "bdata": "2Ac=",
            "dtype": "i2"
           },
           "xaxis": "x",
           "y": {
            "bdata": "ZmZmZma2QUA=",
            "dtype": "f8"
           },
           "yaxis": "y"
          },
          {
           "hovertemplate": "Energy Type=wind_consumption<br>frame=9<br>year=%{x}<br>Energy Consumption=%{y}<extra></extra>",
           "legendgroup": "wind_consumption",
           "marker": {
            "color": "#8A2BE2",
            "symbol": "circle"
           },
           "mode": "markers",
           "name": "wind_consumption",
           "opacity": 1,
           "orientation": "v",
           "showlegend": true,
           "type": "scatter",
           "x": {
            "bdata": "2Ac=",
            "dtype": "i2"
           },
           "xaxis": "x",
           "y": {
            "bdata": "sp3vp8Zmg0A=",
            "dtype": "f8"
           },
           "yaxis": "y"
          }
         ],
         "name": "9"
        },
        {
         "data": [
          {
           "hovertemplate": "Energy Type=hydro_consumption<br>frame=10<br>year=%{x}<br>Energy Consumption=%{y}<extra></extra>",
           "legendgroup": "hydro_consumption",
           "line": {
            "color": "#1E90FF",
            "dash": "solid"
           },
           "marker": {
            "symbol": "circle"
           },
           "mode": "lines",
           "name": "hydro_consumption",
           "opacity": 0.8,
           "orientation": "v",
           "showlegend": false,
           "type": "scatter",
           "x": {
            "bdata": "0AfRB9IH0wfUB9UH1gfXB9gH2Qc=",
            "dtype": "i2"
           },
           "xaxis": "x",
           "y": {
            "bdata": "bxKDwOr/u0DHSzeJIRW7QMdLN4mBV7tAzczMzIwMu0CkcD0KF/K8QESLbOd7wb1A7nw/NT7HvkBzaJHtnBa/QGDl0CLba8BADi2ynT9FwEA=",
            "dtype": "f8"
           },
           "yaxis": "y"
          },
          {
           "hovertemplate": "Energy Type=other_renewable_consumption<br>frame=10<br>year=%{x}<br>Energy Consumption=%{y}<extra></extra>",
           "legendgroup": "other_renewable_consumption",
           "line": {
            "color": "#32CD32",
            "dash": "solid"
           },
           "marker": {
            "symbol": "circle"
           },
           "mode": "lines",
           "name": "other_renewable_consumption",
           "opacity": 0.8,
           "orientation": "v",
           "showlegend": false,
           "type": "scatter",
           "x": {
            "bdata": "0AfRB9IH0wfUB9UH1gfXB9gH2Qc=",
            "dtype": "i2"
           },
           "xaxis": "x",
           "y": {
            "bdata": "bOf7qfFEgUBKDAIrh+2BQHe+nxovV4NAqMZLN4lqhECcxCCwcg+GQLByaJHt84dA7FG4HoVyiUBaZDvfT6+LQC/dJAaBjI1AeekmMQi9j0A=",
            "dtype": "f8"
           },
           "yaxis": "y"
          },
          {
           "hovertemplate": "Energy Type=solar_consumption<br>frame=10<br>year=%{x}<br>Energy Consumption=%{y}<extra></extra>",
           "legendgroup": "solar_consumption",
           "line": {
            "color": "#FF4500",
            "dash": "solid"
           },
           "marker": {
            "symbol": "circle"
           },
           "mode": "lines",
           "name": "solar_consumption",
           "opacity": 0.8,
           "orientation": "v",
           "showlegend": false,
           "type": "scatter",
           "x": {
            "bdata": "0AfRB9IH0wfUB9UH1gfXB9gH2Qc=",
            "dtype": "i2"
           },
           "xaxis": "x",
           "y": {
            "bdata": "Vg4tsp3vCECkcD0K16MQQPyp8dJN4hRAarx0kxgEGkD4U+OlmwQhQMUgsHJo0SdAYhBYObRIMECHFtnO9/M1QGZmZmZmtkFAAAAAAABATUA=",
            "dtype": "f8"
           },
           "yaxis": "y"
          },
          {
           "hovertemplate": "Energy Type=wind_consumption<br>frame=10<br>year=%{x}<br>Energy Consumption=%{y}<extra></extra>",
           "legendgroup": "wind_consumption",
           "line": {
            "color": "#8A2BE2",
            "dash": "solid"
           },
           "marker": {
            "symbol": "circle"
           },
           "mode": "lines",
           "name": "wind_consumption",
           "opacity": 0.8,
           "orientation": "v",
           "showlegend": false,
           "type": "scatter",
           "x": {
            "bdata": "0AfRB9IH0wfUB9UH1gfXB9gH2Qc=",
            "dtype": "i2"
           },
           "xaxis": "x",
           "y": {
            "bdata": "gZVDi2wHV0ASg8DKof1bQFg5tMh2+mJA2/l+arzQZkDP91Pjpa9uQEw3iUFgp3JAQmDl0CKnd0DpJjEIrDh+QLKd76fGZoNAqMZLN4kUiEA=",
            "dtype": "f8"
           },
           "yaxis": "y"
          },
          {
           "hovertemplate": "Energy Type=hydro_consumption<br>frame=10<br>year=%{x}<br>Energy Consumption=%{y}<extra></extra>",
           "legendgroup": "hydro_consumption",
           "marker": {
            "color": "#1E90FF",
            "symbol": "circle"
           },
           "mode": "markers",
           "name": "hydro_consumption",
           "opacity": 1,
           "orientation": "v",
           "showlegend": true,
           "type": "scatter",
           "x": {
            "bdata": "2Qc=",
            "dtype": "i2"
           },
           "xaxis": "x",
           "y": {
            "bdata": "Di2ynT9FwEA=",
            "dtype": "f8"
           },
           "yaxis": "y"
          },
          {
           "hovertemplate": "Energy Type=other_renewable_consumption<br>frame=10<br>year=%{x}<br>Energy Consumption=%{y}<extra></extra>",
           "legendgroup": "other_renewable_consumption",
           "marker": {
            "color": "#32CD32",
            "symbol": "circle"
           },
           "mode": "markers",
           "name": "other_renewable_consumption",
           "opacity": 1,
           "orientation": "v",
           "showlegend": true,
           "type": "scatter",
           "x": {
            "bdata": "2Qc=",
            "dtype": "i2"
           },
           "xaxis": "x",
           "y": {
            "bdata": "eekmMQi9j0A=",
            "dtype": "f8"
           },
           "yaxis": "y"
          },
          {
           "hovertemplate": "Energy Type=solar_consumption<br>frame=10<br>year=%{x}<br>Energy Consumption=%{y}<extra></extra>",
           "legendgroup": "solar_consumption",
           "marker": {
            "color": "#FF4500",
            "symbol": "circle"
           },
           "mode": "markers",
           "name": "solar_consumption",
           "opacity": 1,
           "orientation": "v",
           "showlegend": true,
           "type": "scatter",
           "x": {
            "bdata": "2Qc=",
            "dtype": "i2"
           },
           "xaxis": "x",
           "y": {
            "bdata": "AAAAAABATUA=",
            "dtype": "f8"
           },
           "yaxis": "y"
          },
          {
           "hovertemplate": "Energy Type=wind_consumption<br>frame=10<br>year=%{x}<br>Energy Consumption=%{y}<extra></extra>",
           "legendgroup": "wind_consumption",
           "marker": {
            "color": "#8A2BE2",
            "symbol": "circle"
           },
           "mode": "markers",
           "name": "wind_consumption",
           "opacity": 1,
           "orientation": "v",
           "showlegend": true,
           "type": "scatter",
           "x": {
            "bdata": "2Qc=",
            "dtype": "i2"
           },
           "xaxis": "x",
           "y": {
            "bdata": "qMZLN4kUiEA=",
            "dtype": "f8"
           },
           "yaxis": "y"
          }
         ],
         "name": "10"
        },
        {
         "data": [
          {
           "hovertemplate": "Energy Type=hydro_consumption<br>frame=11<br>year=%{x}<br>Energy Consumption=%{y}<extra></extra>",
           "legendgroup": "hydro_consumption",
           "line": {
            "color": "#1E90FF",
            "dash": "solid"
           },
           "marker": {
            "symbol": "circle"
           },
           "mode": "lines",
           "name": "hydro_consumption",
           "opacity": 0.8,
           "orientation": "v",
           "showlegend": false,
           "type": "scatter",
           "x": {
            "bdata": "0AfRB9IH0wfUB9UH1gfXB9gH2QfaBw==",
            "dtype": "i2"
           },
           "xaxis": "x",
           "y": {
            "bdata": "bxKDwOr/u0DHSzeJIRW7QMdLN4mBV7tAzczMzIwMu0CkcD0KF/K8QESLbOd7wb1A7nw/NT7HvkBzaJHtnBa/QGDl0CLba8BADi2ynT9FwECcxCCwgv7AQA==",
            "dtype": "f8"
           },
           "yaxis": "y"
          },
          {
           "hovertemplate": "Energy Type=other_renewable_consumption<br>frame=11<br>year=%{x}<br>Energy Consumption=%{y}<extra></extra>",
           "legendgroup": "other_renewable_consumption",
           "line": {
            "color": "#32CD32",
            "dash": "solid"
           },
           "marker": {
            "symbol": "circle"
           },
           "mode": "lines",
           "name": "other_renewable_consumption",
           "opacity": 0.8,
           "orientation": "v",
           "showlegend": false,
           "type": "scatter",
           "x": {
            "bdata": "0AfRB9IH0wfUB9UH1gfXB9gH2QfaBw==",
            "dtype": "i2"
           },
           "xaxis": "x",
           "y": {
            "bdata": "bOf7qfFEgUBKDAIrh+2BQHe+nxovV4NAqMZLN4lqhECcxCCwcg+GQLByaJHt84dA7FG4HoVyiUBaZDvfT6+LQC/dJAaBjI1AeekmMQi9j0BCYOXQoseRQA==",
            "dtype": "f8"
           },
           "yaxis": "y"
          },
          {
           "hovertemplate": "Energy Type=solar_consumption<br>frame=11<br>year=%{x}<br>Energy Consumption=%{y}<extra></extra>",
           "legendgroup": "solar_consumption",
           "line": {
            "color": "#FF4500",
            "dash": "solid"
           },
           "marker": {
            "symbol": "circle"
           },
           "mode": "lines",
           "name": "solar_consumption",
           "opacity": 0.8,
           "orientation": "v",
           "showlegend": false,
           "type": "scatter",
           "x": {
            "bdata": "0AfRB9IH0wfUB9UH1gfXB9gH2QfaBw==",
            "dtype": "i2"
           },
           "xaxis": "x",
           "y": {
            "bdata": "Vg4tsp3vCECkcD0K16MQQPyp8dJN4hRAarx0kxgEGkD4U+OlmwQhQMUgsHJo0SdAYhBYObRIMECHFtnO9/M1QGZmZmZmtkFAAAAAAABATUAlBoGVQ1tXQA==",
            "dtype": "f8"
           },
           "yaxis": "y"
          },
          {
           "hovertemplate": "Energy Type=wind_consumption<br>frame=11<br>year=%{x}<br>Energy Consumption=%{y}<extra></extra>",
           "legendgroup": "wind_consumption",
           "line": {
            "color": "#8A2BE2",
            "dash": "solid"
           },
           "marker": {
            "symbol": "circle"
           },
           "mode": "lines",
           "name": "wind_consumption",
           "opacity": 0.8,
           "orientation": "v",
           "showlegend": false,
           "type": "scatter",
           "x": {
            "bdata": "0AfRB9IH0wfUB9UH1gfXB9gH2QfaBw==",
            "dtype": "i2"
           },
           "xaxis": "x",
           "y": {
            "bdata": "gZVDi2wHV0ASg8DKof1bQFg5tMh2+mJA2/l+arzQZkDP91Pjpa9uQEw3iUFgp3JAQmDl0CKnd0DpJjEIrDh+QLKd76fGZoNAqMZLN4kUiECe76fGS/KNQA==",
            "dtype": "f8"
           },
           "yaxis": "y"
          },
          {
           "hovertemplate": "Energy Type=hydro_consumption<br>frame=11<br>year=%{x}<br>Energy Consumption=%{y}<extra></extra>",
           "legendgroup": "hydro_consumption",
           "marker": {
            "color": "#1E90FF",
            "symbol": "circle"
           },
           "mode": "markers",
           "name": "hydro_consumption",
           "opacity": 1,
           "orientation": "v",
           "showlegend": true,
           "type": "scatter",
           "x": {
            "bdata": "2gc=",
            "dtype": "i2"
           },
           "xaxis": "x",
           "y": {
            "bdata": "nMQgsIL+wEA=",
            "dtype": "f8"
           },
           "yaxis": "y"
          },
          {
           "hovertemplate": "Energy Type=other_renewable_consumption<br>frame=11<br>year=%{x}<br>Energy Consumption=%{y}<extra></extra>",
           "legendgroup": "other_renewable_consumption",
           "marker": {
            "color": "#32CD32",
            "symbol": "circle"
           },
           "mode": "markers",
           "name": "other_renewable_consumption",
           "opacity": 1,
           "orientation": "v",
           "showlegend": true,
           "type": "scatter",
           "x": {
            "bdata": "2gc=",
            "dtype": "i2"
           },
           "xaxis": "x",
           "y": {
            "bdata": "QmDl0KLHkUA=",
            "dtype": "f8"
           },
           "yaxis": "y"
          },
          {
           "hovertemplate": "Energy Type=solar_consumption<br>frame=11<br>year=%{x}<br>Energy Consumption=%{y}<extra></extra>",
           "legendgroup": "solar_consumption",
           "marker": {
            "color": "#FF4500",
            "symbol": "circle"
           },
           "mode": "markers",
           "name": "solar_consumption",
           "opacity": 1,
           "orientation": "v",
           "showlegend": true,
           "type": "scatter",
           "x": {
            "bdata": "2gc=",
            "dtype": "i2"
           },
           "xaxis": "x",
           "y": {
            "bdata": "JQaBlUNbV0A=",
            "dtype": "f8"
           },
           "yaxis": "y"
          },
          {
           "hovertemplate": "Energy Type=wind_consumption<br>frame=11<br>year=%{x}<br>Energy Consumption=%{y}<extra></extra>",
           "legendgroup": "wind_consumption",
           "marker": {
            "color": "#8A2BE2",
            "symbol": "circle"
           },
           "mode": "markers",
           "name": "wind_consumption",
           "opacity": 1,
           "orientation": "v",
           "showlegend": true,
           "type": "scatter",
           "x": {
            "bdata": "2gc=",
            "dtype": "i2"
           },
           "xaxis": "x",
           "y": {
            "bdata": "nu+nxkvyjUA=",
            "dtype": "f8"
           },
           "yaxis": "y"
          }
         ],
         "name": "11"
        },
        {
         "data": [
          {
           "hovertemplate": "Energy Type=hydro_consumption<br>frame=12<br>year=%{x}<br>Energy Consumption=%{y}<extra></extra>",
           "legendgroup": "hydro_consumption",
           "line": {
            "color": "#1E90FF",
            "dash": "solid"
           },
           "marker": {
            "symbol": "circle"
           },
           "mode": "lines",
           "name": "hydro_consumption",
           "opacity": 0.8,
           "orientation": "v",
           "showlegend": false,
           "type": "scatter",
           "x": {
            "bdata": "0AfRB9IH0wfUB9UH1gfXB9gH2QfaB9sH",
            "dtype": "i2"
           },
           "xaxis": "x",
           "y": {
            "bdata": "bxKDwOr/u0DHSzeJIRW7QMdLN4mBV7tAzczMzIwMu0CkcD0KF/K8QESLbOd7wb1A7nw/NT7HvkBzaJHtnBa/QGDl0CLba8BADi2ynT9FwECcxCCwgv7AQDeJQWDlOsFA",
            "dtype": "f8"
           },
           "yaxis": "y"
          },
          {
           "hovertemplate": "Energy Type=other_renewable_consumption<br>frame=12<br>year=%{x}<br>Energy Consumption=%{y}<extra></extra>",
           "legendgroup": "other_renewable_consumption",
           "line": {
            "color": "#32CD32",
            "dash": "solid"
           },
           "marker": {
            "symbol": "circle"
           },
           "mode": "lines",
           "name": "other_renewable_consumption",
           "opacity": 0.8,
           "orientation": "v",
           "showlegend": false,
           "type": "scatter",
           "x": {
            "bdata": "0AfRB9IH0wfUB9UH1gfXB9gH2QfaB9sH",
            "dtype": "i2"
           },
           "xaxis": "x",
           "y": {
            "bdata": "bOf7qfFEgUBKDAIrh+2BQHe+nxovV4NAqMZLN4lqhECcxCCwcg+GQLByaJHt84dA7FG4HoVyiUBaZDvfT6+LQC/dJAaBjI1AeekmMQi9j0BCYOXQoseRQKRwPQrXrZJA",
            "dtype": "f8"
           },
           "yaxis": "y"
          },
          {
           "hovertemplate": "Energy Type=solar_consumption<br>frame=12<br>year=%{x}<br>Energy Consumption=%{y}<extra></extra>",
           "legendgroup": "solar_consumption",
           "line": {
            "color": "#FF4500",
            "dash": "solid"
           },
           "marker": {
            "symbol": "circle"
           },
           "mode": "lines",
           "name": "solar_consumption",
           "opacity": 0.8,
           "orientation": "v",
           "showlegend": false,
           "type": "scatter",
           "x": {
            "bdata": "0AfRB9IH0wfUB9UH1gfXB9gH2QfaB9sH",
            "dtype": "i2"
           },
           "xaxis": "x",
           "y": {
            "bdata": "Vg4tsp3vCECkcD0K16MQQPyp8dJN4hRAarx0kxgEGkD4U+OlmwQhQMUgsHJo0SdAYhBYObRIMECHFtnO9/M1QGZmZmZmtkFAAAAAAABATUAlBoGVQ1tXQNejcD0Ke2ZA",
            "dtype": "f8"
           },
           "yaxis": "y"
          },
          {
           "hovertemplate": "Energy Type=wind_consumption<br>frame=12<br>year=%{x}<br>Energy Consumption=%{y}<extra></extra>",
           "legendgroup": "wind_consumption",
           "line": {
            "color": "#8A2BE2",
            "dash": "solid"
           },
           "marker": {
            "symbol": "circle"
           },
           "mode": "lines",
           "name": "wind_consumption",
           "opacity": 0.8,
           "orientation": "v",
           "showlegend": false,
           "type": "scatter",
           "x": {
            "bdata": "0AfRB9IH0wfUB9UH1gfXB9gH2QfaB9sH",
            "dtype": "i2"
           },
           "xaxis": "x",
           "y": {
            "bdata": "gZVDi2wHV0ASg8DKof1bQFg5tMh2+mJA2/l+arzQZkDP91Pjpa9uQEw3iUFgp3JAQmDl0CKnd0DpJjEIrDh+QLKd76fGZoNAqMZLN4kUiECe76fGS/KNQKAaL92k7pJA",
            "dtype": "f8"
           },
           "yaxis": "y"
          },
          {
           "hovertemplate": "Energy Type=hydro_consumption<br>frame=12<br>year=%{x}<br>Energy Consumption=%{y}<extra></extra>",
           "legendgroup": "hydro_consumption",
           "marker": {
            "color": "#1E90FF",
            "symbol": "circle"
           },
           "mode": "markers",
           "name": "hydro_consumption",
           "opacity": 1,
           "orientation": "v",
           "showlegend": true,
           "type": "scatter",
           "x": {
            "bdata": "2wc=",
            "dtype": "i2"
           },
           "xaxis": "x",
           "y": {
            "bdata": "N4lBYOU6wUA=",
            "dtype": "f8"
           },
           "yaxis": "y"
          },
          {
           "hovertemplate": "Energy Type=other_renewable_consumption<br>frame=12<br>year=%{x}<br>Energy Consumption=%{y}<extra></extra>",
           "legendgroup": "other_renewable_consumption",
           "marker": {
            "color": "#32CD32",
            "symbol": "circle"
           },
           "mode": "markers",
           "name": "other_renewable_consumption",
           "opacity": 1,
           "orientation": "v",
           "showlegend": true,
           "type": "scatter",
           "x": {
            "bdata": "2wc=",
            "dtype": "i2"
           },
           "xaxis": "x",
           "y": {
            "bdata": "pHA9CtetkkA=",
            "dtype": "f8"
           },
           "yaxis": "y"
          },
          {
           "hovertemplate": "Energy Type=solar_consumption<br>frame=12<br>year=%{x}<br>Energy Consumption=%{y}<extra></extra>",
           "legendgroup": "solar_consumption",
           "marker": {
            "color": "#FF4500",
            "symbol": "circle"
           },
           "mode": "markers",
           "name": "solar_consumption",
           "opacity": 1,
           "orientation": "v",
           "showlegend": true,
           "type": "scatter",
           "x": {
            "bdata": "2wc=",
            "dtype": "i2"
           },
           "xaxis": "x",
           "y": {
            "bdata": "16NwPQp7ZkA=",
            "dtype": "f8"
           },
           "yaxis": "y"
          },
          {
           "hovertemplate": "Energy Type=wind_consumption<br>frame=12<br>year=%{x}<br>Energy Consumption=%{y}<extra></extra>",
           "legendgroup": "wind_consumption",
           "marker": {
            "color": "#8A2BE2",
            "symbol": "circle"
           },
           "mode": "markers",
           "name": "wind_consumption",
           "opacity": 1,
           "orientation": "v",
           "showlegend": true,
           "type": "scatter",
           "x": {
            "bdata": "2wc=",
            "dtype": "i2"
           },
           "xaxis": "x",
           "y": {
            "bdata": "oBov3aTukkA=",
            "dtype": "f8"
           },
           "yaxis": "y"
          }
         ],
         "name": "12"
        },
        {
         "data": [
          {
           "hovertemplate": "Energy Type=hydro_consumption<br>frame=13<br>year=%{x}<br>Energy Consumption=%{y}<extra></extra>",
           "legendgroup": "hydro_consumption",
           "line": {
            "color": "#1E90FF",
            "dash": "solid"
           },
           "marker": {
            "symbol": "circle"
           },
           "mode": "lines",
           "name": "hydro_consumption",
           "opacity": 0.8,
           "orientation": "v",
           "showlegend": false,
           "type": "scatter",
           "x": {
            "bdata": "0AfRB9IH0wfUB9UH1gfXB9gH2QfaB9sH3Ac=",
            "dtype": "i2"
           },
           "xaxis": "x",
           "y": {
            "bdata": "bxKDwOr/u0DHSzeJIRW7QMdLN4mBV7tAzczMzIwMu0CkcD0KF/K8QESLbOd7wb1A7nw/NT7HvkBzaJHtnBa/QGDl0CLba8BADi2ynT9FwECcxCCwgv7AQDeJQWDlOsFAoBov3ZThwUA=",
            "dtype": "f8"
           },
           "yaxis": "y"
          },
          {
           "hovertemplate": "Energy Type=other_renewable_consumption<br>frame=13<br>year=%{x}<br>Energy Consumption=%{y}<extra></extra>",
           "legendgroup": "other_renewable_consumption",
           "line": {
            "color": "#32CD32",
            "dash": "solid"
           },
           "marker": {
            "symbol": "circle"
           },
           "mode": "lines",
           "name": "other_renewable_consumption",
           "opacity": 0.8,
           "orientation": "v",
           "showlegend": false,
           "type": "scatter",
           "x": {
            "bdata": "0AfRB9IH0wfUB9UH1gfXB9gH2QfaB9sH3Ac=",
            "dtype": "i2"
           },
           "xaxis": "x",
           "y": {
            "bdata": "bOf7qfFEgUBKDAIrh+2BQHe+nxovV4NAqMZLN4lqhECcxCCwcg+GQLByaJHt84dA7FG4HoVyiUBaZDvfT6+LQC/dJAaBjI1AeekmMQi9j0BCYOXQoseRQKRwPQrXrZJATmIQWLk6lEA=",
            "dtype": "f8"
           },
           "yaxis": "y"
          },
          {
           "hovertemplate": "Energy Type=solar_consumption<br>frame=13<br>year=%{x}<br>Energy Consumption=%{y}<extra></extra>",
           "legendgroup": "solar_consumption",
           "line": {
            "color": "#FF4500",
            "dash": "solid"
           },
           "marker": {
            "symbol": "circle"
           },
           "mode": "lines",
           "name": "solar_consumption",
           "opacity": 0.8,
           "orientation": "v",
           "showlegend": false,
           "type": "scatter",
           "x": {
            "bdata": "0AfRB9IH0wfUB9UH1gfXB9gH2QfaB9sH3Ac=",
            "dtype": "i2"
           },
           "xaxis": "x",
           "y": {
            "bdata": "Vg4tsp3vCECkcD0K16MQQPyp8dJN4hRAarx0kxgEGkD4U+OlmwQhQMUgsHJo0SdAYhBYObRIMECHFtnO9/M1QGZmZmZmtkFAAAAAAABATUAlBoGVQ1tXQNejcD0Ke2ZAAAAAAABEcUA=",
            "dtype": "f8"
           },
           "yaxis": "y"
          },
          {
           "hovertemplate": "Energy Type=wind_consumption<br>frame=13<br>year=%{x}<br>Energy Consumption=%{y}<extra></extra>",
           "legendgroup": "wind_consumption",
           "line": {
            "color": "#8A2BE2",
            "dash": "solid"
           },
           "marker": {
            "symbol": "circle"
           },
           "mode": "lines",
           "name": "wind_consumption",
           "opacity": 0.8,
           "orientation": "v",
           "showlegend": false,
           "type": "scatter",
           "x": {
            "bdata": "0AfRB9IH0wfUB9UH1gfXB9gH2QfaB9sH3Ac=",
            "dtype": "i2"
           },
           "xaxis": "x",
           "y": {
            "bdata": "gZVDi2wHV0ASg8DKof1bQFg5tMh2+mJA2/l+arzQZkDP91Pjpa9uQEw3iUFgp3JAQmDl0CKnd0DpJjEIrDh+QLKd76fGZoNAqMZLN4kUiECe76fGS/KNQKAaL92k7pJAEFg5tEihlkA=",
            "dtype": "f8"
           },
           "yaxis": "y"
          },
          {
           "hovertemplate": "Energy Type=hydro_consumption<br>frame=13<br>year=%{x}<br>Energy Consumption=%{y}<extra></extra>",
           "legendgroup": "hydro_consumption",
           "marker": {
            "color": "#1E90FF",
            "symbol": "circle"
           },
           "mode": "markers",
           "name": "hydro_consumption",
           "opacity": 1,
           "orientation": "v",
           "showlegend": true,
           "type": "scatter",
           "x": {
            "bdata": "3Ac=",
            "dtype": "i2"
           },
           "xaxis": "x",
           "y": {
            "bdata": "oBov3ZThwUA=",
            "dtype": "f8"
           },
           "yaxis": "y"
          },
          {
           "hovertemplate": "Energy Type=other_renewable_consumption<br>frame=13<br>year=%{x}<br>Energy Consumption=%{y}<extra></extra>",
           "legendgroup": "other_renewable_consumption",
           "marker": {
            "color": "#32CD32",
            "symbol": "circle"
           },
           "mode": "markers",
           "name": "other_renewable_consumption",
           "opacity": 1,
           "orientation": "v",
           "showlegend": true,
           "type": "scatter",
           "x": {
            "bdata": "3Ac=",
            "dtype": "i2"
           },
           "xaxis": "x",
           "y": {
            "bdata": "TmIQWLk6lEA=",
            "dtype": "f8"
           },
           "yaxis": "y"
          },
          {
           "hovertemplate": "Energy Type=solar_consumption<br>frame=13<br>year=%{x}<br>Energy Consumption=%{y}<extra></extra>",
           "legendgroup": "solar_consumption",
           "marker": {
            "color": "#FF4500",
            "symbol": "circle"
           },
           "mode": "markers",
           "name": "solar_consumption",
           "opacity": 1,
           "orientation": "v",
           "showlegend": true,
           "type": "scatter",
           "x": {
            "bdata": "3Ac=",
            "dtype": "i2"
           },
           "xaxis": "x",
           "y": {
            "bdata": "AAAAAABEcUA=",
            "dtype": "f8"
           },
           "yaxis": "y"
          },
          {
           "hovertemplate": "Energy Type=wind_consumption<br>frame=13<br>year=%{x}<br>Energy Consumption=%{y}<extra></extra>",
           "legendgroup": "wind_consumption",
           "marker": {
            "color": "#8A2BE2",
            "symbol": "circle"
           },
           "mode": "markers",
           "name": "wind_consumption",
           "opacity": 1,
           "orientation": "v",
           "showlegend": true,
           "type": "scatter",
           "x": {
            "bdata": "3Ac=",
            "dtype": "i2"
           },
           "xaxis": "x",
           "y": {
            "bdata": "EFg5tEihlkA=",
            "dtype": "f8"
           },
           "yaxis": "y"
          }
         ],
         "name": "13"
        },
        {
         "data": [
          {
           "hovertemplate": "Energy Type=hydro_consumption<br>frame=14<br>year=%{x}<br>Energy Consumption=%{y}<extra></extra>",
           "legendgroup": "hydro_consumption",
           "line": {
            "color": "#1E90FF",
            "dash": "solid"
           },
           "marker": {
            "symbol": "circle"
           },
           "mode": "lines",
           "name": "hydro_consumption",
           "opacity": 0.8,
           "orientation": "v",
           "showlegend": false,
           "type": "scatter",
           "x": {
            "bdata": "0AfRB9IH0wfUB9UH1gfXB9gH2QfaB9sH3AfdBw==",
            "dtype": "i2"
           },
           "xaxis": "x",
           "y": {
            "bdata": "bxKDwOr/u0DHSzeJIRW7QMdLN4mBV7tAzczMzIwMu0CkcD0KF/K8QESLbOd7wb1A7nw/NT7HvkBzaJHtnBa/QGDl0CLba8BADi2ynT9FwECcxCCwgv7AQDeJQWDlOsFAoBov3ZThwUCyne+nxm3CQA==",
            "dtype": "f8"
           },
           "yaxis": "y"
          },
          {
           "hovertemplate": "Energy Type=other_renewable_consumption<br>frame=14<br>year=%{x}<br>Energy Consumption=%{y}<extra></extra>",
           "legendgroup": "other_renewable_consumption",
           "line": {
            "color": "#32CD32",
            "dash": "solid"
           },
           "marker": {
            "symbol": "circle"
           },
           "mode": "lines",
           "name": "other_renewable_consumption",
           "opacity": 0.8,
           "orientation": "v",
           "showlegend": false,
           "type": "scatter",
           "x": {
            "bdata": "0AfRB9IH0wfUB9UH1gfXB9gH2QfaB9sH3AfdBw==",
            "dtype": "i2"
           },
           "xaxis": "x",
           "y": {
            "bdata": "bOf7qfFEgUBKDAIrh+2BQHe+nxovV4NAqMZLN4lqhECcxCCwcg+GQLByaJHt84dA7FG4HoVyiUBaZDvfT6+LQC/dJAaBjI1AeekmMQi9j0BCYOXQoseRQKRwPQrXrZJATmIQWLk6lED+1HjpJtiVQA==",
            "dtype": "f8"
           },
           "yaxis": "y"
          },
          {
           "hovertemplate": "Energy Type=solar_consumption<br>frame=14<br>year=%{x}<br>Energy Consumption=%{y}<extra></extra>",
           "legendgroup": "solar_consumption",
           "line": {
            "color": "#FF4500",
            "dash": "solid"
           },
           "marker": {
            "symbol": "circle"
           },
           "mode": "lines",
           "name": "solar_consumption",
           "opacity": 0.8,
           "orientation": "v",
           "showlegend": false,
           "type": "scatter",
           "x": {
            "bdata": "0AfRB9IH0wfUB9UH1gfXB9gH2QfaB9sH3AfdBw==",
            "dtype": "i2"
           },
           "xaxis": "x",
           "y": {
            "bdata": "Vg4tsp3vCECkcD0K16MQQPyp8dJN4hRAarx0kxgEGkD4U+OlmwQhQMUgsHJo0SdAYhBYObRIMECHFtnO9/M1QGZmZmZmtkFAAAAAAABATUAlBoGVQ1tXQNejcD0Ke2ZAAAAAAABEcUAMAiuHFnF3QA==",
            "dtype": "f8"
           },
           "yaxis": "y"
          },
          {
           "hovertemplate": "Energy Type=wind_consumption<br>frame=14<br>year=%{x}<br>Energy Consumption=%{y}<extra></extra>",
           "legendgroup": "wind_consumption",
           "line": {
            "color": "#8A2BE2",
            "dash": "solid"
           },
           "marker": {
            "symbol": "circle"
           },
           "mode": "lines",
           "name": "wind_consumption",
           "opacity": 0.8,
           "orientation": "v",
           "showlegend": false,
           "type": "scatter",
           "x": {
            "bdata": "0AfRB9IH0wfUB9UH1gfXB9gH2QfaB9sH3AfdBw==",
            "dtype": "i2"
           },
           "xaxis": "x",
           "y": {
            "bdata": "gZVDi2wHV0ASg8DKof1bQFg5tMh2+mJA2/l+arzQZkDP91Pjpa9uQEw3iUFgp3JAQmDl0CKnd0DpJjEIrDh+QLKd76fGZoNAqMZLN4kUiECe76fGS/KNQKAaL92k7pJAEFg5tEihlkDjpZvEoOuaQA==",
            "dtype": "f8"
           },
           "yaxis": "y"
          },
          {
           "hovertemplate": "Energy Type=hydro_consumption<br>frame=14<br>year=%{x}<br>Energy Consumption=%{y}<extra></extra>",
           "legendgroup": "hydro_consumption",
           "marker": {
            "color": "#1E90FF",
            "symbol": "circle"
           },
           "mode": "markers",
           "name": "hydro_consumption",
           "opacity": 1,
           "orientation": "v",
           "showlegend": true,
           "type": "scatter",
           "x": {
            "bdata": "3Qc=",
            "dtype": "i2"
           },
           "xaxis": "x",
           "y": {
            "bdata": "sp3vp8ZtwkA=",
            "dtype": "f8"
           },
           "yaxis": "y"
          },
          {
           "hovertemplate": "Energy Type=other_renewable_consumption<br>frame=14<br>year=%{x}<br>Energy Consumption=%{y}<extra></extra>",
           "legendgroup": "other_renewable_consumption",
           "marker": {
            "color": "#32CD32",
            "symbol": "circle"
           },
           "mode": "markers",
           "name": "other_renewable_consumption",
           "opacity": 1,
           "orientation": "v",
           "showlegend": true,
           "type": "scatter",
           "x": {
            "bdata": "3Qc=",
            "dtype": "i2"
           },
           "xaxis": "x",
           "y": {
            "bdata": "/tR46SbYlUA=",
            "dtype": "f8"
           },
           "yaxis": "y"
          },
          {
           "hovertemplate": "Energy Type=solar_consumption<br>frame=14<br>year=%{x}<br>Energy Consumption=%{y}<extra></extra>",
           "legendgroup": "solar_consumption",
           "marker": {
            "color": "#FF4500",
            "symbol": "circle"
           },
           "mode": "markers",
           "name": "solar_consumption",
           "opacity": 1,
           "orientation": "v",
           "showlegend": true,
           "type": "scatter",
           "x": {
            "bdata": "3Qc=",
            "dtype": "i2"
           },
           "xaxis": "x",
           "y": {
            "bdata": "DAIrhxZxd0A=",
            "dtype": "f8"
           },
           "yaxis": "y"
          },
          {
           "hovertemplate": "Energy Type=wind_consumption<br>frame=14<br>year=%{x}<br>Energy Consumption=%{y}<extra></extra>",
           "legendgroup": "wind_consumption",
           "marker": {
            "color": "#8A2BE2",
            "symbol": "circle"
           },
           "mode": "markers",
           "name": "wind_consumption",
           "opacity": 1,
           "orientation": "v",
           "showlegend": true,
           "type": "scatter",
           "x": {
            "bdata": "3Qc=",
            "dtype": "i2"
           },
           "xaxis": "x",
           "y": {
            "bdata": "46WbxKDrmkA=",
            "dtype": "f8"
           },
           "yaxis": "y"
          }
         ],
         "name": "14"
        },
        {
         "data": [
          {
           "hovertemplate": "Energy Type=hydro_consumption<br>frame=15<br>year=%{x}<br>Energy Consumption=%{y}<extra></extra>",
           "legendgroup": "hydro_consumption",
           "line": {
            "color": "#1E90FF",
            "dash": "solid"
           },
           "marker": {
            "symbol": "circle"
           },
           "mode": "lines",
           "name": "hydro_consumption",
           "opacity": 0.8,
           "orientation": "v",
           "showlegend": false,
           "type": "scatter",
           "x": {
            "bdata": "0AfRB9IH0wfUB9UH1gfXB9gH2QfaB9sH3AfdB94H",
            "dtype": "i2"
           },
           "xaxis": "x",
           "y": {
            "bdata": "bxKDwOr/u0DHSzeJIRW7QMdLN4mBV7tAzczMzIwMu0CkcD0KF/K8QESLbOd7wb1A7nw/NT7HvkBzaJHtnBa/QGDl0CLba8BADi2ynT9FwECcxCCwgv7AQDeJQWDlOsFAoBov3ZThwUCyne+nxm3CQEJg5dAy4sJA",
            "dtype": "f8"
           },
           "yaxis": "y"
          },
          {
           "hovertemplate": "Energy Type=other_renewable_consumption<br>frame=15<br>year=%{x}<br>Energy Consumption=%{y}<extra></extra>",
           "legendgroup": "other_renewable_consumption",
           "line": {
            "color": "#32CD32",
            "dash": "solid"
           },
           "marker": {
            "symbol": "circle"
           },
           "mode": "lines",
           "name": "other_renewable_consumption",
           "opacity": 0.8,
           "orientation": "v",
           "showlegend": false,
           "type": "scatter",
           "x": {
            "bdata": "0AfRB9IH0wfUB9UH1gfXB9gH2QfaB9sH3AfdB94H",
            "dtype": "i2"
           },
           "xaxis": "x",
           "y": {
            "bdata": "bOf7qfFEgUBKDAIrh+2BQHe+nxovV4NAqMZLN4lqhECcxCCwcg+GQLByaJHt84dA7FG4HoVyiUBaZDvfT6+LQC/dJAaBjI1AeekmMQi9j0BCYOXQoseRQKRwPQrXrZJATmIQWLk6lED+1HjpJtiVQHsUrkfhnZdA",
            "dtype": "f8"
           },
           "yaxis": "y"
          },
          {
           "hovertemplate": "Energy Type=solar_consumption<br>frame=15<br>year=%{x}<br>Energy Consumption=%{y}<extra></extra>",
           "legendgroup": "solar_consumption",
           "line": {
            "color": "#FF4500",
            "dash": "solid"
           },
           "marker": {
            "symbol": "circle"
           },
           "mode": "lines",
           "name": "solar_consumption",
           "opacity": 0.8,
           "orientation": "v",
           "showlegend": false,
           "type": "scatter",
           "x": {
            "bdata": "0AfRB9IH0wfUB9UH1gfXB9gH2QfaB9sH3AfdB94H",
            "dtype": "i2"
           },
           "xaxis": "x",
           "y": {
            "bdata": "Vg4tsp3vCECkcD0K16MQQPyp8dJN4hRAarx0kxgEGkD4U+OlmwQhQMUgsHJo0SdAYhBYObRIMECHFtnO9/M1QGZmZmZmtkFAAAAAAABATUAlBoGVQ1tXQNejcD0Ke2ZAAAAAAABEcUAMAiuHFnF3QI/C9ShcloBA",
            "dtype": "f8"
           },
           "yaxis": "y"
          },
          {
           "hovertemplate": "Energy Type=wind_consumption<br>frame=15<br>year=%{x}<br>Energy Consumption=%{y}<extra></extra>",
           "legendgroup": "wind_consumption",
           "line": {
            "color": "#8A2BE2",
            "dash": "solid"
           },
           "marker": {
            "symbol": "circle"
           },
           "mode": "lines",
           "name": "wind_consumption",
           "opacity": 0.8,
           "orientation": "v",
           "showlegend": false,
           "type": "scatter",
           "x": {
            "bdata": "0AfRB9IH0wfUB9UH1gfXB9gH2QfaB9sH3AfdB94H",
            "dtype": "i2"
           },
           "xaxis": "x",
           "y": {
            "bdata": "gZVDi2wHV0ASg8DKof1bQFg5tMh2+mJA2/l+arzQZkDP91Pjpa9uQEw3iUFgp3JAQmDl0CKnd0DpJjEIrDh+QLKd76fGZoNAqMZLN4kUiECe76fGS/KNQKAaL92k7pJAEFg5tEihlkDjpZvEoOuaQGIQWDm0qZ1A",
            "dtype": "f8"
           },
           "yaxis": "y"
          },
          {
           "hovertemplate": "Energy Type=hydro_consumption<br>frame=15<br>year=%{x}<br>Energy Consumption=%{y}<extra></extra>",
           "legendgroup": "hydro_consumption",
           "marker": {
            "color": "#1E90FF",
            "symbol": "circle"
           },
           "mode": "markers",
           "name": "hydro_consumption",
           "opacity": 1,
           "orientation": "v",
           "showlegend": true,
           "type": "scatter",
           "x": {
            "bdata": "3gc=",
            "dtype": "i2"
           },
           "xaxis": "x",
           "y": {
            "bdata": "QmDl0DLiwkA=",
            "dtype": "f8"
           },
           "yaxis": "y"
          },
          {
           "hovertemplate": "Energy Type=other_renewable_consumption<br>frame=15<br>year=%{x}<br>Energy Consumption=%{y}<extra></extra>",
           "legendgroup": "other_renewable_consumption",
           "marker": {
            "color": "#32CD32",
            "symbol": "circle"
           },
           "mode": "markers",
           "name": "other_renewable_consumption",
           "opacity": 1,
           "orientation": "v",
           "showlegend": true,
           "type": "scatter",
           "x": {
            "bdata": "3gc=",
            "dtype": "i2"
           },
           "xaxis": "x",
           "y": {
            "bdata": "exSuR+Gdl0A=",
            "dtype": "f8"
           },
           "yaxis": "y"
          },
          {
           "hovertemplate": "Energy Type=solar_consumption<br>frame=15<br>year=%{x}<br>Energy Consumption=%{y}<extra></extra>",
           "legendgroup": "solar_consumption",
           "marker": {
            "color": "#FF4500",
            "symbol": "circle"
           },
           "mode": "markers",
           "name": "solar_consumption",
           "opacity": 1,
           "orientation": "v",
           "showlegend": true,
           "type": "scatter",
           "x": {
            "bdata": "3gc=",
            "dtype": "i2"
           },
           "xaxis": "x",
           "y": {
            "bdata": "j8L1KFyWgEA=",
            "dtype": "f8"
           },
           "yaxis": "y"
          },
          {
           "hovertemplate": "Energy Type=wind_consumption<br>frame=15<br>year=%{x}<br>Energy Consumption=%{y}<extra></extra>",
           "legendgroup": "wind_consumption",
           "marker": {
            "color": "#8A2BE2",
            "symbol": "circle"
           },
           "mode": "markers",
           "name": "wind_consumption",
           "opacity": 1,
           "orientation": "v",
           "showlegend": true,
           "type": "scatter",
           "x": {
            "bdata": "3gc=",
            "dtype": "i2"
           },
           "xaxis": "x",
           "y": {
            "bdata": "YhBYObSpnUA=",
            "dtype": "f8"
           },
           "yaxis": "y"
          }
         ],
         "name": "15"
        },
        {
         "data": [
          {
           "hovertemplate": "Energy Type=hydro_consumption<br>frame=16<br>year=%{x}<br>Energy Consumption=%{y}<extra></extra>",
           "legendgroup": "hydro_consumption",
           "line": {
            "color": "#1E90FF",
            "dash": "solid"
           },
           "marker": {
            "symbol": "circle"
           },
           "mode": "lines",
           "name": "hydro_consumption",
           "opacity": 0.8,
           "orientation": "v",
           "showlegend": false,
           "type": "scatter",
           "x": {
            "bdata": "0AfRB9IH0wfUB9UH1gfXB9gH2QfaB9sH3AfdB94H3wc=",
            "dtype": "i2"
           },
           "xaxis": "x",
           "y": {
            "bdata": "bxKDwOr/u0DHSzeJIRW7QMdLN4mBV7tAzczMzIwMu0CkcD0KF/K8QESLbOd7wb1A7nw/NT7HvkBzaJHtnBa/QGDl0CLba8BADi2ynT9FwECcxCCwgv7AQDeJQWDlOsFAoBov3ZThwUCyne+nxm3CQEJg5dAy4sJAfT81XkrGwkA=",
            "dtype": "f8"
           },
           "yaxis": "y"
          },
          {
           "hovertemplate": "Energy Type=other_renewable_consumption<br>frame=16<br>year=%{x}<br>Energy Consumption=%{y}<extra></extra>",
           "legendgroup": "other_renewable_consumption",
           "line": {
            "color": "#32CD32",
            "dash": "solid"
           },
           "marker": {
            "symbol": "circle"
           },
           "mode": "lines",
           "name": "other_renewable_consumption",
           "opacity": 0.8,
           "orientation": "v",
           "showlegend": false,
           "type": "scatter",
           "x": {
            "bdata": "0AfRB9IH0wfUB9UH1gfXB9gH2QfaB9sH3AfdB94H3wc=",
            "dtype": "i2"
           },
           "xaxis": "x",
           "y": {
            "bdata": "bOf7qfFEgUBKDAIrh+2BQHe+nxovV4NAqMZLN4lqhECcxCCwcg+GQLByaJHt84dA7FG4HoVyiUBaZDvfT6+LQC/dJAaBjI1AeekmMQi9j0BCYOXQoseRQKRwPQrXrZJATmIQWLk6lED+1HjpJtiVQHsUrkfhnZdAN4lBYGWCmUA=",
            "dtype": "f8"
           },
           "yaxis": "y"
          },
          {
           "hovertemplate": "Energy Type=solar_consumption<br>frame=16<br>year=%{x}<br>Energy Consumption=%{y}<extra></extra>",
           "legendgroup": "solar_consumption",
           "line": {
            "color": "#FF4500",
            "dash": "solid"
           },
           "marker": {
            "symbol": "circle"
           },
           "mode": "lines",
           "name": "solar_consumption",
           "opacity": 0.8,
           "orientation": "v",
           "showlegend": false,
           "type": "scatter",
           "x": {
            "bdata": "0AfRB9IH0wfUB9UH1gfXB9gH2QfaB9sH3AfdB94H3wc=",
            "dtype": "i2"
           },
           "xaxis": "x",
           "y": {
            "bdata": "Vg4tsp3vCECkcD0K16MQQPyp8dJN4hRAarx0kxgEGkD4U+OlmwQhQMUgsHJo0SdAYhBYObRIMECHFtnO9/M1QGZmZmZmtkFAAAAAAABATUAlBoGVQ1tXQNejcD0Ke2ZAAAAAAABEcUAMAiuHFnF3QI/C9ShcloBAMzMzMzNVhUA=",
            "dtype": "f8"
           },
           "yaxis": "y"
          },
          {
           "hovertemplate": "Energy Type=wind_consumption<br>frame=16<br>year=%{x}<br>Energy Consumption=%{y}<extra></extra>",
           "legendgroup": "wind_consumption",
           "line": {
            "color": "#8A2BE2",
            "dash": "solid"
           },
           "marker": {
            "symbol": "circle"
           },
           "mode": "lines",
           "name": "wind_consumption",
           "opacity": 0.8,
           "orientation": "v",
           "showlegend": false,
           "type": "scatter",
           "x": {
            "bdata": "0AfRB9IH0wfUB9UH1gfXB9gH2QfaB9sH3AfdB94H3wc=",
            "dtype": "i2"
           },
           "xaxis": "x",
           "y": {
            "bdata": "gZVDi2wHV0ASg8DKof1bQFg5tMh2+mJA2/l+arzQZkDP91Pjpa9uQEw3iUFgp3JAQmDl0CKnd0DpJjEIrDh+QLKd76fGZoNAqMZLN4kUiECe76fGS/KNQKAaL92k7pJAEFg5tEihlkDjpZvEoOuaQGIQWDm0qZ1A46WbxOBRoUA=",
            "dtype": "f8"
           },
           "yaxis": "y"
          },
          {
           "hovertemplate": "Energy Type=hydro_consumption<br>frame=16<br>year=%{x}<br>Energy Consumption=%{y}<extra></extra>",
           "legendgroup": "hydro_consumption",
           "marker": {
            "color": "#1E90FF",
            "symbol": "circle"
           },
           "mode": "markers",
           "name": "hydro_consumption",
           "opacity": 1,
           "orientation": "v",
           "showlegend": true,
           "type": "scatter",
           "x": {
            "bdata": "3wc=",
            "dtype": "i2"
           },
           "xaxis": "x",
           "y": {
            "bdata": "fT81XkrGwkA=",
            "dtype": "f8"
           },
           "yaxis": "y"
          },
          {
           "hovertemplate": "Energy Type=other_renewable_consumption<br>frame=16<br>year=%{x}<br>Energy Consumption=%{y}<extra></extra>",
           "legendgroup": "other_renewable_consumption",
           "marker": {
            "color": "#32CD32",
            "symbol": "circle"
           },
           "mode": "markers",
           "name": "other_renewable_consumption",
           "opacity": 1,
           "orientation": "v",
           "showlegend": true,
           "type": "scatter",
           "x": {
            "bdata": "3wc=",
            "dtype": "i2"
           },
           "xaxis": "x",
           "y": {
            "bdata": "N4lBYGWCmUA=",
            "dtype": "f8"
           },
           "yaxis": "y"
          },
          {
           "hovertemplate": "Energy Type=solar_consumption<br>frame=16<br>year=%{x}<br>Energy Consumption=%{y}<extra></extra>",
           "legendgroup": "solar_consumption",
           "marker": {
            "color": "#FF4500",
            "symbol": "circle"
           },
           "mode": "markers",
           "name": "solar_consumption",
           "opacity": 1,
           "orientation": "v",
           "showlegend": true,
           "type": "scatter",
           "x": {
            "bdata": "3wc=",
            "dtype": "i2"
           },
           "xaxis": "x",
           "y": {
            "bdata": "MzMzMzNVhUA=",
            "dtype": "f8"
           },
           "yaxis": "y"
          },
          {
           "hovertemplate": "Energy Type=wind_consumption<br>frame=16<br>year=%{x}<br>Energy Consumption=%{y}<extra></extra>",
           "legendgroup": "wind_consumption",
           "marker": {
            "color": "#8A2BE2",
            "symbol": "circle"
           },
           "mode": "markers",
           "name": "wind_consumption",
           "opacity": 1,
           "orientation": "v",
           "showlegend": true,
           "type": "scatter",
           "x": {
            "bdata": "3wc=",
            "dtype": "i2"
           },
           "xaxis": "x",
           "y": {
            "bdata": "46WbxOBRoUA=",
            "dtype": "f8"
           },
           "yaxis": "y"
          }
         ],
         "name": "16"
        },
        {
         "data": [
          {
           "hovertemplate": "Energy Type=hydro_consumption<br>frame=17<br>year=%{x}<br>Energy Consumption=%{y}<extra></extra>",
           "legendgroup": "hydro_consumption",
           "line": {
            "color": "#1E90FF",
            "dash": "solid"
           },
           "marker": {
            "symbol": "circle"
           },
           "mode": "lines",
           "name": "hydro_consumption",
           "opacity": 0.8,
           "orientation": "v",
           "showlegend": false,
           "type": "scatter",
           "x": {
            "bdata": "0AfRB9IH0wfUB9UH1gfXB9gH2QfaB9sH3AfdB94H3wfgBw==",
            "dtype": "i2"
           },
           "xaxis": "x",
           "y": {
            "bdata": "bxKDwOr/u0DHSzeJIRW7QMdLN4mBV7tAzczMzIwMu0CkcD0KF/K8QESLbOd7wb1A7nw/NT7HvkBzaJHtnBa/QGDl0CLba8BADi2ynT9FwECcxCCwgv7AQDeJQWDlOsFAoBov3ZThwUCyne+nxm3CQEJg5dAy4sJAfT81XkrGwkDTTWIQyETDQA==",
            "dtype": "f8"
           },
           "yaxis": "y"
          },
          {
           "hovertemplate": "Energy Type=other_renewable_consumption<br>frame=17<br>year=%{x}<br>Energy Consumption=%{y}<extra></extra>",
           "legendgroup": "other_renewable_consumption",
           "line": {
            "color": "#32CD32",
            "dash": "solid"
           },
           "marker": {
            "symbol": "circle"
           },
           "mode": "lines",
           "name": "other_renewable_consumption",
           "opacity": 0.8,
           "orientation": "v",
           "showlegend": false,
           "type": "scatter",
           "x": {
            "bdata": "0AfRB9IH0wfUB9UH1gfXB9gH2QfaB9sH3AfdB94H3wfgBw==",
            "dtype": "i2"
           },
           "xaxis": "x",
           "y": {
            "bdata": "bOf7qfFEgUBKDAIrh+2BQHe+nxovV4NAqMZLN4lqhECcxCCwcg+GQLByaJHt84dA7FG4HoVyiUBaZDvfT6+LQC/dJAaBjI1AeekmMQi9j0BCYOXQoseRQKRwPQrXrZJATmIQWLk6lED+1HjpJtiVQHsUrkfhnZdAN4lBYGWCmUCmm8QgsOCZQA==",
            "dtype": "f8"
           },
           "yaxis": "y"
          },
          {
           "hovertemplate": "Energy Type=solar_consumption<br>frame=17<br>year=%{x}<br>Energy Consumption=%{y}<extra></extra>",
           "legendgroup": "solar_consumption",
           "line": {
            "color": "#FF4500",
            "dash": "solid"
           },
           "marker": {
            "symbol": "circle"
           },
           "mode": "lines",
           "name": "solar_consumption",
           "opacity": 0.8,
           "orientation": "v",
           "showlegend": false,
           "type": "scatter",
           "x": {
            "bdata": "0AfRB9IH0wfUB9UH1gfXB9gH2QfaB9sH3AfdB94H3wfgBw==",
            "dtype": "i2"
           },
           "xaxis": "x",
           "y": {
            "bdata": "Vg4tsp3vCECkcD0K16MQQPyp8dJN4hRAarx0kxgEGkD4U+OlmwQhQMUgsHJo0SdAYhBYObRIMECHFtnO9/M1QGZmZmZmtkFAAAAAAABATUAlBoGVQ1tXQNejcD0Ke2ZAAAAAAABEcUAMAiuHFnF3QI/C9ShcloBAMzMzMzNVhUCgGi/dJByLQA==",
            "dtype": "f8"
           },
           "yaxis": "y"
          },
          {
           "hovertemplate": "Energy Type=wind_consumption<br>frame=17<br>year=%{x}<br>Energy Consumption=%{y}<extra></extra>",
           "legendgroup": "wind_consumption",
           "line": {
            "color": "#8A2BE2",
            "dash": "solid"
           },
           "marker": {
            "symbol": "circle"
           },
           "mode": "lines",
           "name": "wind_consumption",
           "opacity": 0.8,
           "orientation": "v",
           "showlegend": false,
           "type": "scatter",
           "x": {
            "bdata": "0AfRB9IH0wfUB9UH1gfXB9gH2QfaB9sH3AfdB94H3wfgBw==",
            "dtype": "i2"
           },
           "xaxis": "x",
           "y": {
            "bdata": "gZVDi2wHV0ASg8DKof1bQFg5tMh2+mJA2/l+arzQZkDP91Pjpa9uQEw3iUFgp3JAQmDl0CKnd0DpJjEIrDh+QLKd76fGZoNAqMZLN4kUiECe76fGS/KNQKAaL92k7pJAEFg5tEihlkDjpZvEoOuaQGIQWDm0qZ1A46WbxOBRoUBzaJHtfOujQA==",
            "dtype": "f8"
           },
           "yaxis": "y"
          },
          {
           "hovertemplate": "Energy Type=hydro_consumption<br>frame=17<br>year=%{x}<br>Energy Consumption=%{y}<extra></extra>",
           "legendgroup": "hydro_consumption",
           "marker": {
            "color": "#1E90FF",
            "symbol": "circle"
           },
           "mode": "markers",
           "name": "hydro_consumption",
           "opacity": 1,
           "orientation": "v",
           "showlegend": true,
           "type": "scatter",
           "x": {
            "bdata": "4Ac=",
            "dtype": "i2"
           },
           "xaxis": "x",
           "y": {
            "bdata": "001iEMhEw0A=",
            "dtype": "f8"
           },
           "yaxis": "y"
          },
          {
           "hovertemplate": "Energy Type=other_renewable_consumption<br>frame=17<br>year=%{x}<br>Energy Consumption=%{y}<extra></extra>",
           "legendgroup": "other_renewable_consumption",
           "marker": {
            "color": "#32CD32",
            "symbol": "circle"
           },
           "mode": "markers",
           "name": "other_renewable_consumption",
           "opacity": 1,
           "orientation": "v",
           "showlegend": true,
           "type": "scatter",
           "x": {
            "bdata": "4Ac=",
            "dtype": "i2"
           },
           "xaxis": "x",
           "y": {
            "bdata": "ppvEILDgmUA=",
            "dtype": "f8"
           },
           "yaxis": "y"
          },
          {
           "hovertemplate": "Energy Type=solar_consumption<br>frame=17<br>year=%{x}<br>Energy Consumption=%{y}<extra></extra>",
           "legendgroup": "solar_consumption",
           "marker": {
            "color": "#FF4500",
            "symbol": "circle"
           },
           "mode": "markers",
           "name": "solar_consumption",
           "opacity": 1,
           "orientation": "v",
           "showlegend": true,
           "type": "scatter",
           "x": {
            "bdata": "4Ac=",
            "dtype": "i2"
           },
           "xaxis": "x",
           "y": {
            "bdata": "oBov3SQci0A=",
            "dtype": "f8"
           },
           "yaxis": "y"
          },
          {
           "hovertemplate": "Energy Type=wind_consumption<br>frame=17<br>year=%{x}<br>Energy Consumption=%{y}<extra></extra>",
           "legendgroup": "wind_consumption",
           "marker": {
            "color": "#8A2BE2",
            "symbol": "circle"
           },
           "mode": "markers",
           "name": "wind_consumption",
           "opacity": 1,
           "orientation": "v",
           "showlegend": true,
           "type": "scatter",
           "x": {
            "bdata": "4Ac=",
            "dtype": "i2"
           },
           "xaxis": "x",
           "y": {
            "bdata": "c2iR7Xzro0A=",
            "dtype": "f8"
           },
           "yaxis": "y"
          }
         ],
         "name": "17"
        },
        {
         "data": [
          {
           "hovertemplate": "Energy Type=hydro_consumption<br>frame=18<br>year=%{x}<br>Energy Consumption=%{y}<extra></extra>",
           "legendgroup": "hydro_consumption",
           "line": {
            "color": "#1E90FF",
            "dash": "solid"
           },
           "marker": {
            "symbol": "circle"
           },
           "mode": "lines",
           "name": "hydro_consumption",
           "opacity": 0.8,
           "orientation": "v",
           "showlegend": false,
           "type": "scatter",
           "x": {
            "bdata": "0AfRB9IH0wfUB9UH1gfXB9gH2QfaB9sH3AfdB94H3wfgB+EH",
            "dtype": "i2"
           },
           "xaxis": "x",
           "y": {
            "bdata": "bxKDwOr/u0DHSzeJIRW7QMdLN4mBV7tAzczMzIwMu0CkcD0KF/K8QESLbOd7wb1A7nw/NT7HvkBzaJHtnBa/QGDl0CLba8BADi2ynT9FwECcxCCwgv7AQDeJQWDlOsFAoBov3ZThwUCyne+nxm3CQEJg5dAy4sJAfT81XkrGwkDTTWIQyETDQCuHFtnuZcNA",
            "dtype": "f8"
           },
           "yaxis": "y"
          },
          {
           "hovertemplate": "Energy Type=other_renewable_consumption<br>frame=18<br>year=%{x}<br>Energy Consumption=%{y}<extra></extra>",
           "legendgroup": "other_renewable_consumption",
           "line": {
            "color": "#32CD32",
            "dash": "solid"
           },
           "marker": {
            "symbol": "circle"
           },
           "mode": "lines",
           "name": "other_renewable_consumption",
           "opacity": 0.8,
           "orientation": "v",
           "showlegend": false,
           "type": "scatter",
           "x": {
            "bdata": "0AfRB9IH0wfUB9UH1gfXB9gH2QfaB9sH3AfdB94H3wfgB+EH",
            "dtype": "i2"
           },
           "xaxis": "x",
           "y": {
            "bdata": "bOf7qfFEgUBKDAIrh+2BQHe+nxovV4NAqMZLN4lqhECcxCCwcg+GQLByaJHt84dA7FG4HoVyiUBaZDvfT6+LQC/dJAaBjI1AeekmMQi9j0BCYOXQoseRQKRwPQrXrZJATmIQWLk6lED+1HjpJtiVQHsUrkfhnZdAN4lBYGWCmUCmm8QgsOCZQFYOLbIdmptA",
            "dtype": "f8"
           },
           "yaxis": "y"
          },
          {
           "hovertemplate": "Energy Type=solar_consumption<br>frame=18<br>year=%{x}<br>Energy Consumption=%{y}<extra></extra>",
           "legendgroup": "solar_consumption",
           "line": {
            "color": "#FF4500",
            "dash": "solid"
           },
           "marker": {
            "symbol": "circle"
           },
           "mode": "lines",
           "name": "solar_consumption",
           "opacity": 0.8,
           "orientation": "v",
           "showlegend": false,
           "type": "scatter",
           "x": {
            "bdata": "0AfRB9IH0wfUB9UH1gfXB9gH2QfaB9sH3AfdB94H3wfgB+EH",
            "dtype": "i2"
           },
           "xaxis": "x",
           "y": {
            "bdata": "Vg4tsp3vCECkcD0K16MQQPyp8dJN4hRAarx0kxgEGkD4U+OlmwQhQMUgsHJo0SdAYhBYObRIMECHFtnO9/M1QGZmZmZmtkFAAAAAAABATUAlBoGVQ1tXQNejcD0Ke2ZAAAAAAABEcUAMAiuHFnF3QI/C9ShcloBAMzMzMzNVhUCgGi/dJByLQIlBYOXQSpJA",
            "dtype": "f8"
           },
           "yaxis": "y"
          },
          {
           "hovertemplate": "Energy Type=wind_consumption<br>frame=18<br>year=%{x}<br>Energy Consumption=%{y}<extra></extra>",
           "legendgroup": "wind_consumption",
           "line": {
            "color": "#8A2BE2",
            "dash": "solid"
           },
           "marker": {
            "symbol": "circle"
           },
           "mode": "lines",
           "name": "wind_consumption",
           "opacity": 0.8,
           "orientation": "v",
           "showlegend": false,
           "type": "scatter",
           "x": {
            "bdata": "0AfRB9IH0wfUB9UH1gfXB9gH2QfaB9sH3AfdB94H3wfgB+EH",
            "dtype": "i2"
           },
           "xaxis": "x",
           "y": {
            "bdata": "gZVDi2wHV0ASg8DKof1bQFg5tMh2+mJA2/l+arzQZkDP91Pjpa9uQEw3iUFgp3JAQmDl0CKnd0DpJjEIrDh+QLKd76fGZoNAqMZLN4kUiECe76fGS/KNQKAaL92k7pJAEFg5tEihlkDjpZvEoOuaQGIQWDm0qZ1A46WbxOBRoUBzaJHtfOujQJZDi2zngqdA",
            "dtype": "f8"
           },
           "yaxis": "y"
          },
          {
           "hovertemplate": "Energy Type=hydro_consumption<br>frame=18<br>year=%{x}<br>Energy Consumption=%{y}<extra></extra>",
           "legendgroup": "hydro_consumption",
           "marker": {
            "color": "#1E90FF",
            "symbol": "circle"
           },
           "mode": "markers",
           "name": "hydro_consumption",
           "opacity": 1,
           "orientation": "v",
           "showlegend": true,
           "type": "scatter",
           "x": {
            "bdata": "4Qc=",
            "dtype": "i2"
           },
           "xaxis": "x",
           "y": {
            "bdata": "K4cW2e5lw0A=",
            "dtype": "f8"
           },
           "yaxis": "y"
          },
          {
           "hovertemplate": "Energy Type=other_renewable_consumption<br>frame=18<br>year=%{x}<br>Energy Consumption=%{y}<extra></extra>",
           "legendgroup": "other_renewable_consumption",
           "marker": {
            "color": "#32CD32",
            "symbol": "circle"
           },
           "mode": "markers",
           "name": "other_renewable_consumption",
           "opacity": 1,
           "orientation": "v",
           "showlegend": true,
           "type": "scatter",
           "x": {
            "bdata": "4Qc=",
            "dtype": "i2"
           },
           "xaxis": "x",
           "y": {
            "bdata": "Vg4tsh2am0A=",
            "dtype": "f8"
           },
           "yaxis": "y"
          },
          {
           "hovertemplate": "Energy Type=solar_consumption<br>frame=18<br>year=%{x}<br>Energy Consumption=%{y}<extra></extra>",
           "legendgroup": "solar_consumption",
           "marker": {
            "color": "#FF4500",
            "symbol": "circle"
           },
           "mode": "markers",
           "name": "solar_consumption",
           "opacity": 1,
           "orientation": "v",
           "showlegend": true,
           "type": "scatter",
           "x": {
            "bdata": "4Qc=",
            "dtype": "i2"
           },
           "xaxis": "x",
           "y": {
            "bdata": "iUFg5dBKkkA=",
            "dtype": "f8"
           },
           "yaxis": "y"
          },
          {
           "hovertemplate": "Energy Type=wind_consumption<br>frame=18<br>year=%{x}<br>Energy Consumption=%{y}<extra></extra>",
           "legendgroup": "wind_consumption",
           "marker": {
            "color": "#8A2BE2",
            "symbol": "circle"
           },
           "mode": "markers",
           "name": "wind_consumption",
           "opacity": 1,
           "orientation": "v",
           "showlegend": true,
           "type": "scatter",
           "x": {
            "bdata": "4Qc=",
            "dtype": "i2"
           },
           "xaxis": "x",
           "y": {
            "bdata": "lkOLbOeCp0A=",
            "dtype": "f8"
           },
           "yaxis": "y"
          }
         ],
         "name": "18"
        },
        {
         "data": [
          {
           "hovertemplate": "Energy Type=hydro_consumption<br>frame=19<br>year=%{x}<br>Energy Consumption=%{y}<extra></extra>",
           "legendgroup": "hydro_consumption",
           "line": {
            "color": "#1E90FF",
            "dash": "solid"
           },
           "marker": {
            "symbol": "circle"
           },
           "mode": "lines",
           "name": "hydro_consumption",
           "opacity": 0.8,
           "orientation": "v",
           "showlegend": false,
           "type": "scatter",
           "x": {
            "bdata": "0AfRB9IH0wfUB9UH1gfXB9gH2QfaB9sH3AfdB94H3wfgB+EH4gc=",
            "dtype": "i2"
           },
           "xaxis": "x",
           "y": {
            "bdata": "bxKDwOr/u0DHSzeJIRW7QMdLN4mBV7tAzczMzIwMu0CkcD0KF/K8QESLbOd7wb1A7nw/NT7HvkBzaJHtnBa/QGDl0CLba8BADi2ynT9FwECcxCCwgv7AQDeJQWDlOsFAoBov3ZThwUCyne+nxm3CQEJg5dAy4sJAfT81XkrGwkDTTWIQyETDQCuHFtnuZcNA46WbxCDHw0A=",
            "dtype": "f8"
           },
           "yaxis": "y"
          },
          {
           "hovertemplate": "Energy Type=other_renewable_consumption<br>frame=19<br>year=%{x}<br>Energy Consumption=%{y}<extra></extra>",
           "legendgroup": "other_renewable_consumption",
           "line": {
            "color": "#32CD32",
            "dash": "solid"
           },
           "marker": {
            "symbol": "circle"
           },
           "mode": "lines",
           "name": "other_renewable_consumption",
           "opacity": 0.8,
           "orientation": "v",
           "showlegend": false,
           "type": "scatter",
           "x": {
            "bdata": "0AfRB9IH0wfUB9UH1gfXB9gH2QfaB9sH3AfdB94H3wfgB+EH4gc=",
            "dtype": "i2"
           },
           "xaxis": "x",
           "y": {
            "bdata": "bOf7qfFEgUBKDAIrh+2BQHe+nxovV4NAqMZLN4lqhECcxCCwcg+GQLByaJHt84dA7FG4HoVyiUBaZDvfT6+LQC/dJAaBjI1AeekmMQi9j0BCYOXQoseRQKRwPQrXrZJATmIQWLk6lED+1HjpJtiVQHsUrkfhnZdAN4lBYGWCmUCmm8QgsOCZQFYOLbIdmptA4XoUrkfdnUA=",
            "dtype": "f8"
           },
           "yaxis": "y"
          },
          {
           "hovertemplate": "Energy Type=solar_consumption<br>frame=19<br>year=%{x}<br>Energy Consumption=%{y}<extra></extra>",
           "legendgroup": "solar_consumption",
           "line": {
            "color": "#FF4500",
            "dash": "solid"
           },
           "marker": {
            "symbol": "circle"
           },
           "mode": "lines",
           "name": "solar_consumption",
           "opacity": 0.8,
           "orientation": "v",
           "showlegend": false,
           "type": "scatter",
           "x": {
            "bdata": "0AfRB9IH0wfUB9UH1gfXB9gH2QfaB9sH3AfdB94H3wfgB+EH4gc=",
            "dtype": "i2"
           },
           "xaxis": "x",
           "y": {
            "bdata": "Vg4tsp3vCECkcD0K16MQQPyp8dJN4hRAarx0kxgEGkD4U+OlmwQhQMUgsHJo0SdAYhBYObRIMECHFtnO9/M1QGZmZmZmtkFAAAAAAABATUAlBoGVQ1tXQNejcD0Ke2ZAAAAAAABEcUAMAiuHFnF3QI/C9ShcloBAMzMzMzNVhUCgGi/dJByLQIlBYOXQSpJARrbz/dR5l0A=",
            "dtype": "f8"
           },
           "yaxis": "y"
          },
          {
           "hovertemplate": "Energy Type=wind_consumption<br>frame=19<br>year=%{x}<br>Energy Consumption=%{y}<extra></extra>",
           "legendgroup": "wind_consumption",
           "line": {
            "color": "#8A2BE2",
            "dash": "solid"
           },
           "marker": {
            "symbol": "circle"
           },
           "mode": "lines",
           "name": "wind_consumption",
           "opacity": 0.8,
           "orientation": "v",
           "showlegend": false,
           "type": "scatter",
           "x": {
            "bdata": "0AfRB9IH0wfUB9UH1gfXB9gH2QfaB9sH3AfdB94H3wfgB+EH4gc=",
            "dtype": "i2"
           },
           "xaxis": "x",
           "y": {
            "bdata": "gZVDi2wHV0ASg8DKof1bQFg5tMh2+mJA2/l+arzQZkDP91Pjpa9uQEw3iUFgp3JAQmDl0CKnd0DpJjEIrDh+QLKd76fGZoNAqMZLN4kUiECe76fGS/KNQKAaL92k7pJAEFg5tEihlkDjpZvEoOuaQGIQWDm0qZ1A46WbxOBRoUBzaJHtfOujQJZDi2zngqdAZTvfT030qUA=",
            "dtype": "f8"
           },
           "yaxis": "y"
          },
          {
           "hovertemplate": "Energy Type=hydro_consumption<br>frame=19<br>year=%{x}<br>Energy Consumption=%{y}<extra></extra>",
           "legendgroup": "hydro_consumption",
           "marker": {
            "color": "#1E90FF",
            "symbol": "circle"
           },
           "mode": "markers",
           "name": "hydro_consumption",
           "opacity": 1,
           "orientation": "v",
           "showlegend": true,
           "type": "scatter",
           "x": {
            "bdata": "4gc=",
            "dtype": "i2"
           },
           "xaxis": "x",
           "y": {
            "bdata": "46WbxCDHw0A=",
            "dtype": "f8"
           },
           "yaxis": "y"
          },
          {
           "hovertemplate": "Energy Type=other_renewable_consumption<br>frame=19<br>year=%{x}<br>Energy Consumption=%{y}<extra></extra>",
           "legendgroup": "other_renewable_consumption",
           "marker": {
            "color": "#32CD32",
            "symbol": "circle"
           },
           "mode": "markers",
           "name": "other_renewable_consumption",
           "opacity": 1,
           "orientation": "v",
           "showlegend": true,
           "type": "scatter",
           "x": {
            "bdata": "4gc=",
            "dtype": "i2"
           },
           "xaxis": "x",
           "y": {
            "bdata": "4XoUrkfdnUA=",
            "dtype": "f8"
           },
           "yaxis": "y"
          },
          {
           "hovertemplate": "Energy Type=solar_consumption<br>frame=19<br>year=%{x}<br>Energy Consumption=%{y}<extra></extra>",
           "legendgroup": "solar_consumption",
           "marker": {
            "color": "#FF4500",
            "symbol": "circle"
           },
           "mode": "markers",
           "name": "solar_consumption",
           "opacity": 1,
           "orientation": "v",
           "showlegend": true,
           "type": "scatter",
           "x": {
            "bdata": "4gc=",
            "dtype": "i2"
           },
           "xaxis": "x",
           "y": {
            "bdata": "Rrbz/dR5l0A=",
            "dtype": "f8"
           },
           "yaxis": "y"
          },
          {
           "hovertemplate": "Energy Type=wind_consumption<br>frame=19<br>year=%{x}<br>Energy Consumption=%{y}<extra></extra>",
           "legendgroup": "wind_consumption",
           "marker": {
            "color": "#8A2BE2",
            "symbol": "circle"
           },
           "mode": "markers",
           "name": "wind_consumption",
           "opacity": 1,
           "orientation": "v",
           "showlegend": true,
           "type": "scatter",
           "x": {
            "bdata": "4gc=",
            "dtype": "i2"
           },
           "xaxis": "x",
           "y": {
            "bdata": "ZTvfT030qUA=",
            "dtype": "f8"
           },
           "yaxis": "y"
          }
         ],
         "name": "19"
        },
        {
         "data": [
          {
           "hovertemplate": "Energy Type=hydro_consumption<br>frame=20<br>year=%{x}<br>Energy Consumption=%{y}<extra></extra>",
           "legendgroup": "hydro_consumption",
           "line": {
            "color": "#1E90FF",
            "dash": "solid"
           },
           "marker": {
            "symbol": "circle"
           },
           "mode": "lines",
           "name": "hydro_consumption",
           "opacity": 0.8,
           "orientation": "v",
           "showlegend": false,
           "type": "scatter",
           "x": {
            "bdata": "0AfRB9IH0wfUB9UH1gfXB9gH2QfaB9sH3AfdB94H3wfgB+EH4gfjBw==",
            "dtype": "i2"
           },
           "xaxis": "x",
           "y": {
            "bdata": "bxKDwOr/u0DHSzeJIRW7QMdLN4mBV7tAzczMzIwMu0CkcD0KF/K8QESLbOd7wb1A7nw/NT7HvkBzaJHtnBa/QGDl0CLba8BADi2ynT9FwECcxCCwgv7AQDeJQWDlOsFAoBov3ZThwUCyne+nxm3CQEJg5dAy4sJAfT81XkrGwkDTTWIQyETDQCuHFtnuZcNA46WbxCDHw0Cyne+nhhXEQA==",
            "dtype": "f8"
           },
           "yaxis": "y"
          },
          {
           "hovertemplate": "Energy Type=other_renewable_consumption<br>frame=20<br>year=%{x}<br>Energy Consumption=%{y}<extra></extra>",
           "legendgroup": "other_renewable_consumption",
           "line": {
            "color": "#32CD32",
            "dash": "solid"
           },
           "marker": {
            "symbol": "circle"
           },
           "mode": "lines",
           "name": "other_renewable_consumption",
           "opacity": 0.8,
           "orientation": "v",
           "showlegend": false,
           "type": "scatter",
           "x": {
            "bdata": "0AfRB9IH0wfUB9UH1gfXB9gH2QfaB9sH3AfdB94H3wfgB+EH4gfjBw==",
            "dtype": "i2"
           },
           "xaxis": "x",
           "y": {
            "bdata": "bOf7qfFEgUBKDAIrh+2BQHe+nxovV4NAqMZLN4lqhECcxCCwcg+GQLByaJHt84dA7FG4HoVyiUBaZDvfT6+LQC/dJAaBjI1AeekmMQi9j0BCYOXQoseRQKRwPQrXrZJATmIQWLk6lED+1HjpJtiVQHsUrkfhnZdAN4lBYGWCmUCmm8QgsOCZQFYOLbIdmptA4XoUrkfdnUDhehSuR1OfQA==",
            "dtype": "f8"
           },
           "yaxis": "y"
          },
          {
           "hovertemplate": "Energy Type=solar_consumption<br>frame=20<br>year=%{x}<br>Energy Consumption=%{y}<extra></extra>",
           "legendgroup": "solar_consumption",
           "line": {
            "color": "#FF4500",
            "dash": "solid"
           },
           "marker": {
            "symbol": "circle"
           },
           "mode": "lines",
           "name": "solar_consumption",
           "opacity": 0.8,
           "orientation": "v",
           "showlegend": false,
           "type": "scatter",
           "x": {
            "bdata": "0AfRB9IH0wfUB9UH1gfXB9gH2QfaB9sH3AfdB94H3wfgB+EH4gfjBw==",
            "dtype": "i2"
           },
           "xaxis": "x",
           "y": {
            "bdata": "Vg4tsp3vCECkcD0K16MQQPyp8dJN4hRAarx0kxgEGkD4U+OlmwQhQMUgsHJo0SdAYhBYObRIMECHFtnO9/M1QGZmZmZmtkFAAAAAAABATUAlBoGVQ1tXQNejcD0Ke2ZAAAAAAABEcUAMAiuHFnF3QI/C9ShcloBAMzMzMzNVhUCgGi/dJByLQIlBYOXQSpJARrbz/dR5l0D4U+Olm6OcQA==",
            "dtype": "f8"
           },
           "yaxis": "y"
          },
          {
           "hovertemplate": "Energy Type=wind_consumption<br>frame=20<br>year=%{x}<br>Energy Consumption=%{y}<extra></extra>",
           "legendgroup": "wind_consumption",
           "line": {
            "color": "#8A2BE2",
            "dash": "solid"
           },
           "marker": {
            "symbol": "circle"
           },
           "mode": "lines",
           "name": "wind_consumption",
           "opacity": 0.8,
           "orientation": "v",
           "showlegend": false,
           "type": "scatter",
           "x": {
            "bdata": "0AfRB9IH0wfUB9UH1gfXB9gH2QfaB9sH3AfdB94H3wfgB+EH4gfjBw==",
            "dtype": "i2"
           },
           "xaxis": "x",
           "y": {
            "bdata": "gZVDi2wHV0ASg8DKof1bQFg5tMh2+mJA2/l+arzQZkDP91Pjpa9uQEw3iUFgp3JAQmDl0CKnd0DpJjEIrDh+QLKd76fGZoNAqMZLN4kUiECe76fGS/KNQKAaL92k7pJAEFg5tEihlkDjpZvEoOuaQGIQWDm0qZ1A46WbxOBRoUBzaJHtfOujQJZDi2zngqdAZTvfT030qUBFtvP9FOesQA==",
            "dtype": "f8"
           },
           "yaxis": "y"
          },
          {
           "hovertemplate": "Energy Type=hydro_consumption<br>frame=20<br>year=%{x}<br>Energy Consumption=%{y}<extra></extra>",
           "legendgroup": "hydro_consumption",
           "marker": {
            "color": "#1E90FF",
            "symbol": "circle"
           },
           "mode": "markers",
           "name": "hydro_consumption",
           "opacity": 1,
           "orientation": "v",
           "showlegend": true,
           "type": "scatter",
           "x": {
            "bdata": "4wc=",
            "dtype": "i2"
           },
           "xaxis": "x",
           "y": {
            "bdata": "sp3vp4YVxEA=",
            "dtype": "f8"
           },
           "yaxis": "y"
          },
          {
           "hovertemplate": "Energy Type=other_renewable_consumption<br>frame=20<br>year=%{x}<br>Energy Consumption=%{y}<extra></extra>",
           "legendgroup": "other_renewable_consumption",
           "marker": {
            "color": "#32CD32",
            "symbol": "circle"
           },
           "mode": "markers",
           "name": "other_renewable_consumption",
           "opacity": 1,
           "orientation": "v",
           "showlegend": true,
           "type": "scatter",
           "x": {
            "bdata": "4wc=",
            "dtype": "i2"
           },
           "xaxis": "x",
           "y": {
            "bdata": "4XoUrkdTn0A=",
            "dtype": "f8"
           },
           "yaxis": "y"
          },
          {
           "hovertemplate": "Energy Type=solar_consumption<br>frame=20<br>year=%{x}<br>Energy Consumption=%{y}<extra></extra>",
           "legendgroup": "solar_consumption",
           "marker": {
            "color": "#FF4500",
            "symbol": "circle"
           },
           "mode": "markers",
           "name": "solar_consumption",
           "opacity": 1,
           "orientation": "v",
           "showlegend": true,
           "type": "scatter",
           "x": {
            "bdata": "4wc=",
            "dtype": "i2"
           },
           "xaxis": "x",
           "y": {
            "bdata": "+FPjpZujnEA=",
            "dtype": "f8"
           },
           "yaxis": "y"
          },
          {
           "hovertemplate": "Energy Type=wind_consumption<br>frame=20<br>year=%{x}<br>Energy Consumption=%{y}<extra></extra>",
           "legendgroup": "wind_consumption",
           "marker": {
            "color": "#8A2BE2",
            "symbol": "circle"
           },
           "mode": "markers",
           "name": "wind_consumption",
           "opacity": 1,
           "orientation": "v",
           "showlegend": true,
           "type": "scatter",
           "x": {
            "bdata": "4wc=",
            "dtype": "i2"
           },
           "xaxis": "x",
           "y": {
            "bdata": "Rbbz/RTnrEA=",
            "dtype": "f8"
           },
           "yaxis": "y"
          }
         ],
         "name": "20"
        },
        {
         "data": [
          {
           "hovertemplate": "Energy Type=hydro_consumption<br>frame=21<br>year=%{x}<br>Energy Consumption=%{y}<extra></extra>",
           "legendgroup": "hydro_consumption",
           "line": {
            "color": "#1E90FF",
            "dash": "solid"
           },
           "marker": {
            "symbol": "circle"
           },
           "mode": "lines",
           "name": "hydro_consumption",
           "opacity": 0.8,
           "orientation": "v",
           "showlegend": false,
           "type": "scatter",
           "x": {
            "bdata": "0AfRB9IH0wfUB9UH1gfXB9gH2QfaB9sH3AfdB94H3wfgB+EH4gfjB+QH",
            "dtype": "i2"
           },
           "xaxis": "x",
           "y": {
            "bdata": "bxKDwOr/u0DHSzeJIRW7QMdLN4mBV7tAzczMzIwMu0CkcD0KF/K8QESLbOd7wb1A7nw/NT7HvkBzaJHtnBa/QGDl0CLba8BADi2ynT9FwECcxCCwgv7AQDeJQWDlOsFAoBov3ZThwUCyne+nxm3CQEJg5dAy4sJAfT81XkrGwkDTTWIQyETDQCuHFtnuZcNA46WbxCDHw0Cyne+nhhXEQLKd76c2jMRA",
            "dtype": "f8"
           },
           "yaxis": "y"
          },
          {
           "hovertemplate": "Energy Type=other_renewable_consumption<br>frame=21<br>year=%{x}<br>Energy Consumption=%{y}<extra></extra>",
           "legendgroup": "other_renewable_consumption",
           "line": {
            "color": "#32CD32",
            "dash": "solid"
           },
           "marker": {
            "symbol": "circle"
           },
           "mode": "lines",
           "name": "other_renewable_consumption",
           "opacity": 0.8,
           "orientation": "v",
           "showlegend": false,
           "type": "scatter",
           "x": {
            "bdata": "0AfRB9IH0wfUB9UH1gfXB9gH2QfaB9sH3AfdB94H3wfgB+EH4gfjB+QH",
            "dtype": "i2"
           },
           "xaxis": "x",
           "y": {
            "bdata": "bOf7qfFEgUBKDAIrh+2BQHe+nxovV4NAqMZLN4lqhECcxCCwcg+GQLByaJHt84dA7FG4HoVyiUBaZDvfT6+LQC/dJAaBjI1AeekmMQi9j0BCYOXQoseRQKRwPQrXrZJATmIQWLk6lED+1HjpJtiVQHsUrkfhnZdAN4lBYGWCmUCmm8QgsOCZQFYOLbIdmptA4XoUrkfdnUDhehSuR1OfQKjGSzeJiaBA",
            "dtype": "f8"
           },
           "yaxis": "y"
          },
          {
           "hovertemplate": "Energy Type=solar_consumption<br>frame=21<br>year=%{x}<br>Energy Consumption=%{y}<extra></extra>",
           "legendgroup": "solar_consumption",
           "line": {
            "color": "#FF4500",
            "dash": "solid"
           },
           "marker": {
            "symbol": "circle"
           },
           "mode": "lines",
           "name": "solar_consumption",
           "opacity": 0.8,
           "orientation": "v",
           "showlegend": false,
           "type": "scatter",
           "x": {
            "bdata": "0AfRB9IH0wfUB9UH1gfXB9gH2QfaB9sH3AfdB94H3wfgB+EH4gfjB+QH",
            "dtype": "i2"
           },
           "xaxis": "x",
           "y": {
            "bdata": "Vg4tsp3vCECkcD0K16MQQPyp8dJN4hRAarx0kxgEGkD4U+OlmwQhQMUgsHJo0SdAYhBYObRIMECHFtnO9/M1QGZmZmZmtkFAAAAAAABATUAlBoGVQ1tXQNejcD0Ke2ZAAAAAAABEcUAMAiuHFnF3QI/C9ShcloBAMzMzMzNVhUCgGi/dJByLQIlBYOXQSpJARrbz/dR5l0D4U+Olm6OcQNnO91NjQ6FA",
            "dtype": "f8"
           },
           "yaxis": "y"
          },
          {
           "hovertemplate": "Energy Type=wind_consumption<br>frame=21<br>year=%{x}<br>Energy Consumption=%{y}<extra></extra>",
           "legendgroup": "wind_consumption",
           "line": {
            "color": "#8A2BE2",
            "dash": "solid"
           },
           "marker": {
            "symbol": "circle"
           },
           "mode": "lines",
           "name": "wind_consumption",
           "opacity": 0.8,
           "orientation": "v",
           "showlegend": false,
           "type": "scatter",
           "x": {
            "bdata": "0AfRB9IH0wfUB9UH1gfXB9gH2QfaB9sH3AfdB94H3wfgB+EH4gfjB+QH",
            "dtype": "i2"
           },
           "xaxis": "x",
           "y": {
            "bdata": "gZVDi2wHV0ASg8DKof1bQFg5tMh2+mJA2/l+arzQZkDP91Pjpa9uQEw3iUFgp3JAQmDl0CKnd0DpJjEIrDh+QLKd76fGZoNAqMZLN4kUiECe76fGS/KNQKAaL92k7pJAEFg5tEihlkDjpZvEoOuaQGIQWDm0qZ1A46WbxOBRoUBzaJHtfOujQJZDi2zngqdAZTvfT030qUBFtvP9FOesQCPb+X4qK7BA",
            "dtype": "f8"
           },
           "yaxis": "y"
          },
          {
           "hovertemplate": "Energy Type=hydro_consumption<br>frame=21<br>year=%{x}<br>Energy Consumption=%{y}<extra></extra>",
           "legendgroup": "hydro_consumption",
           "marker": {
            "color": "#1E90FF",
            "symbol": "circle"
           },
           "mode": "markers",
           "name": "hydro_consumption",
           "opacity": 1,
           "orientation": "v",
           "showlegend": true,
           "type": "scatter",
           "x": {
            "bdata": "5Ac=",
            "dtype": "i2"
           },
           "xaxis": "x",
           "y": {
            "bdata": "sp3vpzaMxEA=",
            "dtype": "f8"
           },
           "yaxis": "y"
          },
          {
           "hovertemplate": "Energy Type=other_renewable_consumption<br>frame=21<br>year=%{x}<br>Energy Consumption=%{y}<extra></extra>",
           "legendgroup": "other_renewable_consumption",
           "marker": {
            "color": "#32CD32",
            "symbol": "circle"
           },
           "mode": "markers",
           "name": "other_renewable_consumption",
           "opacity": 1,
           "orientation": "v",
           "showlegend": true,
           "type": "scatter",
           "x": {
            "bdata": "5Ac=",
            "dtype": "i2"
           },
           "xaxis": "x",
           "y": {
            "bdata": "qMZLN4mJoEA=",
            "dtype": "f8"
           },
           "yaxis": "y"
          },
          {
           "hovertemplate": "Energy Type=solar_consumption<br>frame=21<br>year=%{x}<br>Energy Consumption=%{y}<extra></extra>",
           "legendgroup": "solar_consumption",
           "marker": {
            "color": "#FF4500",
            "symbol": "circle"
           },
           "mode": "markers",
           "name": "solar_consumption",
           "opacity": 1,
           "orientation": "v",
           "showlegend": true,
           "type": "scatter",
           "x": {
            "bdata": "5Ac=",
            "dtype": "i2"
           },
           "xaxis": "x",
           "y": {
            "bdata": "2c73U2NDoUA=",
            "dtype": "f8"
           },
           "yaxis": "y"
          },
          {
           "hovertemplate": "Energy Type=wind_consumption<br>frame=21<br>year=%{x}<br>Energy Consumption=%{y}<extra></extra>",
           "legendgroup": "wind_consumption",
           "marker": {
            "color": "#8A2BE2",
            "symbol": "circle"
           },
           "mode": "markers",
           "name": "wind_consumption",
           "opacity": 1,
           "orientation": "v",
           "showlegend": true,
           "type": "scatter",
           "x": {
            "bdata": "5Ac=",
            "dtype": "i2"
           },
           "xaxis": "x",
           "y": {
            "bdata": "I9v5fiorsEA=",
            "dtype": "f8"
           },
           "yaxis": "y"
          }
         ],
         "name": "21"
        },
        {
         "data": [
          {
           "hovertemplate": "Energy Type=hydro_consumption<br>frame=22<br>year=%{x}<br>Energy Consumption=%{y}<extra></extra>",
           "legendgroup": "hydro_consumption",
           "line": {
            "color": "#1E90FF",
            "dash": "solid"
           },
           "marker": {
            "symbol": "circle"
           },
           "mode": "lines",
           "name": "hydro_consumption",
           "opacity": 0.8,
           "orientation": "v",
           "showlegend": false,
           "type": "scatter",
           "x": {
            "bdata": "0AfRB9IH0wfUB9UH1gfXB9gH2QfaB9sH3AfdB94H3wfgB+EH4gfjB+QH5Qc=",
            "dtype": "i2"
           },
           "xaxis": "x",
           "y": {
            "bdata": "bxKDwOr/u0DHSzeJIRW7QMdLN4mBV7tAzczMzIwMu0CkcD0KF/K8QESLbOd7wb1A7nw/NT7HvkBzaJHtnBa/QGDl0CLba8BADi2ynT9FwECcxCCwgv7AQDeJQWDlOsFAoBov3ZThwUCyne+nxm3CQEJg5dAy4sJAfT81XkrGwkDTTWIQyETDQCuHFtnuZcNA46WbxCDHw0Cyne+nhhXEQLKd76c2jMRA8KfGS0f8w0A=",
            "dtype": "f8"
           },
           "yaxis": "y"
          },
          {
           "hovertemplate": "Energy Type=other_renewable_consumption<br>frame=22<br>year=%{x}<br>Energy Consumption=%{y}<extra></extra>",
           "legendgroup": "other_renewable_consumption",
           "line": {
            "color": "#32CD32",
            "dash": "solid"
           },
           "marker": {
            "symbol": "circle"
           },
           "mode": "lines",
           "name": "other_renewable_consumption",
           "opacity": 0.8,
           "orientation": "v",
           "showlegend": false,
           "type": "scatter",
           "x": {
            "bdata": "0AfRB9IH0wfUB9UH1gfXB9gH2QfaB9sH3AfdB94H3wfgB+EH4gfjB+QH5Qc=",
            "dtype": "i2"
           },
           "xaxis": "x",
           "y": {
            "bdata": "bOf7qfFEgUBKDAIrh+2BQHe+nxovV4NAqMZLN4lqhECcxCCwcg+GQLByaJHt84dA7FG4HoVyiUBaZDvfT6+LQC/dJAaBjI1AeekmMQi9j0BCYOXQoseRQKRwPQrXrZJATmIQWLk6lED+1HjpJtiVQHsUrkfhnZdAN4lBYGWCmUCmm8QgsOCZQFYOLbIdmptA4XoUrkfdnUDhehSuR1OfQKjGSzeJiaBABFYOLXK1oUA=",
            "dtype": "f8"
           },
           "yaxis": "y"
          },
          {
           "hovertemplate": "Energy Type=solar_consumption<br>frame=22<br>year=%{x}<br>Energy Consumption=%{y}<extra></extra>",
           "legendgroup": "solar_consumption",
           "line": {
            "color": "#FF4500",
            "dash": "solid"
           },
           "marker": {
            "symbol": "circle"
           },
           "mode": "lines",
           "name": "solar_consumption",
           "opacity": 0.8,
           "orientation": "v",
           "showlegend": false,
           "type": "scatter",
           "x": {
            "bdata": "0AfRB9IH0wfUB9UH1gfXB9gH2QfaB9sH3AfdB94H3wfgB+EH4gfjB+QH5Qc=",
            "dtype": "i2"
           },
           "xaxis": "x",
           "y": {
            "bdata": "Vg4tsp3vCECkcD0K16MQQPyp8dJN4hRAarx0kxgEGkD4U+OlmwQhQMUgsHJo0SdAYhBYObRIMECHFtnO9/M1QGZmZmZmtkFAAAAAAABATUAlBoGVQ1tXQNejcD0Ke2ZAAAAAAABEcUAMAiuHFnF3QI/C9ShcloBAMzMzMzNVhUCgGi/dJByLQIlBYOXQSpJARrbz/dR5l0D4U+Olm6OcQNnO91NjQ6FAzczMzExTpUA=",
            "dtype": "f8"
           },
           "yaxis": "y"
          },
          {
           "hovertemplate": "Energy Type=wind_consumption<br>frame=22<br>year=%{x}<br>Energy Consumption=%{y}<extra></extra>",
           "legendgroup": "wind_consumption",
           "line": {
            "color": "#8A2BE2",
            "dash": "solid"
           },
           "marker": {
            "symbol": "circle"
           },
           "mode": "lines",
           "name": "wind_consumption",
           "opacity": 0.8,
           "orientation": "v",
           "showlegend": false,
           "type": "scatter",
           "x": {
            "bdata": "0AfRB9IH0wfUB9UH1gfXB9gH2QfaB9sH3AfdB94H3wfgB+EH4gfjB+QH5Qc=",
            "dtype": "i2"
           },
           "xaxis": "x",
           "y": {
            "bdata": "gZVDi2wHV0ASg8DKof1bQFg5tMh2+mJA2/l+arzQZkDP91Pjpa9uQEw3iUFgp3JAQmDl0CKnd0DpJjEIrDh+QLKd76fGZoNAqMZLN4kUiECe76fGS/KNQKAaL92k7pJAEFg5tEihlkDjpZvEoOuaQGIQWDm0qZ1A46WbxOBRoUBzaJHtfOujQJZDi2zngqdAZTvfT030qUBFtvP9FOesQCPb+X4qK7BA7nw/Nd7AskA=",
            "dtype": "f8"
           },
           "yaxis": "y"
          },
          {
           "hovertemplate": "Energy Type=hydro_consumption<br>frame=22<br>year=%{x}<br>Energy Consumption=%{y}<extra></extra>",
           "legendgroup": "hydro_consumption",
           "marker": {
            "color": "#1E90FF",
            "symbol": "circle"
           },
           "mode": "markers",
           "name": "hydro_consumption",
           "opacity": 1,
           "orientation": "v",
           "showlegend": true,
           "type": "scatter",
           "x": {
            "bdata": "5Qc=",
            "dtype": "i2"
           },
           "xaxis": "x",
           "y": {
            "bdata": "8KfGS0f8w0A=",
            "dtype": "f8"
           },
           "yaxis": "y"
          },
          {
           "hovertemplate": "Energy Type=other_renewable_consumption<br>frame=22<br>year=%{x}<br>Energy Consumption=%{y}<extra></extra>",
           "legendgroup": "other_renewable_consumption",
           "marker": {
            "color": "#32CD32",
            "symbol": "circle"
           },
           "mode": "markers",
           "name": "other_renewable_consumption",
           "opacity": 1,
           "orientation": "v",
           "showlegend": true,
           "type": "scatter",
           "x": {
            "bdata": "5Qc=",
            "dtype": "i2"
           },
           "xaxis": "x",
           "y": {
            "bdata": "BFYOLXK1oUA=",
            "dtype": "f8"
           },
           "yaxis": "y"
          },
          {
           "hovertemplate": "Energy Type=solar_consumption<br>frame=22<br>year=%{x}<br>Energy Consumption=%{y}<extra></extra>",
           "legendgroup": "solar_consumption",
           "marker": {
            "color": "#FF4500",
            "symbol": "circle"
           },
           "mode": "markers",
           "name": "solar_consumption",
           "opacity": 1,
           "orientation": "v",
           "showlegend": true,
           "type": "scatter",
           "x": {
            "bdata": "5Qc=",
            "dtype": "i2"
           },
           "xaxis": "x",
           "y": {
            "bdata": "zczMzExTpUA=",
            "dtype": "f8"
           },
           "yaxis": "y"
          },
          {
           "hovertemplate": "Energy Type=wind_consumption<br>frame=22<br>year=%{x}<br>Energy Consumption=%{y}<extra></extra>",
           "legendgroup": "wind_consumption",
           "marker": {
            "color": "#8A2BE2",
            "symbol": "circle"
           },
           "mode": "markers",
           "name": "wind_consumption",
           "opacity": 1,
           "orientation": "v",
           "showlegend": true,
           "type": "scatter",
           "x": {
            "bdata": "5Qc=",
            "dtype": "i2"
           },
           "xaxis": "x",
           "y": {
            "bdata": "7nw/Nd7AskA=",
            "dtype": "f8"
           },
           "yaxis": "y"
          }
         ],
         "name": "22"
        },
        {
         "data": [
          {
           "hovertemplate": "Energy Type=hydro_consumption<br>frame=23<br>year=%{x}<br>Energy Consumption=%{y}<extra></extra>",
           "legendgroup": "hydro_consumption",
           "line": {
            "color": "#1E90FF",
            "dash": "solid"
           },
           "marker": {
            "symbol": "circle"
           },
           "mode": "lines",
           "name": "hydro_consumption",
           "opacity": 0.8,
           "orientation": "v",
           "showlegend": false,
           "type": "scatter",
           "x": {
            "bdata": "0AfRB9IH0wfUB9UH1gfXB9gH2QfaB9sH3AfdB94H3wfgB+EH4gfjB+QH5QfmBw==",
            "dtype": "i2"
           },
           "xaxis": "x",
           "y": {
            "bdata": "bxKDwOr/u0DHSzeJIRW7QMdLN4mBV7tAzczMzIwMu0CkcD0KF/K8QESLbOd7wb1A7nw/NT7HvkBzaJHtnBa/QGDl0CLba8BADi2ynT9FwECcxCCwgv7AQDeJQWDlOsFAoBov3ZThwUCyne+nxm3CQEJg5dAy4sJAfT81XkrGwkDTTWIQyETDQCuHFtnuZcNA46WbxCDHw0Cyne+nhhXEQLKd76c2jMRA8KfGS0f8w0BBYOXQQhrEQA==",
            "dtype": "f8"
           },
           "yaxis": "y"
          },
          {
           "hovertemplate": "Energy Type=other_renewable_consumption<br>frame=23<br>year=%{x}<br>Energy Consumption=%{y}<extra></extra>",
           "legendgroup": "other_renewable_consumption",
           "line": {
            "color": "#32CD32",
            "dash": "solid"
           },
           "marker": {
            "symbol": "circle"
           },
           "mode": "lines",
           "name": "other_renewable_consumption",
           "opacity": 0.8,
           "orientation": "v",
           "showlegend": false,
           "type": "scatter",
           "x": {
            "bdata": "0AfRB9IH0wfUB9UH1gfXB9gH2QfaB9sH3AfdB94H3wfgB+EH4gfjB+QH5QfmBw==",
            "dtype": "i2"
           },
           "xaxis": "x",
           "y": {
            "bdata": "bOf7qfFEgUBKDAIrh+2BQHe+nxovV4NAqMZLN4lqhECcxCCwcg+GQLByaJHt84dA7FG4HoVyiUBaZDvfT6+LQC/dJAaBjI1AeekmMQi9j0BCYOXQoseRQKRwPQrXrZJATmIQWLk6lED+1HjpJtiVQHsUrkfhnZdAN4lBYGWCmUCmm8QgsOCZQFYOLbIdmptA4XoUrkfdnUDhehSuR1OfQKjGSzeJiaBABFYOLXK1oUDo+6nxklKiQA==",
            "dtype": "f8"
           },
           "yaxis": "y"
          },
          {
           "hovertemplate": "Energy Type=solar_consumption<br>frame=23<br>year=%{x}<br>Energy Consumption=%{y}<extra></extra>",
           "legendgroup": "solar_consumption",
           "line": {
            "color": "#FF4500",
            "dash": "solid"
           },
           "marker": {
            "symbol": "circle"
           },
           "mode": "lines",
           "name": "solar_consumption",
           "opacity": 0.8,
           "orientation": "v",
           "showlegend": false,
           "type": "scatter",
           "x": {
            "bdata": "0AfRB9IH0wfUB9UH1gfXB9gH2QfaB9sH3AfdB94H3wfgB+EH4gfjB+QH5QfmBw==",
            "dtype": "i2"
           },
           "xaxis": "x",
           "y": {
            "bdata": "Vg4tsp3vCECkcD0K16MQQPyp8dJN4hRAarx0kxgEGkD4U+OlmwQhQMUgsHJo0SdAYhBYObRIMECHFtnO9/M1QGZmZmZmtkFAAAAAAABATUAlBoGVQ1tXQNejcD0Ke2ZAAAAAAABEcUAMAiuHFnF3QI/C9ShcloBAMzMzMzNVhUCgGi/dJByLQIlBYOXQSpJARrbz/dR5l0D4U+Olm6OcQNnO91NjQ6FAzczMzExTpUDJdr6f2o6qQA==",
            "dtype": "f8"
           },
           "yaxis": "y"
          },
          {
           "hovertemplate": "Energy Type=wind_consumption<br>frame=23<br>year=%{x}<br>Energy Consumption=%{y}<extra></extra>",
           "legendgroup": "wind_consumption",
           "line": {
            "color": "#8A2BE2",
            "dash": "solid"
           },
           "marker": {
            "symbol": "circle"
           },
           "mode": "lines",
           "name": "wind_consumption",
           "opacity": 0.8,
           "orientation": "v",
           "showlegend": false,
           "type": "scatter",
           "x": {
            "bdata": "0AfRB9IH0wfUB9UH1gfXB9gH2QfaB9sH3AfdB94H3wfgB+EH4gfjB+QH5QfmBw==",
            "dtype": "i2"
           },
           "xaxis": "x",
           "y": {
            "bdata": "gZVDi2wHV0ASg8DKof1bQFg5tMh2+mJA2/l+arzQZkDP91Pjpa9uQEw3iUFgp3JAQmDl0CKnd0DpJjEIrDh+QLKd76fGZoNAqMZLN4kUiECe76fGS/KNQKAaL92k7pJAEFg5tEihlkDjpZvEoOuaQGIQWDm0qZ1A46WbxOBRoUBzaJHtfOujQJZDi2zngqdAZTvfT030qUBFtvP9FOesQCPb+X4qK7BA7nw/Nd7AskCYbhKDgD21QA==",
            "dtype": "f8"
           },
           "yaxis": "y"
          },
          {
           "hovertemplate": "Energy Type=hydro_consumption<br>frame=23<br>year=%{x}<br>Energy Consumption=%{y}<extra></extra>",
           "legendgroup": "hydro_consumption",
           "marker": {
            "color": "#1E90FF",
            "symbol": "circle"
           },
           "mode": "markers",
           "name": "hydro_consumption",
           "opacity": 1,
           "orientation": "v",
           "showlegend": true,
           "type": "scatter",
           "x": {
            "bdata": "5gc=",
            "dtype": "i2"
           },
           "xaxis": "x",
           "y": {
            "bdata": "QWDl0EIaxEA=",
            "dtype": "f8"
           },
           "yaxis": "y"
          },
          {
           "hovertemplate": "Energy Type=other_renewable_consumption<br>frame=23<br>year=%{x}<br>Energy Consumption=%{y}<extra></extra>",
           "legendgroup": "other_renewable_consumption",
           "marker": {
            "color": "#32CD32",
            "symbol": "circle"
           },
           "mode": "markers",
           "name": "other_renewable_consumption",
           "opacity": 1,
           "orientation": "v",
           "showlegend": true,
           "type": "scatter",
           "x": {
            "bdata": "5gc=",
            "dtype": "i2"
           },
           "xaxis": "x",
           "y": {
            "bdata": "6Pup8ZJSokA=",
            "dtype": "f8"
           },
           "yaxis": "y"
          },
          {
           "hovertemplate": "Energy Type=solar_consumption<br>frame=23<br>year=%{x}<br>Energy Consumption=%{y}<extra></extra>",
           "legendgroup": "solar_consumption",
           "marker": {
            "color": "#FF4500",
            "symbol": "circle"
           },
           "mode": "markers",
           "name": "solar_consumption",
           "opacity": 1,
           "orientation": "v",
           "showlegend": true,
           "type": "scatter",
           "x": {
            "bdata": "5gc=",
            "dtype": "i2"
           },
           "xaxis": "x",
           "y": {
            "bdata": "yXa+n9qOqkA=",
            "dtype": "f8"
           },
           "yaxis": "y"
          },
          {
           "hovertemplate": "Energy Type=wind_consumption<br>frame=23<br>year=%{x}<br>Energy Consumption=%{y}<extra></extra>",
           "legendgroup": "wind_consumption",
           "marker": {
            "color": "#8A2BE2",
            "symbol": "circle"
           },
           "mode": "markers",
           "name": "wind_consumption",
           "opacity": 1,
           "orientation": "v",
           "showlegend": true,
           "type": "scatter",
           "x": {
            "bdata": "5gc=",
            "dtype": "i2"
           },
           "xaxis": "x",
           "y": {
            "bdata": "mG4Sg4A9tUA=",
            "dtype": "f8"
           },
           "yaxis": "y"
          }
         ],
         "name": "23"
        }
       ],
       "layout": {
        "font": {
         "size": 18
        },
        "height": 500,
        "legend": {
         "title": {
          "text": "Energy group"
         },
         "tracegroupgap": 0
        },
        "margin": {
         "t": 60
        },
        "showlegend": true,
        "template": {
         "data": {
          "bar": [
           {
            "error_x": {
             "color": "#2a3f5f"
            },
            "error_y": {
             "color": "#2a3f5f"
            },
            "marker": {
             "line": {
              "color": "#E5ECF6",
              "width": 0.5
             },
             "pattern": {
              "fillmode": "overlay",
              "size": 10,
              "solidity": 0.2
             }
            },
            "type": "bar"
           }
          ],
          "barpolar": [
           {
            "marker": {
             "line": {
              "color": "#E5ECF6",
              "width": 0.5
             },
             "pattern": {
              "fillmode": "overlay",
              "size": 10,
              "solidity": 0.2
             }
            },
            "type": "barpolar"
           }
          ],
          "carpet": [
           {
            "aaxis": {
             "endlinecolor": "#2a3f5f",
             "gridcolor": "white",
             "linecolor": "white",
             "minorgridcolor": "white",
             "startlinecolor": "#2a3f5f"
            },
            "baxis": {
             "endlinecolor": "#2a3f5f",
             "gridcolor": "white",
             "linecolor": "white",
             "minorgridcolor": "white",
             "startlinecolor": "#2a3f5f"
            },
            "type": "carpet"
           }
          ],
          "choropleth": [
           {
            "colorbar": {
             "outlinewidth": 0,
             "ticks": ""
            },
            "type": "choropleth"
           }
          ],
          "contour": [
           {
            "colorbar": {
             "outlinewidth": 0,
             "ticks": ""
            },
            "colorscale": [
             [
              0,
              "#0d0887"
             ],
             [
              0.1111111111111111,
              "#46039f"
             ],
             [
              0.2222222222222222,
              "#7201a8"
             ],
             [
              0.3333333333333333,
              "#9c179e"
             ],
             [
              0.4444444444444444,
              "#bd3786"
             ],
             [
              0.5555555555555556,
              "#d8576b"
             ],
             [
              0.6666666666666666,
              "#ed7953"
             ],
             [
              0.7777777777777778,
              "#fb9f3a"
             ],
             [
              0.8888888888888888,
              "#fdca26"
             ],
             [
              1,
              "#f0f921"
             ]
            ],
            "type": "contour"
           }
          ],
          "contourcarpet": [
           {
            "colorbar": {
             "outlinewidth": 0,
             "ticks": ""
            },
            "type": "contourcarpet"
           }
          ],
          "heatmap": [
           {
            "colorbar": {
             "outlinewidth": 0,
             "ticks": ""
            },
            "colorscale": [
             [
              0,
              "#0d0887"
             ],
             [
              0.1111111111111111,
              "#46039f"
             ],
             [
              0.2222222222222222,
              "#7201a8"
             ],
             [
              0.3333333333333333,
              "#9c179e"
             ],
             [
              0.4444444444444444,
              "#bd3786"
             ],
             [
              0.5555555555555556,
              "#d8576b"
             ],
             [
              0.6666666666666666,
              "#ed7953"
             ],
             [
              0.7777777777777778,
              "#fb9f3a"
             ],
             [
              0.8888888888888888,
              "#fdca26"
             ],
             [
              1,
              "#f0f921"
             ]
            ],
            "type": "heatmap"
           }
          ],
          "histogram": [
           {
            "marker": {
             "pattern": {
              "fillmode": "overlay",
              "size": 10,
              "solidity": 0.2
             }
            },
            "type": "histogram"
           }
          ],
          "histogram2d": [
           {
            "colorbar": {
             "outlinewidth": 0,
             "ticks": ""
            },
            "colorscale": [
             [
              0,
              "#0d0887"
             ],
             [
              0.1111111111111111,
              "#46039f"
             ],
             [
              0.2222222222222222,
              "#7201a8"
             ],
             [
              0.3333333333333333,
              "#9c179e"
             ],
             [
              0.4444444444444444,
              "#bd3786"
             ],
             [
              0.5555555555555556,
              "#d8576b"
             ],
             [
              0.6666666666666666,
              "#ed7953"
             ],
             [
              0.7777777777777778,
              "#fb9f3a"
             ],
             [
              0.8888888888888888,
              "#fdca26"
             ],
             [
              1,
              "#f0f921"
             ]
            ],
            "type": "histogram2d"
           }
          ],
          "histogram2dcontour": [
           {
            "colorbar": {
             "outlinewidth": 0,
             "ticks": ""
            },
            "colorscale": [
             [
              0,
              "#0d0887"
             ],
             [
              0.1111111111111111,
              "#46039f"
             ],
             [
              0.2222222222222222,
              "#7201a8"
             ],
             [
              0.3333333333333333,
              "#9c179e"
             ],
             [
              0.4444444444444444,
              "#bd3786"
             ],
             [
              0.5555555555555556,
              "#d8576b"
             ],
             [
              0.6666666666666666,
              "#ed7953"
             ],
             [
              0.7777777777777778,
              "#fb9f3a"
             ],
             [
              0.8888888888888888,
              "#fdca26"
             ],
             [
              1,
              "#f0f921"
             ]
            ],
            "type": "histogram2dcontour"
           }
          ],
          "mesh3d": [
           {
            "colorbar": {
             "outlinewidth": 0,
             "ticks": ""
            },
            "type": "mesh3d"
           }
          ],
          "parcoords": [
           {
            "line": {
             "colorbar": {
              "outlinewidth": 0,
              "ticks": ""
             }
            },
            "type": "parcoords"
           }
          ],
          "pie": [
           {
            "automargin": true,
            "type": "pie"
           }
          ],
          "scatter": [
           {
            "fillpattern": {
             "fillmode": "overlay",
             "size": 10,
             "solidity": 0.2
            },
            "type": "scatter"
           }
          ],
          "scatter3d": [
           {
            "line": {
             "colorbar": {
              "outlinewidth": 0,
              "ticks": ""
             }
            },
            "marker": {
             "colorbar": {
              "outlinewidth": 0,
              "ticks": ""
             }
            },
            "type": "scatter3d"
           }
          ],
          "scattercarpet": [
           {
            "marker": {
             "colorbar": {
              "outlinewidth": 0,
              "ticks": ""
             }
            },
            "type": "scattercarpet"
           }
          ],
          "scattergeo": [
           {
            "marker": {
             "colorbar": {
              "outlinewidth": 0,
              "ticks": ""
             }
            },
            "type": "scattergeo"
           }
          ],
          "scattergl": [
           {
            "marker": {
             "colorbar": {
              "outlinewidth": 0,
              "ticks": ""
             }
            },
            "type": "scattergl"
           }
          ],
          "scattermap": [
           {
            "marker": {
             "colorbar": {
              "outlinewidth": 0,
              "ticks": ""
             }
            },
            "type": "scattermap"
           }
          ],
          "scattermapbox": [
           {
            "marker": {
             "colorbar": {
              "outlinewidth": 0,
              "ticks": ""
             }
            },
            "type": "scattermapbox"
           }
          ],
          "scatterpolar": [
           {
            "marker": {
             "colorbar": {
              "outlinewidth": 0,
              "ticks": ""
             }
            },
            "type": "scatterpolar"
           }
          ],
          "scatterpolargl": [
           {
            "marker": {
             "colorbar": {
              "outlinewidth": 0,
              "ticks": ""
             }
            },
            "type": "scatterpolargl"
           }
          ],
          "scatterternary": [
           {
            "marker": {
             "colorbar": {
              "outlinewidth": 0,
              "ticks": ""
             }
            },
            "type": "scatterternary"
           }
          ],
          "surface": [
           {
            "colorbar": {
             "outlinewidth": 0,
             "ticks": ""
            },
            "colorscale": [
             [
              0,
              "#0d0887"
             ],
             [
              0.1111111111111111,
              "#46039f"
             ],
             [
              0.2222222222222222,
              "#7201a8"
             ],
             [
              0.3333333333333333,
              "#9c179e"
             ],
             [
              0.4444444444444444,
              "#bd3786"
             ],
             [
              0.5555555555555556,
              "#d8576b"
             ],
             [
              0.6666666666666666,
              "#ed7953"
             ],
             [
              0.7777777777777778,
              "#fb9f3a"
             ],
             [
              0.8888888888888888,
              "#fdca26"
             ],
             [
              1,
              "#f0f921"
             ]
            ],
            "type": "surface"
           }
          ],
          "table": [
           {
            "cells": {
             "fill": {
              "color": "#EBF0F8"
             },
             "line": {
              "color": "white"
             }
            },
            "header": {
             "fill": {
              "color": "#C8D4E3"
             },
             "line": {
              "color": "white"
             }
            },
            "type": "table"
           }
          ]
         },
         "layout": {
          "annotationdefaults": {
           "arrowcolor": "#2a3f5f",
           "arrowhead": 0,
           "arrowwidth": 1
          },
          "autotypenumbers": "strict",
          "coloraxis": {
           "colorbar": {
            "outlinewidth": 0,
            "ticks": ""
           }
          },
          "colorscale": {
           "diverging": [
            [
             0,
             "#8e0152"
            ],
            [
             0.1,
             "#c51b7d"
            ],
            [
             0.2,
             "#de77ae"
            ],
            [
             0.3,
             "#f1b6da"
            ],
            [
             0.4,
             "#fde0ef"
            ],
            [
             0.5,
             "#f7f7f7"
            ],
            [
             0.6,
             "#e6f5d0"
            ],
            [
             0.7,
             "#b8e186"
            ],
            [
             0.8,
             "#7fbc41"
            ],
            [
             0.9,
             "#4d9221"
            ],
            [
             1,
             "#276419"
            ]
           ],
           "sequential": [
            [
             0,
             "#0d0887"
            ],
            [
             0.1111111111111111,
             "#46039f"
            ],
            [
             0.2222222222222222,
             "#7201a8"
            ],
            [
             0.3333333333333333,
             "#9c179e"
            ],
            [
             0.4444444444444444,
             "#bd3786"
            ],
            [
             0.5555555555555556,
             "#d8576b"
            ],
            [
             0.6666666666666666,
             "#ed7953"
            ],
            [
             0.7777777777777778,
             "#fb9f3a"
            ],
            [
             0.8888888888888888,
             "#fdca26"
            ],
            [
             1,
             "#f0f921"
            ]
           ],
           "sequentialminus": [
            [
             0,
             "#0d0887"
            ],
            [
             0.1111111111111111,
             "#46039f"
            ],
            [
             0.2222222222222222,
             "#7201a8"
            ],
            [
             0.3333333333333333,
             "#9c179e"
            ],
            [
             0.4444444444444444,
             "#bd3786"
            ],
            [
             0.5555555555555556,
             "#d8576b"
            ],
            [
             0.6666666666666666,
             "#ed7953"
            ],
            [
             0.7777777777777778,
             "#fb9f3a"
            ],
            [
             0.8888888888888888,
             "#fdca26"
            ],
            [
             1,
             "#f0f921"
            ]
           ]
          },
          "colorway": [
           "#636efa",
           "#EF553B",
           "#00cc96",
           "#ab63fa",
           "#FFA15A",
           "#19d3f3",
           "#FF6692",
           "#B6E880",
           "#FF97FF",
           "#FECB52"
          ],
          "font": {
           "color": "#2a3f5f"
          },
          "geo": {
           "bgcolor": "white",
           "lakecolor": "white",
           "landcolor": "#E5ECF6",
           "showlakes": true,
           "showland": true,
           "subunitcolor": "white"
          },
          "hoverlabel": {
           "align": "left"
          },
          "hovermode": "closest",
          "mapbox": {
           "style": "light"
          },
          "paper_bgcolor": "white",
          "plot_bgcolor": "#E5ECF6",
          "polar": {
           "angularaxis": {
            "gridcolor": "white",
            "linecolor": "white",
            "ticks": ""
           },
           "bgcolor": "#E5ECF6",
           "radialaxis": {
            "gridcolor": "white",
            "linecolor": "white",
            "ticks": ""
           }
          },
          "scene": {
           "xaxis": {
            "backgroundcolor": "#E5ECF6",
            "gridcolor": "white",
            "gridwidth": 2,
            "linecolor": "white",
            "showbackground": true,
            "ticks": "",
            "zerolinecolor": "white"
           },
           "yaxis": {
            "backgroundcolor": "#E5ECF6",
            "gridcolor": "white",
            "gridwidth": 2,
            "linecolor": "white",
            "showbackground": true,
            "ticks": "",
            "zerolinecolor": "white"
           },
           "zaxis": {
            "backgroundcolor": "#E5ECF6",
            "gridcolor": "white",
            "gridwidth": 2,
            "linecolor": "white",
            "showbackground": true,
            "ticks": "",
            "zerolinecolor": "white"
           }
          },
          "shapedefaults": {
           "line": {
            "color": "#2a3f5f"
           }
          },
          "ternary": {
           "aaxis": {
            "gridcolor": "white",
            "linecolor": "white",
            "ticks": ""
           },
           "baxis": {
            "gridcolor": "white",
            "linecolor": "white",
            "ticks": ""
           },
           "bgcolor": "#E5ECF6",
           "caxis": {
            "gridcolor": "white",
            "linecolor": "white",
            "ticks": ""
           }
          },
          "title": {
           "x": 0.05
          },
          "xaxis": {
           "automargin": true,
           "gridcolor": "white",
           "linecolor": "white",
           "ticks": "",
           "title": {
            "standoff": 15
           },
           "zerolinecolor": "white",
           "zerolinewidth": 2
          },
          "yaxis": {
           "automargin": true,
           "gridcolor": "white",
           "linecolor": "white",
           "ticks": "",
           "title": {
            "standoff": 15
           },
           "zerolinecolor": "white",
           "zerolinewidth": 2
          }
         }
        },
        "title": {
         "text": "<b>Renewable Energy Consumption Growth</b>",
         "x": 0.5
        },
        "updatemenus": [
         {
          "buttons": [
           {
            "args": [
             null,
             {
              "frame": {
               "duration": 140,
               "redraw": false
              },
              "fromcurrent": true,
              "mode": "immediate",
              "transition": {
               "duration": 60,
               "easing": "linear",
               "redraw": true
              }
             }
            ],
            "label": "&#9654;",
            "method": "animate"
           },
           {
            "args": [
             [
              null
             ],
             {
              "frame": {
               "duration": 0,
               "redraw": false
              },
              "fromcurrent": true,
              "mode": "immediate",
              "transition": {
               "duration": 0,
               "easing": "linear"
              }
             }
            ],
            "label": "&#9724;",
            "method": "animate"
           }
          ],
          "direction": "left",
          "pad": {
           "r": 10,
           "t": 70
          },
          "showactive": false,
          "type": "buttons",
          "x": 0.1,
          "xanchor": "right",
          "y": 0,
          "yanchor": "top"
         }
        ],
        "width": 1000,
        "xaxis": {
         "anchor": "y",
         "domain": [
          0,
          1
         ],
         "linewidth": 2,
         "range": [
          2000,
          2022
         ],
         "tickfont": {
          "size": 10
         },
         "tickwidth": 2,
         "title": {
          "text": "Year"
         }
        },
        "yaxis": {
         "anchor": "x",
         "domain": [
          0,
          1
         ],
         "gridcolor": "#7a98cf",
         "griddash": "dot",
         "gridwidth": 0.5,
         "linewidth": 2,
         "range": [
          3.117,
          11572.469700000001
         ],
         "showgrid": true,
         "tickfont": {
          "size": 10
         },
         "tickwidth": 2,
         "title": {
          "text": "Amount of Energy Consumed"
         }
        }
       }
      }
     },
     "metadata": {},
     "output_type": "display_data"
    }
   ],
   "source": [
    "# Plot to Analyze Renewable Energy Consumption Growth\n",
    "\n",
    "df_plot = df_plot.sort_values(['year', 'Energy Type'], ignore_index=True)\n",
    "N_UNIQUE_Energy_type = df_plot['Energy Type'].nunique()\n",
    "custom_colors = {\n",
    "    \"hydro_consumption\": \"#1E90FF\",\n",
    "    \"solar_consumption\": \"#FF4500\",\n",
    "    \"wind_consumption\": \"#8A2BE2\",\n",
    "    \"other_renewable_consumption\": \"#32CD32\",\n",
    "}\n",
    "df_indexed = pd.DataFrame()\n",
    "for index in np.arange(start=0,\n",
    "                    stop=len(df_plot)+1,\n",
    "                    step=N_UNIQUE_Energy_type):\n",
    "    df_slicing = df_plot.iloc[:index].copy()\n",
    "    df_slicing['frame'] = (index//N_UNIQUE_Energy_type)\n",
    "    df_indexed = pd.concat([df_indexed, df_slicing])\n",
    "\n",
    "#Scatter Plot\n",
    "scatter_plot = px.scatter(\n",
    "    df_indexed,\n",
    "    x='year',\n",
    "    y='Energy Consumption',\n",
    "    color='Energy Type',\n",
    "    animation_frame='frame',\n",
    "    color_discrete_map=custom_colors\n",
    ")\n",
    "\n",
    "for frame in scatter_plot.frames:\n",
    "    for data in frame.data:\n",
    "        data.update(mode='markers',\n",
    "                    showlegend=True,\n",
    "                    opacity=1)\n",
    "        data['x'] = np.take(data['x'], [-1])\n",
    "        data['y'] = np.take(data['y'], [-1])\n",
    "        print\n",
    "        \n",
    "# Line Plot\n",
    "line_plot = px.line(\n",
    "    df_indexed,\n",
    "    x='year',\n",
    "    y='Energy Consumption',\n",
    "    color='Energy Type',\n",
    "    animation_frame='frame',\n",
    "    width=1000,\n",
    "    height=500,\n",
    "    color_discrete_map=custom_colors\n",
    ")\n",
    "\n",
    "line_plot.update_traces(showlegend=False)\n",
    "for frame in line_plot.frames:\n",
    "    for data in frame.data:\n",
    "        data.update(mode='lines', opacity=0.8, showlegend=False)\n",
    "\n",
    "# Combining Scatter and Line Plot\n",
    "combined_plot = go.Figure(\n",
    "    data=line_plot.data + scatter_plot.data,\n",
    "    frames=[\n",
    "        go.Frame(data=line_plot.data + scatter_plot.data, name=scatter_plot.name)\n",
    "        for line_plot, scatter_plot in zip(line_plot.frames, scatter_plot.frames)\n",
    "    ],\n",
    "    layout=line_plot.layout\n",
    ")\n",
    "\n",
    "combined_plot.update_yaxes(\n",
    "    gridcolor='#7a98cf',\n",
    "    griddash='dot',\n",
    "    gridwidth=.5,\n",
    "    linewidth=2,\n",
    "    tickwidth=2,\n",
    "    title_font=dict(size=16)\n",
    ")\n",
    "\n",
    "combined_plot.update_xaxes(\n",
    "    title_font=dict(size=16),\n",
    "    linewidth=2,\n",
    "    tickwidth=2\n",
    ")\n",
    "\n",
    "combined_plot.update_traces(\n",
    "    line=dict(width=5),\n",
    "    marker=dict(size=25))\n",
    "\n",
    "combined_plot.update_layout(\n",
    "    font=dict(size=18),\n",
    "    yaxis=dict(tickfont=dict(size=10)),\n",
    "    xaxis=dict(tickfont=dict(size=10)),\n",
    "    showlegend=True,\n",
    "    legend=dict(\n",
    "        title='Energy group'\n",
    "        ),\n",
    "    title=\"<b>Renewable Energy Consumption Growth</b>\",\n",
    "    yaxis_title=\"Amount of Energy Consumed\",\n",
    "    xaxis_title=\"Year\",\n",
    "    yaxis_showgrid=True,\n",
    "    xaxis_range=[df_indexed['year'].min(),\n",
    "                df_indexed['year'].max()],\n",
    "    yaxis_range=[df_indexed['Energy Consumption'].min(),\n",
    "                 df_indexed['Energy Consumption'].max() * 1.1],\n",
    "    title_x=0.5\n",
    ")\n",
    "# adjust speed of animation\n",
    "combined_plot['layout'].pop(\"sliders\")\n",
    "combined_plot.layout.updatemenus[0].buttons[0]['args'][1]['frame']['duration'] = 140\n",
    "combined_plot.layout.updatemenus[0].buttons[0]['args'][1]['transition']['duration'] = 60\n",
    "combined_plot.layout.updatemenus[0].buttons[0]['args'][1]['transition']['redraw'] = True\n",
    "combined_plot.show()"
   ]
  }
 ],
 "metadata": {
  "kernelspec": {
   "display_name": "base",
   "language": "python",
   "name": "python3"
  },
  "language_info": {
   "codemirror_mode": {
    "name": "ipython",
    "version": 3
   },
   "file_extension": ".py",
   "mimetype": "text/x-python",
   "name": "python",
   "nbconvert_exporter": "python",
   "pygments_lexer": "ipython3",
   "version": "3.12.8"
  }
 },
 "nbformat": 4,
 "nbformat_minor": 2
}
